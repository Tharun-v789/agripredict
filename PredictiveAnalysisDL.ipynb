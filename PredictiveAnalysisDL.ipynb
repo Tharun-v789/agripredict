{
 "cells": [
  {
   "cell_type": "markdown",
   "metadata": {},
   "source": [
    "# Predictive Analysis using Deep Learning\n",
    "We aim to predict the future prices of Agricultural Commodity using Deep Neural Networks"
   ]
  },
  {
   "cell_type": "markdown",
   "metadata": {},
   "source": [
    "## Importing Libraries\n"
   ]
  },
  {
   "cell_type": "code",
   "execution_count": 49,
   "metadata": {},
   "outputs": [],
   "source": [
    "# Importing the required libraries\n",
    "import numpy as np\n",
    "import pandas as pd\n",
    "import matplotlib.pyplot as plt\n",
    "import seaborn as sns\n",
    "\n",
    "# TensorFlow and tf.keras\n",
    "import tensorflow as tf\n",
    "from tensorflow import keras\n",
    "from keras import layers, models\n",
    "from keras.models import Sequential\n",
    "from keras.layers import Dense, Activation, Flatten, Dropout\n",
    "from keras.optimizers import Adam\n",
    "from keras.metrics import mean_squared_error\n",
    "from tensorflow.keras.callbacks import EarlyStopping, ReduceLROnPlateau\n",
    "\n",
    "# sklearn\n",
    "from sklearn.model_selection import train_test_split\n",
    "from sklearn.preprocessing import StandardScaler\n",
    "from sklearn.utils import shuffle\n"
   ]
  },
  {
   "cell_type": "markdown",
   "metadata": {},
   "source": [
    "## Loading the Data"
   ]
  },
  {
   "cell_type": "code",
   "execution_count": 50,
   "metadata": {},
   "outputs": [
    {
     "data": {
      "text/html": [
       "<div>\n",
       "<style scoped>\n",
       "    .dataframe tbody tr th:only-of-type {\n",
       "        vertical-align: middle;\n",
       "    }\n",
       "\n",
       "    .dataframe tbody tr th {\n",
       "        vertical-align: top;\n",
       "    }\n",
       "\n",
       "    .dataframe thead th {\n",
       "        text-align: right;\n",
       "    }\n",
       "</style>\n",
       "<table border=\"1\" class=\"dataframe\">\n",
       "  <thead>\n",
       "    <tr style=\"text-align: right;\">\n",
       "      <th></th>\n",
       "      <th>Min</th>\n",
       "      <th>Max</th>\n",
       "      <th>Modal</th>\n",
       "      <th>Year</th>\n",
       "      <th>Month</th>\n",
       "      <th>Day</th>\n",
       "      <th>Variety_BELLARY RED</th>\n",
       "      <th>Variety_LOCAL</th>\n",
       "      <th>Variety_ONION</th>\n",
       "      <th>Variety_OTHER</th>\n",
       "      <th>Variety_PUNA</th>\n",
       "      <th>Grade_FAQ</th>\n",
       "      <th>Grade_LARGE</th>\n",
       "      <th>Grade_MEDIUM</th>\n",
       "      <th>Grade_SMALL</th>\n",
       "    </tr>\n",
       "  </thead>\n",
       "  <tbody>\n",
       "    <tr>\n",
       "      <th>13178</th>\n",
       "      <td>1800.0</td>\n",
       "      <td>2400.0</td>\n",
       "      <td>2100.0</td>\n",
       "      <td>2021.0</td>\n",
       "      <td>1.0</td>\n",
       "      <td>1.0</td>\n",
       "      <td>0.0</td>\n",
       "      <td>1.0</td>\n",
       "      <td>0.0</td>\n",
       "      <td>0.0</td>\n",
       "      <td>0.0</td>\n",
       "      <td>0.0</td>\n",
       "      <td>0.0</td>\n",
       "      <td>0.0</td>\n",
       "      <td>0.0</td>\n",
       "    </tr>\n",
       "    <tr>\n",
       "      <th>13179</th>\n",
       "      <td>1800.0</td>\n",
       "      <td>2400.0</td>\n",
       "      <td>2100.0</td>\n",
       "      <td>2021.0</td>\n",
       "      <td>1.0</td>\n",
       "      <td>2.0</td>\n",
       "      <td>0.0</td>\n",
       "      <td>1.0</td>\n",
       "      <td>0.0</td>\n",
       "      <td>0.0</td>\n",
       "      <td>0.0</td>\n",
       "      <td>0.0</td>\n",
       "      <td>0.0</td>\n",
       "      <td>0.0</td>\n",
       "      <td>0.0</td>\n",
       "    </tr>\n",
       "    <tr>\n",
       "      <th>13180</th>\n",
       "      <td>2000.0</td>\n",
       "      <td>2500.0</td>\n",
       "      <td>2250.0</td>\n",
       "      <td>2021.0</td>\n",
       "      <td>1.0</td>\n",
       "      <td>4.0</td>\n",
       "      <td>0.0</td>\n",
       "      <td>1.0</td>\n",
       "      <td>0.0</td>\n",
       "      <td>0.0</td>\n",
       "      <td>0.0</td>\n",
       "      <td>0.0</td>\n",
       "      <td>0.0</td>\n",
       "      <td>0.0</td>\n",
       "      <td>0.0</td>\n",
       "    </tr>\n",
       "    <tr>\n",
       "      <th>13181</th>\n",
       "      <td>2000.0</td>\n",
       "      <td>2500.0</td>\n",
       "      <td>2250.0</td>\n",
       "      <td>2021.0</td>\n",
       "      <td>1.0</td>\n",
       "      <td>5.0</td>\n",
       "      <td>0.0</td>\n",
       "      <td>1.0</td>\n",
       "      <td>0.0</td>\n",
       "      <td>0.0</td>\n",
       "      <td>0.0</td>\n",
       "      <td>0.0</td>\n",
       "      <td>0.0</td>\n",
       "      <td>0.0</td>\n",
       "      <td>0.0</td>\n",
       "    </tr>\n",
       "    <tr>\n",
       "      <th>13182</th>\n",
       "      <td>2000.0</td>\n",
       "      <td>2600.0</td>\n",
       "      <td>2300.0</td>\n",
       "      <td>2021.0</td>\n",
       "      <td>1.0</td>\n",
       "      <td>6.0</td>\n",
       "      <td>0.0</td>\n",
       "      <td>1.0</td>\n",
       "      <td>0.0</td>\n",
       "      <td>0.0</td>\n",
       "      <td>0.0</td>\n",
       "      <td>0.0</td>\n",
       "      <td>0.0</td>\n",
       "      <td>0.0</td>\n",
       "      <td>0.0</td>\n",
       "    </tr>\n",
       "  </tbody>\n",
       "</table>\n",
       "</div>"
      ],
      "text/plain": [
       "          Min     Max   Modal    Year  Month  Day  Variety_BELLARY RED  \\\n",
       "13178  1800.0  2400.0  2100.0  2021.0    1.0  1.0                  0.0   \n",
       "13179  1800.0  2400.0  2100.0  2021.0    1.0  2.0                  0.0   \n",
       "13180  2000.0  2500.0  2250.0  2021.0    1.0  4.0                  0.0   \n",
       "13181  2000.0  2500.0  2250.0  2021.0    1.0  5.0                  0.0   \n",
       "13182  2000.0  2600.0  2300.0  2021.0    1.0  6.0                  0.0   \n",
       "\n",
       "       Variety_LOCAL  Variety_ONION  Variety_OTHER  Variety_PUNA  Grade_FAQ  \\\n",
       "13178            1.0            0.0            0.0           0.0        0.0   \n",
       "13179            1.0            0.0            0.0           0.0        0.0   \n",
       "13180            1.0            0.0            0.0           0.0        0.0   \n",
       "13181            1.0            0.0            0.0           0.0        0.0   \n",
       "13182            1.0            0.0            0.0           0.0        0.0   \n",
       "\n",
       "       Grade_LARGE  Grade_MEDIUM  Grade_SMALL  \n",
       "13178          0.0           0.0          0.0  \n",
       "13179          0.0           0.0          0.0  \n",
       "13180          0.0           0.0          0.0  \n",
       "13181          0.0           0.0          0.0  \n",
       "13182          0.0           0.0          0.0  "
      ]
     },
     "execution_count": 50,
     "metadata": {},
     "output_type": "execute_result"
    }
   ],
   "source": [
    "# Loading the data\n",
    "bengaluru_df = pd.read_csv('preprocessed_krama_report_bengaluru.csv')\n",
    "doddaballapur_df = pd.read_csv('preprocessed_krama_report_doddaballapur.csv')\n",
    "hubballi_df = pd.read_csv('preprocessed_krama_report_hubballi.csv')\n",
    "mysuru_df = pd.read_csv('preprocessed_krama_report_mysuru.csv')\n",
    "\n",
    "all_df = [bengaluru_df, doddaballapur_df, hubballi_df, mysuru_df]\n",
    "# For each dataset we will consider only the prices for the last three years in the Year column\n",
    "for i in range(4):\n",
    "    df = all_df[i]\n",
    "    all_df[i] = df[df['Year'] >= 2021]\n",
    "bengaluru_df = all_df[0]\n",
    "bengaluru_df.head()"
   ]
  },
  {
   "cell_type": "markdown",
   "metadata": {},
   "source": [
    "## Test-Train Split"
   ]
  },
  {
   "cell_type": "code",
   "execution_count": 51,
   "metadata": {},
   "outputs": [
    {
     "data": {
      "text/plain": [
       "(12, (2492, 12), (623, 12), (2492, 3), (623, 3))"
      ]
     },
     "execution_count": 51,
     "metadata": {},
     "output_type": "execute_result"
    }
   ],
   "source": [
    "X = bengaluru_df.drop(columns=['Min', 'Max', 'Modal'])\n",
    "Y = bengaluru_df[['Min', 'Max', 'Modal']]\n",
    "\n",
    "x_train, x_test, y_train, y_test = train_test_split(X, Y, test_size=0.2, random_state=0)\n",
    "input_size = x_train.shape[1]\n",
    "input_size, x_train.shape, x_test.shape, y_train.shape, y_test.shape"
   ]
  },
  {
   "cell_type": "markdown",
   "metadata": {},
   "source": [
    "## Defining a Simple Model"
   ]
  },
  {
   "cell_type": "code",
   "execution_count": 52,
   "metadata": {},
   "outputs": [],
   "source": [
    "# Defining the model\n",
    "def build_simple_dnn_model(input_shape):\n",
    "    model = models.Sequential()\n",
    "\n",
    "    # Input layer\n",
    "    model.add(layers.InputLayer(input_shape=input_shape))\n",
    "\n",
    "    # Hidden layers\n",
    "    model.add(layers.Dense(input_shape[0] * 2, activation='relu'))\n",
    "    model.add(layers.Dense(10, activation='relu'))\n",
    "    model.add(layers.Dense(5, activation='relu'))\n",
    "    \n",
    "    # Output layer with 3 units (min, max, modal)\n",
    "    model.add(layers.Dense(3, activation='linear'))  # Linear activation for regression output\n",
    "    \n",
    "    # Compile the model\n",
    "    model.compile(optimizer='adam', loss='mse', metrics=['mse', 'mae'])\n",
    "    \n",
    "    return model"
   ]
  },
  {
   "cell_type": "markdown",
   "metadata": {},
   "source": [
    "## Simple Model Structure"
   ]
  },
  {
   "cell_type": "code",
   "execution_count": 53,
   "metadata": {},
   "outputs": [
    {
     "name": "stdout",
     "output_type": "stream",
     "text": [
      "Model: \"sequential_25\"\n",
      "_________________________________________________________________\n",
      " Layer (type)                Output Shape              Param #   \n",
      "=================================================================\n",
      " dense_142 (Dense)           (None, 24)                312       \n",
      "                                                                 \n",
      " dense_143 (Dense)           (None, 10)                250       \n",
      "                                                                 \n",
      " dense_144 (Dense)           (None, 5)                 55        \n",
      "                                                                 \n",
      " dense_145 (Dense)           (None, 3)                 18        \n",
      "                                                                 \n",
      "=================================================================\n",
      "Total params: 635 (2.48 KB)\n",
      "Trainable params: 635 (2.48 KB)\n",
      "Non-trainable params: 0 (0.00 Byte)\n",
      "_________________________________________________________________\n"
     ]
    }
   ],
   "source": [
    "input_shape = (input_size,)\n",
    "\n",
    "simple_model = build_simple_dnn_model(input_shape)\n",
    "simple_model.summary()"
   ]
  },
  {
   "cell_type": "markdown",
   "metadata": {},
   "source": [
    "## Simple Model Training and Evaluation"
   ]
  },
  {
   "cell_type": "code",
   "execution_count": 54,
   "metadata": {},
   "outputs": [
    {
     "name": "stdout",
     "output_type": "stream",
     "text": [
      "Epoch 1/100\n",
      "63/63 [==============================] - 3s 11ms/step - loss: 2034751.2500 - mse: 2034751.2500 - mae: 1192.4398 - val_loss: 1287497.2500 - val_mse: 1287497.2500 - val_mae: 912.0063\n",
      "Epoch 2/100\n",
      "63/63 [==============================] - 0s 4ms/step - loss: 962053.3750 - mse: 962053.3750 - mae: 780.1100 - val_loss: 685971.2500 - val_mse: 685971.2500 - val_mae: 665.8673\n",
      "Epoch 3/100\n",
      "63/63 [==============================] - 0s 4ms/step - loss: 581608.6250 - mse: 581608.6250 - mae: 612.0085 - val_loss: 505660.0000 - val_mse: 505660.0000 - val_mae: 579.9388\n",
      "Epoch 4/100\n",
      "63/63 [==============================] - 0s 6ms/step - loss: 486947.7188 - mse: 486947.7188 - mae: 566.9215 - val_loss: 479534.5312 - val_mse: 479534.5312 - val_mae: 566.8842\n",
      "Epoch 5/100\n",
      "63/63 [==============================] - 0s 6ms/step - loss: 476298.9375 - mse: 476298.9375 - mae: 562.6903 - val_loss: 479171.5625 - val_mse: 479171.5625 - val_mae: 570.1926\n",
      "Epoch 6/100\n",
      "63/63 [==============================] - 1s 9ms/step - loss: 476157.1875 - mse: 476157.1875 - mae: 563.4106 - val_loss: 478195.4062 - val_mse: 478195.4062 - val_mae: 564.7258\n",
      "Epoch 7/100\n",
      "63/63 [==============================] - 0s 7ms/step - loss: 475586.4688 - mse: 475586.4688 - mae: 561.9291 - val_loss: 479193.0000 - val_mse: 479193.0000 - val_mae: 570.3879\n",
      "Epoch 8/100\n",
      "63/63 [==============================] - 0s 6ms/step - loss: 476464.7188 - mse: 476464.7188 - mae: 562.5978 - val_loss: 478134.2812 - val_mse: 478134.2812 - val_mae: 565.5984\n",
      "Epoch 9/100\n",
      "63/63 [==============================] - 0s 5ms/step - loss: 476893.5312 - mse: 476893.5312 - mae: 561.1581 - val_loss: 479047.0000 - val_mse: 479047.0000 - val_mae: 570.2896\n",
      "Epoch 10/100\n",
      "63/63 [==============================] - 0s 5ms/step - loss: 476812.6250 - mse: 476812.6250 - mae: 562.3382 - val_loss: 479605.5938 - val_mse: 479605.5938 - val_mae: 571.7811\n",
      "Epoch 11/100\n",
      "63/63 [==============================] - 0s 5ms/step - loss: 475219.6562 - mse: 475219.6562 - mae: 563.1169 - val_loss: 477929.0938 - val_mse: 477929.0938 - val_mae: 563.8924\n",
      "Epoch 12/100\n",
      "63/63 [==============================] - 0s 5ms/step - loss: 476019.9375 - mse: 476019.9375 - mae: 562.6065 - val_loss: 478388.2500 - val_mse: 478388.2500 - val_mae: 561.9663\n",
      "Epoch 13/100\n",
      "63/63 [==============================] - 0s 6ms/step - loss: 477276.8750 - mse: 477276.8750 - mae: 561.9858 - val_loss: 477820.9062 - val_mse: 477820.8750 - val_mae: 565.6125\n",
      "Epoch 14/100\n",
      "63/63 [==============================] - 0s 5ms/step - loss: 475198.4688 - mse: 475198.4688 - mae: 561.4333 - val_loss: 480335.5938 - val_mse: 480335.5938 - val_mae: 573.5943\n",
      "Epoch 15/100\n",
      "63/63 [==============================] - 0s 5ms/step - loss: 474834.2500 - mse: 474834.2500 - mae: 561.7947 - val_loss: 477629.8438 - val_mse: 477629.8438 - val_mae: 564.1870\n",
      "Epoch 16/100\n",
      "63/63 [==============================] - 0s 6ms/step - loss: 477540.1562 - mse: 477540.1562 - mae: 562.5729 - val_loss: 483014.3750 - val_mse: 483014.3750 - val_mae: 577.9080\n",
      "Epoch 17/100\n",
      "63/63 [==============================] - 1s 9ms/step - loss: 475079.2812 - mse: 475079.2812 - mae: 562.5212 - val_loss: 477749.3125 - val_mse: 477749.3125 - val_mae: 566.9854\n",
      "Epoch 18/100\n",
      "63/63 [==============================] - 0s 6ms/step - loss: 475433.2500 - mse: 475433.2500 - mae: 562.9018 - val_loss: 477450.5625 - val_mse: 477450.5625 - val_mae: 563.8434\n",
      "Epoch 19/100\n",
      "63/63 [==============================] - 0s 5ms/step - loss: 475591.2500 - mse: 475591.2500 - mae: 560.5309 - val_loss: 480855.7812 - val_mse: 480855.7812 - val_mae: 574.7784\n",
      "Epoch 20/100\n",
      "63/63 [==============================] - 0s 5ms/step - loss: 474859.4062 - mse: 474859.4062 - mae: 562.0472 - val_loss: 477607.9688 - val_mse: 477607.9688 - val_mae: 567.1625\n",
      "Epoch 21/100\n",
      "63/63 [==============================] - 0s 5ms/step - loss: 474760.6875 - mse: 474760.6875 - mae: 562.5106 - val_loss: 477231.1875 - val_mse: 477231.1875 - val_mae: 563.9880\n",
      "Epoch 22/100\n",
      "63/63 [==============================] - 1s 11ms/step - loss: 475008.0938 - mse: 475008.0938 - mae: 562.2820 - val_loss: 477461.7188 - val_mse: 477461.7188 - val_mae: 566.9797\n",
      "Epoch 23/100\n",
      "63/63 [==============================] - 0s 6ms/step - loss: 474707.4688 - mse: 474707.4688 - mae: 561.9932 - val_loss: 477391.0625 - val_mse: 477391.0625 - val_mae: 566.9728\n",
      "Epoch 24/100\n",
      "63/63 [==============================] - 0s 6ms/step - loss: 475586.8438 - mse: 475586.8438 - mae: 561.9573 - val_loss: 477154.1250 - val_mse: 477154.1250 - val_mae: 565.9212\n",
      "Epoch 25/100\n",
      "63/63 [==============================] - 0s 6ms/step - loss: 475409.7812 - mse: 475409.7812 - mae: 561.4620 - val_loss: 477179.9688 - val_mse: 477179.9688 - val_mae: 566.3912\n",
      "Epoch 26/100\n",
      "63/63 [==============================] - 0s 5ms/step - loss: 475004.5000 - mse: 475004.5000 - mae: 561.9199 - val_loss: 476896.7812 - val_mse: 476896.7812 - val_mae: 564.1508\n",
      "Epoch 27/100\n",
      "63/63 [==============================] - 1s 9ms/step - loss: 474492.0938 - mse: 474492.0938 - mae: 560.8170 - val_loss: 478722.0938 - val_mse: 478722.0938 - val_mae: 571.5746\n",
      "Epoch 28/100\n",
      "63/63 [==============================] - 0s 5ms/step - loss: 475664.4062 - mse: 475664.4062 - mae: 562.2896 - val_loss: 477102.8750 - val_mse: 477102.8750 - val_mae: 567.0557\n",
      "Epoch 29/100\n",
      "63/63 [==============================] - 0s 5ms/step - loss: 475414.2812 - mse: 475414.2812 - mae: 560.9096 - val_loss: 476684.8125 - val_mse: 476684.8125 - val_mae: 564.4707\n",
      "Epoch 30/100\n",
      "63/63 [==============================] - 0s 5ms/step - loss: 474896.5000 - mse: 474896.5000 - mae: 562.0837 - val_loss: 477331.5000 - val_mse: 477331.5000 - val_mae: 568.3201\n",
      "Epoch 31/100\n",
      "63/63 [==============================] - 0s 5ms/step - loss: 474245.1875 - mse: 474245.1875 - mae: 562.8210 - val_loss: 476812.5312 - val_mse: 476812.5312 - val_mae: 561.8318\n",
      "Epoch 32/100\n",
      "63/63 [==============================] - 1s 8ms/step - loss: 474098.0312 - mse: 474098.0312 - mae: 561.0478 - val_loss: 476690.2188 - val_mse: 476690.2188 - val_mae: 566.2543\n",
      "Epoch 33/100\n",
      "63/63 [==============================] - 0s 5ms/step - loss: 474426.7188 - mse: 474426.7188 - mae: 560.2785 - val_loss: 483635.8125 - val_mse: 483635.8125 - val_mae: 579.5458\n",
      "Epoch 34/100\n",
      "63/63 [==============================] - 0s 5ms/step - loss: 475748.0625 - mse: 475748.0625 - mae: 562.8394 - val_loss: 477850.8438 - val_mse: 477850.8438 - val_mae: 570.4513\n",
      "Epoch 35/100\n",
      "63/63 [==============================] - 0s 5ms/step - loss: 474075.2188 - mse: 474075.2188 - mae: 561.5382 - val_loss: 476266.3438 - val_mse: 476266.3438 - val_mae: 562.8880\n",
      "Epoch 36/100\n",
      "63/63 [==============================] - 0s 5ms/step - loss: 474353.3125 - mse: 474353.3125 - mae: 560.4688 - val_loss: 482536.7812 - val_mse: 482536.7812 - val_mae: 578.2592\n",
      "Epoch 37/100\n",
      "63/63 [==============================] - 1s 9ms/step - loss: 474939.4688 - mse: 474939.4688 - mae: 562.0285 - val_loss: 479187.2188 - val_mse: 479187.2188 - val_mae: 573.3022\n",
      "Epoch 38/100\n",
      "63/63 [==============================] - 0s 5ms/step - loss: 474651.1562 - mse: 474651.1562 - mae: 561.4199 - val_loss: 476028.2188 - val_mse: 476028.2188 - val_mae: 563.3481\n",
      "Epoch 39/100\n",
      "63/63 [==============================] - 0s 5ms/step - loss: 475036.7500 - mse: 475036.7500 - mae: 561.3516 - val_loss: 478722.2188 - val_mse: 478722.2188 - val_mae: 572.6771\n",
      "Epoch 40/100\n",
      "63/63 [==============================] - 0s 5ms/step - loss: 474244.0312 - mse: 474244.0312 - mae: 561.7433 - val_loss: 477575.8125 - val_mse: 477575.8125 - val_mae: 570.5456\n",
      "Epoch 41/100\n",
      "63/63 [==============================] - 0s 5ms/step - loss: 474007.5938 - mse: 474007.5938 - mae: 559.0347 - val_loss: 490701.5312 - val_mse: 490701.5312 - val_mae: 586.9882\n",
      "Epoch 42/100\n",
      "63/63 [==============================] - 0s 7ms/step - loss: 475068.8125 - mse: 475068.8125 - mae: 563.6682 - val_loss: 476562.9062 - val_mse: 476562.9062 - val_mae: 568.2408\n",
      "Epoch 43/100\n",
      "63/63 [==============================] - 0s 5ms/step - loss: 473757.8750 - mse: 473757.8750 - mae: 560.4329 - val_loss: 475648.9375 - val_mse: 475648.9375 - val_mae: 563.4643\n",
      "Epoch 44/100\n",
      "63/63 [==============================] - 0s 5ms/step - loss: 473600.7812 - mse: 473600.7812 - mae: 561.3500 - val_loss: 475630.0000 - val_mse: 475630.0000 - val_mae: 564.2485\n",
      "Epoch 45/100\n",
      "63/63 [==============================] - 0s 5ms/step - loss: 474280.6562 - mse: 474280.6562 - mae: 560.9154 - val_loss: 475878.7188 - val_mse: 475878.7188 - val_mae: 560.9222\n",
      "Epoch 46/100\n",
      "63/63 [==============================] - 0s 5ms/step - loss: 473766.0938 - mse: 473766.0938 - mae: 559.9247 - val_loss: 478753.3438 - val_mse: 478753.3438 - val_mae: 573.3154\n",
      "Epoch 47/100\n",
      "63/63 [==============================] - 1s 8ms/step - loss: 472458.9062 - mse: 472458.9062 - mae: 560.0559 - val_loss: 475841.0000 - val_mse: 475841.0000 - val_mae: 566.7004\n",
      "Epoch 48/100\n",
      "63/63 [==============================] - 0s 5ms/step - loss: 472843.6562 - mse: 472843.6562 - mae: 560.3820 - val_loss: 475395.3438 - val_mse: 475395.3438 - val_mae: 564.9028\n",
      "Epoch 49/100\n",
      "63/63 [==============================] - 0s 5ms/step - loss: 472887.0000 - mse: 472887.0000 - mae: 561.2579 - val_loss: 475238.6562 - val_mse: 475238.6562 - val_mae: 563.6758\n",
      "Epoch 50/100\n",
      "63/63 [==============================] - 0s 5ms/step - loss: 472273.2500 - mse: 472273.2500 - mae: 556.9913 - val_loss: 478090.2500 - val_mse: 478090.2500 - val_mae: 572.5676\n",
      "Epoch 51/100\n",
      "63/63 [==============================] - 0s 5ms/step - loss: 472742.4062 - mse: 472742.4062 - mae: 561.7093 - val_loss: 475326.5625 - val_mse: 475326.5625 - val_mae: 565.5900\n",
      "Epoch 52/100\n",
      "63/63 [==============================] - 1s 8ms/step - loss: 472777.0625 - mse: 472777.0625 - mae: 559.0527 - val_loss: 476356.8438 - val_mse: 476356.8438 - val_mae: 569.2365\n",
      "Epoch 53/100\n",
      "63/63 [==============================] - 0s 5ms/step - loss: 472439.6875 - mse: 472439.6875 - mae: 560.2252 - val_loss: 474865.7500 - val_mse: 474865.7500 - val_mae: 562.8200\n",
      "Epoch 54/100\n",
      "63/63 [==============================] - 0s 5ms/step - loss: 472066.5625 - mse: 472066.5625 - mae: 559.7355 - val_loss: 479202.1562 - val_mse: 479202.1562 - val_mae: 574.6636\n",
      "Epoch 55/100\n",
      "63/63 [==============================] - 0s 5ms/step - loss: 474286.7812 - mse: 474286.7812 - mae: 561.3836 - val_loss: 476469.5000 - val_mse: 476469.5000 - val_mae: 569.9409\n",
      "Epoch 56/100\n",
      "63/63 [==============================] - 1s 8ms/step - loss: 471630.1562 - mse: 471630.1562 - mae: 561.2310 - val_loss: 474845.9688 - val_mse: 474845.9688 - val_mae: 560.7775\n",
      "Epoch 57/100\n",
      "63/63 [==============================] - 0s 5ms/step - loss: 473249.3125 - mse: 473249.3125 - mae: 559.4805 - val_loss: 474753.6250 - val_mse: 474753.6250 - val_mae: 564.8498\n",
      "Epoch 58/100\n",
      "63/63 [==============================] - 0s 5ms/step - loss: 472406.2812 - mse: 472406.2812 - mae: 560.5215 - val_loss: 474590.1250 - val_mse: 474590.1250 - val_mae: 564.4001\n",
      "Epoch 59/100\n",
      "63/63 [==============================] - 0s 5ms/step - loss: 471700.8750 - mse: 471700.8750 - mae: 560.2613 - val_loss: 474468.5000 - val_mse: 474468.5000 - val_mae: 561.2042\n",
      "Epoch 60/100\n",
      "63/63 [==============================] - 0s 5ms/step - loss: 472859.5000 - mse: 472859.5000 - mae: 560.1993 - val_loss: 474330.4062 - val_mse: 474330.4062 - val_mae: 561.7614\n",
      "Epoch 61/100\n",
      "63/63 [==============================] - 1s 9ms/step - loss: 471883.7188 - mse: 471883.7188 - mae: 559.5127 - val_loss: 479653.5000 - val_mse: 479653.5000 - val_mae: 575.8347\n",
      "Epoch 62/100\n",
      "63/63 [==============================] - 0s 5ms/step - loss: 471569.6875 - mse: 471569.6875 - mae: 559.9131 - val_loss: 474350.8125 - val_mse: 474350.8125 - val_mae: 564.6703\n",
      "Epoch 63/100\n",
      "63/63 [==============================] - 0s 6ms/step - loss: 471484.4062 - mse: 471484.4062 - mae: 558.9105 - val_loss: 474475.9375 - val_mse: 474475.9375 - val_mae: 565.7545\n",
      "Epoch 64/100\n",
      "63/63 [==============================] - 0s 5ms/step - loss: 471851.7188 - mse: 471851.7188 - mae: 560.7601 - val_loss: 475609.3125 - val_mse: 475609.3125 - val_mae: 569.2660\n",
      "Epoch 65/100\n",
      "63/63 [==============================] - 0s 6ms/step - loss: 473434.4375 - mse: 473434.4375 - mae: 560.1980 - val_loss: 473888.9375 - val_mse: 473888.9375 - val_mae: 562.9608\n",
      "Epoch 66/100\n",
      "63/63 [==============================] - 1s 8ms/step - loss: 471773.1562 - mse: 471773.1562 - mae: 559.9001 - val_loss: 475376.7500 - val_mse: 475376.7500 - val_mae: 568.9080\n",
      "Epoch 67/100\n",
      "63/63 [==============================] - 0s 5ms/step - loss: 472628.2812 - mse: 472628.2812 - mae: 559.8975 - val_loss: 473681.3125 - val_mse: 473681.3125 - val_mae: 561.7670\n",
      "Epoch 68/100\n",
      "63/63 [==============================] - 0s 5ms/step - loss: 470802.6562 - mse: 470802.6562 - mae: 557.1328 - val_loss: 477601.5625 - val_mse: 477601.5625 - val_mae: 573.3358\n",
      "Epoch 69/100\n",
      "63/63 [==============================] - 0s 5ms/step - loss: 470591.2500 - mse: 470591.2500 - mae: 558.5767 - val_loss: 478071.7812 - val_mse: 478071.7812 - val_mae: 574.1058\n",
      "Epoch 70/100\n",
      "63/63 [==============================] - 0s 5ms/step - loss: 471562.5312 - mse: 471562.5312 - mae: 561.3870 - val_loss: 473559.8125 - val_mse: 473559.8125 - val_mae: 563.5953\n",
      "Epoch 71/100\n",
      "63/63 [==============================] - 1s 8ms/step - loss: 471089.3438 - mse: 471089.3438 - mae: 558.4620 - val_loss: 473402.3438 - val_mse: 473402.3438 - val_mae: 563.4218\n",
      "Epoch 72/100\n",
      "63/63 [==============================] - 0s 5ms/step - loss: 470172.1562 - mse: 470172.1562 - mae: 559.6855 - val_loss: 473340.0938 - val_mse: 473340.0938 - val_mae: 563.4565\n",
      "Epoch 73/100\n",
      "63/63 [==============================] - 0s 5ms/step - loss: 471491.2812 - mse: 471491.2812 - mae: 558.9711 - val_loss: 473189.9375 - val_mse: 473189.9375 - val_mae: 560.6870\n",
      "Epoch 74/100\n",
      "63/63 [==============================] - 0s 5ms/step - loss: 470497.4062 - mse: 470497.4062 - mae: 557.2259 - val_loss: 480689.8750 - val_mse: 480689.8750 - val_mae: 577.8571\n",
      "Epoch 75/100\n",
      "63/63 [==============================] - 0s 6ms/step - loss: 471090.0312 - mse: 471090.0312 - mae: 560.0585 - val_loss: 473748.9062 - val_mse: 473748.9062 - val_mae: 566.3709\n",
      "Epoch 76/100\n",
      "63/63 [==============================] - 1s 8ms/step - loss: 470030.9375 - mse: 470030.9375 - mae: 557.4907 - val_loss: 478804.7188 - val_mse: 478804.7188 - val_mae: 575.5859\n",
      "Epoch 77/100\n",
      "63/63 [==============================] - 0s 7ms/step - loss: 471808.0000 - mse: 471808.0000 - mae: 561.0780 - val_loss: 473549.4062 - val_mse: 473549.4062 - val_mae: 566.1308\n",
      "Epoch 78/100\n",
      "63/63 [==============================] - 0s 5ms/step - loss: 470291.1562 - mse: 470291.1562 - mae: 558.1792 - val_loss: 475647.9688 - val_mse: 475647.9688 - val_mae: 571.0565\n",
      "Epoch 79/100\n",
      "63/63 [==============================] - 0s 5ms/step - loss: 470502.8438 - mse: 470502.8438 - mae: 557.4976 - val_loss: 482741.4688 - val_mse: 482741.4688 - val_mae: 580.4146\n",
      "Epoch 80/100\n",
      "63/63 [==============================] - 0s 5ms/step - loss: 472012.2500 - mse: 472012.2500 - mae: 559.3389 - val_loss: 473359.6875 - val_mse: 473359.6875 - val_mae: 566.3940\n",
      "Epoch 81/100\n",
      "63/63 [==============================] - 1s 8ms/step - loss: 469969.6562 - mse: 469969.6562 - mae: 559.5897 - val_loss: 472610.2500 - val_mse: 472610.2500 - val_mae: 563.7598\n",
      "Epoch 82/100\n",
      "63/63 [==============================] - 0s 6ms/step - loss: 469198.9375 - mse: 469198.9375 - mae: 558.4241 - val_loss: 473196.6250 - val_mse: 473196.6250 - val_mae: 566.2535\n",
      "Epoch 83/100\n",
      "63/63 [==============================] - 0s 5ms/step - loss: 469848.4375 - mse: 469848.4375 - mae: 558.1407 - val_loss: 472368.3438 - val_mse: 472368.3438 - val_mae: 563.5910\n",
      "Epoch 84/100\n",
      "63/63 [==============================] - 0s 5ms/step - loss: 469552.9375 - mse: 469552.9375 - mae: 559.3612 - val_loss: 472837.5938 - val_mse: 472837.5938 - val_mae: 565.6183\n",
      "Epoch 85/100\n",
      "63/63 [==============================] - 1s 9ms/step - loss: 469789.0000 - mse: 469789.0000 - mae: 558.0948 - val_loss: 473461.6250 - val_mse: 473461.6250 - val_mae: 567.6652\n",
      "Epoch 86/100\n",
      "63/63 [==============================] - 0s 5ms/step - loss: 469131.2500 - mse: 469131.2500 - mae: 557.6782 - val_loss: 474459.0938 - val_mse: 474459.0938 - val_mae: 569.8765\n",
      "Epoch 87/100\n",
      "63/63 [==============================] - 0s 6ms/step - loss: 468659.6875 - mse: 468659.6875 - mae: 557.7119 - val_loss: 474434.8125 - val_mse: 474434.8125 - val_mae: 569.9862\n",
      "Epoch 88/100\n",
      "63/63 [==============================] - 0s 5ms/step - loss: 468554.4062 - mse: 468554.4062 - mae: 559.1968 - val_loss: 472168.4062 - val_mse: 472168.4062 - val_mae: 558.0491\n",
      "Epoch 89/100\n",
      "63/63 [==============================] - 0s 6ms/step - loss: 469166.0625 - mse: 469166.0625 - mae: 557.4786 - val_loss: 472963.6562 - val_mse: 472963.6562 - val_mae: 567.2250\n",
      "Epoch 90/100\n",
      "63/63 [==============================] - 1s 9ms/step - loss: 468491.0000 - mse: 468491.0000 - mae: 557.9911 - val_loss: 473215.7188 - val_mse: 473215.7188 - val_mae: 568.0045\n",
      "Epoch 91/100\n",
      "63/63 [==============================] - 0s 5ms/step - loss: 468733.2188 - mse: 468733.2188 - mae: 557.5945 - val_loss: 474964.0000 - val_mse: 474964.0000 - val_mae: 571.3749\n",
      "Epoch 92/100\n",
      "63/63 [==============================] - 0s 5ms/step - loss: 468173.8125 - mse: 468173.8125 - mae: 558.7012 - val_loss: 471262.4062 - val_mse: 471262.4062 - val_mae: 562.2191\n",
      "Epoch 93/100\n",
      "63/63 [==============================] - 0s 6ms/step - loss: 468596.8438 - mse: 468596.8438 - mae: 557.6157 - val_loss: 471321.8438 - val_mse: 471321.8438 - val_mae: 563.0842\n",
      "Epoch 94/100\n",
      "63/63 [==============================] - 0s 8ms/step - loss: 468650.1562 - mse: 468650.1562 - mae: 557.9084 - val_loss: 470996.6875 - val_mse: 470996.6875 - val_mae: 558.9586\n",
      "Epoch 95/100\n",
      "63/63 [==============================] - 0s 5ms/step - loss: 470442.3750 - mse: 470442.3750 - mae: 556.4370 - val_loss: 472037.9375 - val_mse: 472037.9375 - val_mae: 566.1827\n",
      "Epoch 96/100\n",
      "63/63 [==============================] - 0s 5ms/step - loss: 471244.5000 - mse: 471244.5000 - mae: 560.8636 - val_loss: 471650.3125 - val_mse: 471650.3125 - val_mae: 565.3945\n",
      "Epoch 97/100\n",
      "63/63 [==============================] - 0s 6ms/step - loss: 467370.8125 - mse: 467370.8125 - mae: 556.7185 - val_loss: 472902.6562 - val_mse: 472902.6562 - val_mae: 568.5281\n",
      "Epoch 98/100\n",
      "63/63 [==============================] - 0s 5ms/step - loss: 468813.7188 - mse: 468813.7188 - mae: 557.9035 - val_loss: 472986.3125 - val_mse: 472986.3125 - val_mae: 568.8132\n",
      "Epoch 99/100\n",
      "63/63 [==============================] - 1s 8ms/step - loss: 467040.0938 - mse: 467040.0938 - mae: 557.0176 - val_loss: 471391.0312 - val_mse: 471391.0312 - val_mae: 565.4678\n",
      "Epoch 100/100\n",
      "63/63 [==============================] - 0s 5ms/step - loss: 467599.3125 - mse: 467599.3125 - mae: 556.2311 - val_loss: 470588.4062 - val_mse: 470588.4062 - val_mae: 563.2122\n",
      "Mean Squared Error: 496163.53125\n",
      "Mean Absolute Error: 573.5308837890625\n"
     ]
    }
   ],
   "source": [
    "history = simple_model.fit(x_train, y_train, epochs=100, batch_size=32, validation_split=0.2, verbose=1)\n",
    "\n",
    "loss, mse, mae = simple_model.evaluate(x_test, y_test, verbose=0)\n",
    "print('Mean Squared Error:', mse)\n",
    "print('Mean Absolute Error:', mae)\n"
   ]
  },
  {
   "cell_type": "markdown",
   "metadata": {},
   "source": [
    "We can see that the model is not performing well. We will try to improve the model by adding more layers and increasing the number of neurons in each layer."
   ]
  },
  {
   "cell_type": "markdown",
   "metadata": {},
   "source": [
    "## Defining a Complex Model"
   ]
  },
  {
   "cell_type": "code",
   "execution_count": 55,
   "metadata": {},
   "outputs": [],
   "source": [
    "def build_advanced_dnn(input_shape):\n",
    "    model = models.Sequential()\n",
    "\n",
    "    # Input Layer\n",
    "    model.add(layers.InputLayer(input_shape=input_shape))\n",
    "\n",
    "    # Hidden Layers with Dropout and Batch Normalization\n",
    "    hidden_layer_dropout = 0.7\n",
    "    \n",
    "    model.add(layers.Dense(32, activation='relu'))\n",
    "    model.add(layers.BatchNormalization())    # Batch Normalization\n",
    "    model.add(layers.Dropout(hidden_layer_dropout))\n",
    "    \n",
    "    model.add(layers.Dense(64, activation='relu'))\n",
    "    model.add(layers.BatchNormalization())    # Batch Normalization\n",
    "    model.add(layers.Dropout(hidden_layer_dropout))\n",
    "    \n",
    "    model.add(layers.Dense(128, activation='relu'))\n",
    "    model.add(layers.BatchNormalization())    # Batch Normalization\n",
    "    model.add(layers.Dropout(hidden_layer_dropout))            # Dropout\n",
    "    \n",
    "    model.add(layers.Dense(128, activation='relu'))\n",
    "    model.add(layers.BatchNormalization())    # Batch Normalization\n",
    "    model.add(layers.Dropout(hidden_layer_dropout))            # Dropout\n",
    "    \n",
    "    model.add(layers.Dense(128, activation='relu'))\n",
    "    model.add(layers.BatchNormalization())    # Batch Normalization\n",
    "    model.add(layers.Dropout(hidden_layer_dropout))            # Dropout\n",
    "\n",
    "    model.add(layers.Dense(128, activation='relu'))\n",
    "    model.add(layers.BatchNormalization())\n",
    "    model.add(layers.Dropout(hidden_layer_dropout))\n",
    "\n",
    "    model.add(layers.Dense(64, activation='relu'))\n",
    "    \n",
    "    # Output Layer for 3 outputs (min, max, modal prices)\n",
    "    model.add(layers.Dense(3, activation='linear'))  # Linear for regression\n",
    "    \n",
    "    # Compile the model with Adam optimizer using learning rate decay\n",
    "    optimizer = tf.keras.optimizers.Adam(\n",
    "        learning_rate=tf.keras.optimizers.schedules.ExponentialDecay(\n",
    "            initial_learning_rate=0.001, decay_steps=10000, decay_rate=0.9)\n",
    "    )\n",
    "    \n",
    "    model.compile(optimizer=optimizer, loss='mse', metrics=['mse', 'mae'])\n",
    "    \n",
    "    return model"
   ]
  },
  {
   "cell_type": "markdown",
   "metadata": {},
   "source": [
    "## Complex Model Structure"
   ]
  },
  {
   "cell_type": "code",
   "execution_count": 56,
   "metadata": {},
   "outputs": [
    {
     "name": "stdout",
     "output_type": "stream",
     "text": [
      "Model: \"sequential_26\"\n",
      "_________________________________________________________________\n",
      " Layer (type)                Output Shape              Param #   \n",
      "=================================================================\n",
      " dense_146 (Dense)           (None, 32)                416       \n",
      "                                                                 \n",
      " batch_normalization_64 (Ba  (None, 32)                128       \n",
      " tchNormalization)                                               \n",
      "                                                                 \n",
      " dropout_64 (Dropout)        (None, 32)                0         \n",
      "                                                                 \n",
      " dense_147 (Dense)           (None, 64)                2112      \n",
      "                                                                 \n",
      " batch_normalization_65 (Ba  (None, 64)                256       \n",
      " tchNormalization)                                               \n",
      "                                                                 \n",
      " dropout_65 (Dropout)        (None, 64)                0         \n",
      "                                                                 \n",
      " dense_148 (Dense)           (None, 128)               8320      \n",
      "                                                                 \n",
      " batch_normalization_66 (Ba  (None, 128)               512       \n",
      " tchNormalization)                                               \n",
      "                                                                 \n",
      " dropout_66 (Dropout)        (None, 128)               0         \n",
      "                                                                 \n",
      " dense_149 (Dense)           (None, 128)               16512     \n",
      "                                                                 \n",
      " batch_normalization_67 (Ba  (None, 128)               512       \n",
      " tchNormalization)                                               \n",
      "                                                                 \n",
      " dropout_67 (Dropout)        (None, 128)               0         \n",
      "                                                                 \n",
      " dense_150 (Dense)           (None, 128)               16512     \n",
      "                                                                 \n",
      " batch_normalization_68 (Ba  (None, 128)               512       \n",
      " tchNormalization)                                               \n",
      "                                                                 \n",
      " dropout_68 (Dropout)        (None, 128)               0         \n",
      "                                                                 \n",
      " dense_151 (Dense)           (None, 128)               16512     \n",
      "                                                                 \n",
      " batch_normalization_69 (Ba  (None, 128)               512       \n",
      " tchNormalization)                                               \n",
      "                                                                 \n",
      " dropout_69 (Dropout)        (None, 128)               0         \n",
      "                                                                 \n",
      " dense_152 (Dense)           (None, 64)                8256      \n",
      "                                                                 \n",
      " dense_153 (Dense)           (None, 3)                 195       \n",
      "                                                                 \n",
      "=================================================================\n",
      "Total params: 71267 (278.39 KB)\n",
      "Trainable params: 70051 (273.64 KB)\n",
      "Non-trainable params: 1216 (4.75 KB)\n",
      "_________________________________________________________________\n"
     ]
    }
   ],
   "source": [
    "complex_model = build_advanced_dnn(input_shape)\n",
    "complex_model.summary()"
   ]
  },
  {
   "cell_type": "markdown",
   "metadata": {},
   "source": [
    "## Complex Model Training and Evaluation"
   ]
  },
  {
   "cell_type": "code",
   "execution_count": 57,
   "metadata": {},
   "outputs": [
    {
     "name": "stdout",
     "output_type": "stream",
     "text": [
      "Epoch 1/100\n",
      "63/63 [==============================] - 9s 31ms/step - loss: 2951429.7500 - mse: 2951429.7500 - mae: 1555.6949 - val_loss: 2760539.5000 - val_mse: 2760539.5000 - val_mae: 1492.1833\n",
      "Epoch 2/100\n",
      "63/63 [==============================] - 1s 15ms/step - loss: 2932869.0000 - mse: 2932869.0000 - mae: 1549.6967 - val_loss: 2727993.7500 - val_mse: 2727993.7500 - val_mae: 1482.4065\n",
      "Epoch 3/100\n",
      "63/63 [==============================] - 1s 12ms/step - loss: 2887774.5000 - mse: 2887774.5000 - mae: 1535.0428 - val_loss: 2768164.0000 - val_mse: 2768164.0000 - val_mae: 1495.7787\n",
      "Epoch 4/100\n",
      "63/63 [==============================] - 1s 16ms/step - loss: 2695313.2500 - mse: 2695313.2500 - mae: 1467.6774 - val_loss: 2822967.2500 - val_mse: 2822967.2500 - val_mae: 1513.7115\n",
      "Epoch 5/100\n",
      "63/63 [==============================] - 1s 12ms/step - loss: 2011282.1250 - mse: 2011282.1250 - mae: 1197.1442 - val_loss: 2262056.2500 - val_mse: 2262056.2500 - val_mae: 1308.5603\n",
      "Epoch 6/100\n",
      "63/63 [==============================] - 1s 12ms/step - loss: 1299757.8750 - mse: 1299757.8750 - mae: 900.7219 - val_loss: 691836.2500 - val_mse: 691836.2500 - val_mae: 686.0458\n",
      "Epoch 7/100\n",
      "63/63 [==============================] - 1s 15ms/step - loss: 1033251.1250 - mse: 1033251.1250 - mae: 795.8127 - val_loss: 1202491.0000 - val_mse: 1202491.0000 - val_mae: 935.5453\n",
      "Epoch 8/100\n",
      "63/63 [==============================] - 1s 12ms/step - loss: 854144.4375 - mse: 854144.4375 - mae: 725.2432 - val_loss: 704000.5625 - val_mse: 704000.5625 - val_mae: 654.3091\n",
      "Epoch 9/100\n",
      "63/63 [==============================] - 1s 14ms/step - loss: 746733.7500 - mse: 746733.7500 - mae: 677.1030 - val_loss: 766432.4375 - val_mse: 766432.4375 - val_mae: 678.9875\n",
      "Epoch 10/100\n",
      "63/63 [==============================] - 1s 12ms/step - loss: 703586.3750 - mse: 703586.3750 - mae: 663.3419 - val_loss: 766884.8125 - val_mse: 766884.8125 - val_mae: 713.0971\n",
      "Epoch 11/100\n",
      "63/63 [==============================] - 1s 12ms/step - loss: 670767.2500 - mse: 670767.2500 - mae: 647.8674 - val_loss: 1458107.5000 - val_mse: 1458107.5000 - val_mae: 987.2328\n",
      "Epoch 12/100\n",
      "63/63 [==============================] - 1s 16ms/step - loss: 644406.8125 - mse: 644406.8125 - mae: 634.7823 - val_loss: 3023325.7500 - val_mse: 3023325.7500 - val_mae: 1435.5848\n",
      "Epoch 13/100\n",
      "63/63 [==============================] - 1s 12ms/step - loss: 595423.5625 - mse: 595423.5625 - mae: 610.5984 - val_loss: 866168.5625 - val_mse: 866168.5625 - val_mae: 719.0280\n",
      "Epoch 14/100\n",
      "63/63 [==============================] - 1s 17ms/step - loss: 599117.3125 - mse: 599117.3125 - mae: 618.5289 - val_loss: 957445.6250 - val_mse: 957445.6250 - val_mae: 801.2880\n",
      "Epoch 15/100\n",
      "63/63 [==============================] - 1s 12ms/step - loss: 591014.8125 - mse: 591014.8125 - mae: 611.2776 - val_loss: 681329.8125 - val_mse: 681329.8125 - val_mae: 644.0176\n",
      "Epoch 16/100\n",
      "63/63 [==============================] - 1s 15ms/step - loss: 590553.3125 - mse: 590553.3125 - mae: 606.6333 - val_loss: 485196.5938 - val_mse: 485196.5938 - val_mae: 558.1986\n",
      "Epoch 17/100\n",
      "63/63 [==============================] - 1s 12ms/step - loss: 587998.6250 - mse: 587998.6250 - mae: 614.5110 - val_loss: 510728.7188 - val_mse: 510728.7188 - val_mae: 574.6036\n",
      "Epoch 18/100\n",
      "63/63 [==============================] - 1s 13ms/step - loss: 582668.6250 - mse: 582668.6250 - mae: 605.9107 - val_loss: 2114561.2500 - val_mse: 2114561.2500 - val_mae: 1167.5397\n",
      "Epoch 19/100\n",
      "63/63 [==============================] - 1s 15ms/step - loss: 561624.3750 - mse: 561624.3750 - mae: 597.1346 - val_loss: 480646.8750 - val_mse: 480646.8750 - val_mae: 563.6629\n",
      "Epoch 20/100\n",
      "63/63 [==============================] - 1s 12ms/step - loss: 542997.6875 - mse: 542997.6875 - mae: 588.4035 - val_loss: 480183.9375 - val_mse: 480183.9375 - val_mae: 560.8661\n",
      "Epoch 21/100\n",
      "63/63 [==============================] - 1s 14ms/step - loss: 577354.6875 - mse: 577354.6875 - mae: 609.0309 - val_loss: 480170.5625 - val_mse: 480170.5625 - val_mae: 560.7242\n",
      "Epoch 22/100\n",
      "63/63 [==============================] - 1s 12ms/step - loss: 583554.4375 - mse: 583554.4375 - mae: 607.9604 - val_loss: 479747.3125 - val_mse: 479747.3125 - val_mae: 561.3661\n",
      "Epoch 23/100\n",
      "63/63 [==============================] - 1s 15ms/step - loss: 538666.0000 - mse: 538666.0000 - mae: 590.0721 - val_loss: 480436.5000 - val_mse: 480436.5000 - val_mae: 559.1880\n",
      "Epoch 24/100\n",
      "63/63 [==============================] - 1s 12ms/step - loss: 571089.6250 - mse: 571089.6250 - mae: 609.5286 - val_loss: 479865.6875 - val_mse: 479865.6875 - val_mae: 561.7213\n",
      "Epoch 25/100\n",
      "63/63 [==============================] - 1s 15ms/step - loss: 557527.3750 - mse: 557527.3750 - mae: 595.1804 - val_loss: 479430.8125 - val_mse: 479430.8125 - val_mae: 562.4546\n",
      "Epoch 26/100\n",
      "63/63 [==============================] - 1s 12ms/step - loss: 547236.0000 - mse: 547236.0000 - mae: 589.6848 - val_loss: 477875.9688 - val_mse: 477875.9688 - val_mae: 564.1587\n",
      "Epoch 27/100\n",
      "63/63 [==============================] - 1s 14ms/step - loss: 555043.2500 - mse: 555043.2500 - mae: 597.8104 - val_loss: 479782.6250 - val_mse: 479782.6250 - val_mae: 561.3613\n",
      "Epoch 28/100\n",
      "63/63 [==============================] - 1s 11ms/step - loss: 538157.8125 - mse: 538157.8125 - mae: 586.9629 - val_loss: 518429.2500 - val_mse: 518429.2500 - val_mae: 577.6960\n",
      "Epoch 29/100\n",
      "63/63 [==============================] - 1s 11ms/step - loss: 565264.2500 - mse: 565264.2500 - mae: 600.6509 - val_loss: 513841.0000 - val_mse: 513841.0000 - val_mae: 577.8094\n",
      "Epoch 30/100\n",
      "63/63 [==============================] - 1s 14ms/step - loss: 558974.5625 - mse: 558974.5625 - mae: 598.1199 - val_loss: 531002.8750 - val_mse: 531002.8750 - val_mae: 576.5960\n",
      "Epoch 31/100\n",
      "63/63 [==============================] - 1s 12ms/step - loss: 544294.7500 - mse: 544294.7500 - mae: 592.4202 - val_loss: 939983.0625 - val_mse: 939983.0625 - val_mae: 766.8716\n",
      "Epoch 32/100\n",
      "63/63 [==============================] - 1s 14ms/step - loss: 536476.1875 - mse: 536476.1875 - mae: 588.5684 - val_loss: 713408.0625 - val_mse: 713408.0625 - val_mae: 675.1234\n",
      "Epoch 33/100\n",
      "63/63 [==============================] - 1s 12ms/step - loss: 543540.8750 - mse: 543540.8750 - mae: 595.6925 - val_loss: 596782.1250 - val_mse: 596782.1250 - val_mae: 608.6208\n",
      "Epoch 34/100\n",
      "63/63 [==============================] - 1s 11ms/step - loss: 541080.0625 - mse: 541080.0625 - mae: 590.9272 - val_loss: 561672.3750 - val_mse: 561672.3750 - val_mae: 583.2905\n",
      "Epoch 35/100\n",
      "63/63 [==============================] - 1s 14ms/step - loss: 539741.8125 - mse: 539741.8125 - mae: 588.3650 - val_loss: 583689.7500 - val_mse: 583689.7500 - val_mae: 588.8937\n",
      "Epoch 36/100\n",
      "63/63 [==============================] - 1s 12ms/step - loss: 538697.5000 - mse: 538697.5000 - mae: 589.6298 - val_loss: 532240.7500 - val_mse: 532240.7500 - val_mae: 572.1174\n",
      "Epoch 37/100\n",
      "63/63 [==============================] - 1s 14ms/step - loss: 532929.2500 - mse: 532929.2500 - mae: 586.0208 - val_loss: 18424652.0000 - val_mse: 18424652.0000 - val_mae: 4091.4456\n",
      "Epoch 38/100\n",
      "63/63 [==============================] - 1s 12ms/step - loss: 562204.5625 - mse: 562204.5625 - mae: 597.0486 - val_loss: 2235991.7500 - val_mse: 2235991.7500 - val_mae: 1228.9119\n",
      "Epoch 39/100\n",
      "63/63 [==============================] - 1s 13ms/step - loss: 545165.4375 - mse: 545165.4375 - mae: 593.6560 - val_loss: 569226.3125 - val_mse: 569226.3125 - val_mae: 585.1564\n",
      "Epoch 40/100\n",
      "63/63 [==============================] - 1s 12ms/step - loss: 539851.6875 - mse: 539851.6875 - mae: 591.9878 - val_loss: 479714.3125 - val_mse: 479714.3125 - val_mae: 562.2568\n",
      "Epoch 41/100\n",
      "63/63 [==============================] - 1s 11ms/step - loss: 540892.6250 - mse: 540892.6250 - mae: 589.0131 - val_loss: 4326527.5000 - val_mse: 4326527.5000 - val_mae: 1881.3824\n",
      "Epoch 42/100\n",
      "63/63 [==============================] - 1s 13ms/step - loss: 543358.0000 - mse: 543358.0000 - mae: 591.2116 - val_loss: 1639212.1250 - val_mse: 1639212.1250 - val_mae: 1042.9470\n",
      "Epoch 43/100\n",
      "63/63 [==============================] - 1s 12ms/step - loss: 554389.4375 - mse: 554389.4375 - mae: 600.1058 - val_loss: 3632432.2500 - val_mse: 3632432.2500 - val_mae: 1601.1537\n",
      "Epoch 44/100\n",
      "63/63 [==============================] - 1s 15ms/step - loss: 553276.8125 - mse: 553276.8125 - mae: 597.3495 - val_loss: 1222241.2500 - val_mse: 1222241.2500 - val_mae: 875.7626\n",
      "Epoch 45/100\n",
      "63/63 [==============================] - 1s 18ms/step - loss: 549067.0000 - mse: 549067.0000 - mae: 596.3843 - val_loss: 521783.5000 - val_mse: 521783.5000 - val_mae: 569.7659\n",
      "Epoch 46/100\n",
      "63/63 [==============================] - 1s 18ms/step - loss: 542605.8125 - mse: 542605.8125 - mae: 590.2516 - val_loss: 478501.1562 - val_mse: 478501.1562 - val_mae: 563.0484\n",
      "Mean Squared Error: 504923.03125\n",
      "Mean Absolute Error: 576.4218139648438\n"
     ]
    }
   ],
   "source": [
    "# Callbacks: Early stopping and ReduceLROnPlateau\n",
    "early_stopping = EarlyStopping(monitor='val_loss', patience=20, restore_best_weights=True)\n",
    "# Early stopping to prevent overfitting\n",
    "\n",
    "# Training\n",
    "history = complex_model.fit(x_train, y_train, epochs=100, batch_size=32, validation_split=0.2, callbacks=[early_stopping], verbose=1)\n",
    "\n",
    "# Evaluation\n",
    "loss, mse, mae = complex_model.evaluate(x_test, y_test, verbose=0)\n",
    "print('Mean Squared Error:', mse)\n",
    "print('Mean Absolute Error:', mae)"
   ]
  },
  {
   "cell_type": "markdown",
   "metadata": {},
   "source": [
    "The Training ended at epoch 34 due to early stopping callback. The model is performing similar to the simple model even after adding more layers and neurons."
   ]
  },
  {
   "cell_type": "markdown",
   "metadata": {},
   "source": [
    "## Save the Models"
   ]
  },
  {
   "cell_type": "code",
   "execution_count": 58,
   "metadata": {},
   "outputs": [],
   "source": [
    "import pickle\n",
    "\n",
    "# Save the simple model\n",
    "simple_model.save('DL_models/simple_model.keras')\n",
    "\n",
    "# Save the complex model\n",
    "complex_model.save('DL_models/complex_model.keras')"
   ]
  },
  {
   "cell_type": "markdown",
   "metadata": {},
   "source": [
    "## Comparing all Models\n",
    "We will compare the performance of the ML models and DL models to see which model is performing better."
   ]
  },
  {
   "cell_type": "code",
   "execution_count": 59,
   "metadata": {},
   "outputs": [
    {
     "name": "stdout",
     "output_type": "stream",
     "text": [
      "20/20 [==============================] - 0s 4ms/step\n",
      "20/20 [==============================] - 1s 6ms/step\n",
      "ML Model MSE: 7550.031757001979\n",
      "Simple DNN Model MSE: 496163.66\n",
      "Complex DNN Model MSE: 504923.03\n"
     ]
    }
   ],
   "source": [
    "import pickle\n",
    "\n",
    "# Load the ml model and dl models\n",
    "ml_best_min_model = pickle.load(open('ML_models/best_min_model.pkl', 'rb'))\n",
    "ml_best_max_model = pickle.load(open('ML_models/best_max_model.pkl', 'rb'))\n",
    "ml_best_modal_model = pickle.load(open('ML_models/best_modal_model.pkl', 'rb'))\n",
    "\n",
    "simple_model = keras.models.load_model('DL_models/simple_model.keras')\n",
    "complex_model = keras.models.load_model('DL_models/complex_model.keras')\n",
    "\n",
    "# Predictions\n",
    "def predict_ml(df):\n",
    "    min_price = ml_best_min_model.predict(df)\n",
    "    max_price = ml_best_max_model.predict(df)\n",
    "    modal_price = ml_best_modal_model.predict(df)\n",
    "    \n",
    "    return pd.DataFrame({'Min': min_price, 'Max': max_price, 'Modal': modal_price})\n",
    "\n",
    "# Comparision of ML and DL models\n",
    "def compare_models(x, y):\n",
    "    ml_predictions = predict_ml(x)\n",
    "    simple_predictions = simple_model.predict(x)\n",
    "    complex_predictions = complex_model.predict(x)\n",
    "    \n",
    "    ml_mse = np.mean(mean_squared_error(y, ml_predictions))\n",
    "    simple_mse = np.mean(mean_squared_error(y, simple_predictions))\n",
    "    complex_mse = np.mean(mean_squared_error(y, complex_predictions))\n",
    "    \n",
    "    return ml_mse, simple_mse, complex_mse\n",
    "\n",
    "# we will use x_test and y_test for comparison\n",
    "ml_mse, simple_mse, complex_mse = compare_models(x_test, y_test)\n",
    "\n",
    "# Displaying the results\n",
    "print('ML Model MSE:', ml_mse)\n",
    "print('Simple DNN Model MSE:', simple_mse)\n",
    "print('Complex DNN Model MSE:', complex_mse)\n"
   ]
  },
  {
   "cell_type": "code",
   "execution_count": 60,
   "metadata": {},
   "outputs": [
    {
     "name": "stdout",
     "output_type": "stream",
     "text": [
      "20/20 [==============================] - 0s 3ms/step\n",
      "20/20 [==============================] - 0s 4ms/step\n"
     ]
    }
   ],
   "source": [
    "# Plotting the results\n",
    "\n",
    "results = {\n",
    "    'y_test': y_test.to_numpy(),\n",
    "    'ML Predictions': predict_ml(x_test).to_numpy(),\n",
    "    'Simple DNN Predictions': simple_model.predict(x_test),\n",
    "    'Complex DNN Predictions': complex_model.predict(x_test)\n",
    "}\n",
    "\n",
    "def find_abs_errors(y_true, y_pred):\n",
    "    return np.abs(y_true - y_pred)\n",
    "\n",
    "def find_squared_errors(y_true, y_pred):\n",
    "    return np.square(y_true - y_pred)\n",
    "\n",
    "def plot_error_distribution(array1, array2, model=None):\n",
    "    abs_errors = find_abs_errors(array1, array2)\n",
    "    abs_errors_clean = abs_errors[~np.isnan(abs_errors) & ~np.isinf(abs_errors)]\n",
    "    \n",
    "    labels = ['Min', 'Max', 'Modal']\n",
    "    sns.histplot(abs_errors_clean, bins=50, kde=True, log_scale=True)\n",
    "    plt.title('Absolute Errors Distribution for {model} Model'.format(model=model))\n",
    "    plt.xlabel('Absolute Errors')\n",
    "    plt.ylabel('Frequency')\n",
    "    plt.legend(labels)\n",
    "    plt.show()\n",
    "\n"
   ]
  },
  {
   "cell_type": "markdown",
   "metadata": {},
   "source": [
    "## Error Distribution in Log Scale"
   ]
  },
  {
   "cell_type": "code",
   "execution_count": 61,
   "metadata": {},
   "outputs": [
    {
     "name": "stderr",
     "output_type": "stream",
     "text": [
      "c:\\Users\\Thej Venkat\\AppData\\Local\\Programs\\Python\\Python311\\Lib\\site-packages\\pandas\\core\\nanops.py:1010: RuntimeWarning: invalid value encountered in subtract\n",
      "  sqr = _ensure_numeric((avg - values) ** 2)\n"
     ]
    },
    {
     "data": {
      "image/png": "[encoded data removed]",
      "text/plain": [
       "<Figure size 640x480 with 1 Axes>"
      ]
     },
     "metadata": {},
     "output_type": "display_data"
    },
    {
     "data": {
      "image/png": "[encoded data removed]",
      "text/plain": [
       "<Figure size 640x480 with 1 Axes>"
      ]
     },
     "metadata": {},
     "output_type": "display_data"
    },
    {
     "data": {
      "image/png": "[encoded data removed]",
      "text/plain": [
       "<Figure size 640x480 with 1 Axes>"
      ]
     },
     "metadata": {},
     "output_type": "display_data"
    }
   ],
   "source": [
    "# Plotting the error distribution\n",
    "plot_error_distribution(results['y_test'], results['ML Predictions'], model='ML')\n",
    "plot_error_distribution(results['y_test'], results['Simple DNN Predictions'], model='Simple DNN')\n",
    "plot_error_distribution(results['y_test'], results['Complex DNN Predictions'], model='Complex DNN')"
   ]
  },
  {
   "cell_type": "markdown",
   "metadata": {},
   "source": [
    "## Overall MAE and RMSE for each Model"
   ]
  },
  {
   "cell_type": "code",
   "execution_count": 62,
   "metadata": {},
   "outputs": [
    {
     "name": "stderr",
     "output_type": "stream",
     "text": [
      "C:\\Users\\Thej Venkat\\AppData\\Local\\Temp\\ipykernel_14456\\37664693.py:19: FutureWarning: \n",
      "\n",
      "Passing `palette` without assigning `hue` is deprecated and will be removed in v0.14.0. Assign the `x` variable to `hue` and set `legend=False` for the same effect.\n",
      "\n",
      "  sns.barplot(x=results_df.columns, y=results_df.loc['MAE'], palette=['red', 'blue', 'green'])\n"
     ]
    },
    {
     "data": {
      "image/png": "[encoded data removed]",
      "text/plain": [
       "<Figure size 640x480 with 1 Axes>"
      ]
     },
     "metadata": {},
     "output_type": "display_data"
    },
    {
     "name": "stderr",
     "output_type": "stream",
     "text": [
      "C:\\Users\\Thej Venkat\\AppData\\Local\\Temp\\ipykernel_14456\\37664693.py:24: FutureWarning: \n",
      "\n",
      "Passing `palette` without assigning `hue` is deprecated and will be removed in v0.14.0. Assign the `x` variable to `hue` and set `legend=False` for the same effect.\n",
      "\n",
      "  sns.barplot(x=results_df.columns, y=results_df.loc['RMSE'], palette=['red', 'blue', 'green'])\n"
     ]
    },
    {
     "data": {
      "image/png": "[encoded data removed]",
      "text/plain": [
       "<Figure size 640x480 with 1 Axes>"
      ]
     },
     "metadata": {},
     "output_type": "display_data"
    }
   ],
   "source": [
    "# MAE and RMSE for ML and DL models\n",
    "metric_results = {}\n",
    "\n",
    "def find_mae_rmse(y_true, y_pred, model):\n",
    "    mae = np.mean(find_abs_errors(y_true, y_pred))\n",
    "    rmse = np.sqrt(np.mean(find_squared_errors(y_true, y_pred)))\n",
    "    \n",
    "    metric_results[model] = {\n",
    "        'MAE': mae,\n",
    "        'RMSE': rmse\n",
    "    }\n",
    "\n",
    "find_mae_rmse(results['y_test'], results['ML Predictions'], 'ML')\n",
    "find_mae_rmse(results['y_test'], results['Simple DNN Predictions'], 'Simple DNN')\n",
    "find_mae_rmse(results['y_test'], results['Complex DNN Predictions'], 'Complex DNN')\n",
    "\n",
    "results_df = pd.DataFrame(metric_results)\n",
    "\n",
    "sns.barplot(x=results_df.columns, y=results_df.loc['MAE'], palette=['red', 'blue', 'green'])\n",
    "plt.title('Mean Absolute Error Comparison')\n",
    "plt.ylabel('Mean Absolute Error')\n",
    "plt.show()\n",
    "\n",
    "sns.barplot(x=results_df.columns, y=results_df.loc['RMSE'], palette=['red', 'blue', 'green'])\n",
    "plt.title('Root Mean Squared Error Comparison')\n",
    "plt.ylabel('Root Mean Squared Error')\n",
    "plt.show()\n",
    "    "
   ]
  },
  {
   "cell_type": "markdown",
   "metadata": {},
   "source": [
    "## Conclusion\n",
    "We can see that despite the complexity of the Deep Learning models, they are performing worse than the Machine Learning model. This could be due to the small dataset and the simple structure of the data with few features. We can try to improve the performance of the models by adding more features and increasing the dataset size.\n",
    "\n",
    "Currently, the Machine Learning model is performing better than the Deep Learning models, so we can use the Machine Learning model for predicting the future prices of Agricultural Commodity."
   ]
  },
  {
   "cell_type": "markdown",
   "metadata": {},
   "source": [
    "## Training the DL Models on the complete dataset for all markets for further use"
   ]
  },
  {
   "cell_type": "code",
   "execution_count": null,
   "metadata": {},
   "outputs": [],
   "source": [
    "# from time import time\n",
    "# # Training models for all markets on complete dataset\n",
    "# markets = ['bengaluru', 'doddaballapur', 'hubballi', 'mysuru']\n",
    "# for i, df in enumerate(all_df):\n",
    "#     print(f'Training models for {markets[i]} market')\n",
    "#     print()\n",
    "    \n",
    "#     X = df.drop(columns=['Min', 'Max', 'Modal'])\n",
    "#     Y = df[['Min', 'Max', 'Modal']]\n",
    "    \n",
    "#     # Simple model\n",
    "#     print('Training Simple Model')\n",
    "#     time_start = time()\n",
    "#     simple_model = build_simple_dnn_model((X.shape[1],))\n",
    "#     history = simple_model.fit(X, Y, epochs=100, batch_size=32, verbose=0)\n",
    "#     simple_model.save(f'DL_models/{markets[i]}/simple_model.keras')\n",
    "#     loss, mse, mae = simple_model.evaluate(X, Y, verbose=0)\n",
    "#     time_end = time()\n",
    "#     print(f'Simple Model Training Time: {time_end - time_start} seconds')\n",
    "#     print(f'MSE: {mse}, MAE: {mae}')\n",
    "#     print()\n",
    "    \n",
    "#     # Complex model\n",
    "#     print('Training Complex Model')\n",
    "#     time_start = time()\n",
    "#     complex_model = build_advanced_dnn((X.shape[1],))\n",
    "#     early_stopping = EarlyStopping(monitor='val_loss', patience=20, restore_best_weights=True)\n",
    "#     # Randomize the data\n",
    "#     X, Y = shuffle(X, Y, random_state=50)\n",
    "#     history = complex_model.fit(X, Y, epochs=100, batch_size=32, validation_split=0.15, callbacks=[early_stopping], verbose=0)\n",
    "#     complex_model.save(f'DL_models/{markets[i]}/complex_model.keras')\n",
    "#     loss, mse, mae = complex_model.evaluate(X, Y, verbose=0)\n",
    "#     time_end = time()\n",
    "#     print(f'Complex Model Training Time: {time_end - time_start} seconds')\n",
    "#     print(f'MSE: {mse}, MAE: {mae}')\n",
    "#     print()"
   ]
  },
  {
   "cell_type": "markdown",
   "metadata": {},
   "source": [
    "We can see that for larger datasets, the complex model is performing a bit worse than the simple models. This is due to the fact that we are shuffling the data before splitting into validation and training sets. This is causing the model to learn the data in a different order than the data is present in the dataset."
   ]
  }
 ],
 "metadata": {
  "kernelspec": {
   "display_name": "Python 3",
   "language": "python",
   "name": "python3"
  },
  "language_info": {
   "codemirror_mode": {
    "name": "ipython",
    "version": 3
   },
   "file_extension": ".py",
   "mimetype": "text/x-python",
   "name": "python",
   "nbconvert_exporter": "python",
   "pygments_lexer": "ipython3",
   "version": "3.11.6"
  }
 },
 "nbformat": 4,
 "nbformat_minor": 2
}
