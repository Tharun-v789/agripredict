{
 "cells": [
  {
   "cell_type": "markdown",
   "metadata": {},
   "source": [
    "# Predictive Analysis using Deep Learning\n",
    "We aim to predict the future prices of Agricultural Commodity using Deep Neural Networks"
   ]
  },
  {
   "cell_type": "markdown",
   "metadata": {},
   "source": [
    "## Importing Libraries\n"
   ]
  },
  {
   "cell_type": "code",
   "execution_count": 1,
   "metadata": {},
   "outputs": [
    {
     "name": "stdout",
     "output_type": "stream",
     "text": [
      "WARNING:tensorflow:From c:\\Users\\Thej Venkat\\AppData\\Local\\Programs\\Python\\Python311\\Lib\\site-packages\\keras\\src\\losses.py:2976: The name tf.losses.sparse_softmax_cross_entropy is deprecated. Please use tf.compat.v1.losses.sparse_softmax_cross_entropy instead.\n",
      "\n"
     ]
    }
   ],
   "source": [
    "# Importing the required libraries\n",
    "import numpy as np\n",
    "import pandas as pd\n",
    "import matplotlib.pyplot as plt\n",
    "import seaborn as sns\n",
    "\n",
    "# TensorFlow and tf.keras\n",
    "import tensorflow as tf\n",
    "from tensorflow import keras\n",
    "from keras import layers, models\n",
    "from keras.metrics import mean_squared_error\n",
    "from tensorflow.keras.callbacks import EarlyStopping\n",
    "\n",
    "# sklearn\n",
    "from sklearn.model_selection import train_test_split\n",
    "from sklearn.preprocessing import StandardScaler\n",
    "from sklearn.utils import shuffle\n"
   ]
  },
  {
   "cell_type": "markdown",
   "metadata": {},
   "source": [
    "## Loading the Data"
   ]
  },
  {
   "cell_type": "code",
   "execution_count": 2,
   "metadata": {},
   "outputs": [
    {
     "data": {
      "text/html": [
       "<div>\n",
       "<style scoped>\n",
       "    .dataframe tbody tr th:only-of-type {\n",
       "        vertical-align: middle;\n",
       "    }\n",
       "\n",
       "    .dataframe tbody tr th {\n",
       "        vertical-align: top;\n",
       "    }\n",
       "\n",
       "    .dataframe thead th {\n",
       "        text-align: right;\n",
       "    }\n",
       "</style>\n",
       "<table border=\"1\" class=\"dataframe\">\n",
       "  <thead>\n",
       "    <tr style=\"text-align: right;\">\n",
       "      <th></th>\n",
       "      <th>Min</th>\n",
       "      <th>Max</th>\n",
       "      <th>Modal</th>\n",
       "      <th>Year</th>\n",
       "      <th>Month</th>\n",
       "      <th>Day</th>\n",
       "      <th>Variety_BELLARY RED</th>\n",
       "      <th>Variety_LOCAL</th>\n",
       "      <th>Variety_ONION</th>\n",
       "      <th>Variety_OTHER</th>\n",
       "      <th>Variety_PUNA</th>\n",
       "      <th>Grade_FAQ</th>\n",
       "      <th>Grade_LARGE</th>\n",
       "      <th>Grade_MEDIUM</th>\n",
       "      <th>Grade_SMALL</th>\n",
       "    </tr>\n",
       "  </thead>\n",
       "  <tbody>\n",
       "    <tr>\n",
       "      <th>12296</th>\n",
       "      <td>600.0</td>\n",
       "      <td>800.0</td>\n",
       "      <td>700.0</td>\n",
       "      <td>2019.0</td>\n",
       "      <td>1.0</td>\n",
       "      <td>1.0</td>\n",
       "      <td>0.0</td>\n",
       "      <td>1.0</td>\n",
       "      <td>0.0</td>\n",
       "      <td>0.0</td>\n",
       "      <td>0.0</td>\n",
       "      <td>0.0</td>\n",
       "      <td>0.0</td>\n",
       "      <td>0.0</td>\n",
       "      <td>0.0</td>\n",
       "    </tr>\n",
       "    <tr>\n",
       "      <th>12297</th>\n",
       "      <td>600.0</td>\n",
       "      <td>800.0</td>\n",
       "      <td>700.0</td>\n",
       "      <td>2019.0</td>\n",
       "      <td>1.0</td>\n",
       "      <td>2.0</td>\n",
       "      <td>0.0</td>\n",
       "      <td>1.0</td>\n",
       "      <td>0.0</td>\n",
       "      <td>0.0</td>\n",
       "      <td>0.0</td>\n",
       "      <td>0.0</td>\n",
       "      <td>0.0</td>\n",
       "      <td>0.0</td>\n",
       "      <td>0.0</td>\n",
       "    </tr>\n",
       "    <tr>\n",
       "      <th>12298</th>\n",
       "      <td>600.0</td>\n",
       "      <td>800.0</td>\n",
       "      <td>700.0</td>\n",
       "      <td>2019.0</td>\n",
       "      <td>1.0</td>\n",
       "      <td>3.0</td>\n",
       "      <td>0.0</td>\n",
       "      <td>1.0</td>\n",
       "      <td>0.0</td>\n",
       "      <td>0.0</td>\n",
       "      <td>0.0</td>\n",
       "      <td>0.0</td>\n",
       "      <td>0.0</td>\n",
       "      <td>0.0</td>\n",
       "      <td>0.0</td>\n",
       "    </tr>\n",
       "    <tr>\n",
       "      <th>12299</th>\n",
       "      <td>600.0</td>\n",
       "      <td>800.0</td>\n",
       "      <td>700.0</td>\n",
       "      <td>2019.0</td>\n",
       "      <td>1.0</td>\n",
       "      <td>4.0</td>\n",
       "      <td>0.0</td>\n",
       "      <td>1.0</td>\n",
       "      <td>0.0</td>\n",
       "      <td>0.0</td>\n",
       "      <td>0.0</td>\n",
       "      <td>0.0</td>\n",
       "      <td>0.0</td>\n",
       "      <td>0.0</td>\n",
       "      <td>0.0</td>\n",
       "    </tr>\n",
       "    <tr>\n",
       "      <th>12300</th>\n",
       "      <td>600.0</td>\n",
       "      <td>800.0</td>\n",
       "      <td>700.0</td>\n",
       "      <td>2019.0</td>\n",
       "      <td>1.0</td>\n",
       "      <td>5.0</td>\n",
       "      <td>0.0</td>\n",
       "      <td>1.0</td>\n",
       "      <td>0.0</td>\n",
       "      <td>0.0</td>\n",
       "      <td>0.0</td>\n",
       "      <td>0.0</td>\n",
       "      <td>0.0</td>\n",
       "      <td>0.0</td>\n",
       "      <td>0.0</td>\n",
       "    </tr>\n",
       "  </tbody>\n",
       "</table>\n",
       "</div>"
      ],
      "text/plain": [
       "         Min    Max  Modal    Year  Month  Day  Variety_BELLARY RED  \\\n",
       "12296  600.0  800.0  700.0  2019.0    1.0  1.0                  0.0   \n",
       "12297  600.0  800.0  700.0  2019.0    1.0  2.0                  0.0   \n",
       "12298  600.0  800.0  700.0  2019.0    1.0  3.0                  0.0   \n",
       "12299  600.0  800.0  700.0  2019.0    1.0  4.0                  0.0   \n",
       "12300  600.0  800.0  700.0  2019.0    1.0  5.0                  0.0   \n",
       "\n",
       "       Variety_LOCAL  Variety_ONION  Variety_OTHER  Variety_PUNA  Grade_FAQ  \\\n",
       "12296            1.0            0.0            0.0           0.0        0.0   \n",
       "12297            1.0            0.0            0.0           0.0        0.0   \n",
       "12298            1.0            0.0            0.0           0.0        0.0   \n",
       "12299            1.0            0.0            0.0           0.0        0.0   \n",
       "12300            1.0            0.0            0.0           0.0        0.0   \n",
       "\n",
       "       Grade_LARGE  Grade_MEDIUM  Grade_SMALL  \n",
       "12296          0.0           0.0          0.0  \n",
       "12297          0.0           0.0          0.0  \n",
       "12298          0.0           0.0          0.0  \n",
       "12299          0.0           0.0          0.0  \n",
       "12300          0.0           0.0          0.0  "
      ]
     },
     "execution_count": 2,
     "metadata": {},
     "output_type": "execute_result"
    }
   ],
   "source": [
    "# Loading the data\n",
    "bengaluru_df = pd.read_csv('preprocessed_krama_report_bengaluru.csv')\n",
    "doddaballapur_df = pd.read_csv('preprocessed_krama_report_doddaballapur.csv')\n",
    "hubballi_df = pd.read_csv('preprocessed_krama_report_hubballi.csv')\n",
    "mysuru_df = pd.read_csv('preprocessed_krama_report_mysuru.csv')\n",
    "\n",
    "all_df = [bengaluru_df, doddaballapur_df, hubballi_df, mysuru_df]\n",
    "# For each dataset we will consider only the prices for the last three years in the Year column\n",
    "for i in range(4):\n",
    "    df = all_df[i]\n",
    "    all_df[i] = df[df['Year'] >= 2019]\n",
    "bengaluru_df = all_df[0]\n",
    "bengaluru_df.head()"
   ]
  },
  {
   "cell_type": "markdown",
   "metadata": {},
   "source": [
    "## Test-Train Split"
   ]
  },
  {
   "cell_type": "code",
   "execution_count": 3,
   "metadata": {},
   "outputs": [
    {
     "data": {
      "text/plain": [
       "(12, (3197, 12), (800, 12), (3197, 3), (800, 3))"
      ]
     },
     "execution_count": 3,
     "metadata": {},
     "output_type": "execute_result"
    }
   ],
   "source": [
    "X = bengaluru_df.drop(columns=['Min', 'Max', 'Modal'])\n",
    "Y = bengaluru_df[['Min', 'Max', 'Modal']]\n",
    "\n",
    "x_train, x_test, y_train, y_test = train_test_split(X, Y, test_size=0.2, random_state=100)\n",
    "input_size = x_train.shape[1]\n",
    "input_size, x_train.shape, x_test.shape, y_train.shape, y_test.shape"
   ]
  },
  {
   "cell_type": "markdown",
   "metadata": {},
   "source": [
    "## Defining a Simple Model"
   ]
  },
  {
   "cell_type": "code",
   "execution_count": 4,
   "metadata": {},
   "outputs": [],
   "source": [
    "# Defining the model\n",
    "def build_simple_dnn_model(input_shape):\n",
    "    model = models.Sequential()\n",
    "\n",
    "    # Input layer\n",
    "    model.add(layers.InputLayer(input_shape=input_shape))\n",
    "\n",
    "    # Hidden layers\n",
    "    model.add(layers.Dense(input_shape[0] * 2, activation='relu'))\n",
    "    model.add(layers.Dense(10, activation='relu'))\n",
    "    model.add(layers.Dense(5, activation='relu'))\n",
    "    \n",
    "    # Output layer with 3 units (min, max, modal)\n",
    "    model.add(layers.Dense(3, activation='linear'))  # Linear activation for regression output\n",
    "    \n",
    "    # Compile the model\n",
    "    model.compile(optimizer='adam', loss='mse', metrics=['mse', 'mae'])\n",
    "    \n",
    "    return model"
   ]
  },
  {
   "cell_type": "markdown",
   "metadata": {},
   "source": [
    "## Simple Model Structure"
   ]
  },
  {
   "cell_type": "code",
   "execution_count": 5,
   "metadata": {},
   "outputs": [
    {
     "name": "stdout",
     "output_type": "stream",
     "text": [
      "WARNING:tensorflow:From c:\\Users\\Thej Venkat\\AppData\\Local\\Programs\\Python\\Python311\\Lib\\site-packages\\keras\\src\\backend.py:873: The name tf.get_default_graph is deprecated. Please use tf.compat.v1.get_default_graph instead.\n",
      "\n",
      "WARNING:tensorflow:From c:\\Users\\Thej Venkat\\AppData\\Local\\Programs\\Python\\Python311\\Lib\\site-packages\\keras\\src\\optimizers\\__init__.py:309: The name tf.train.Optimizer is deprecated. Please use tf.compat.v1.train.Optimizer instead.\n",
      "\n",
      "Model: \"sequential\"\n",
      "_________________________________________________________________\n",
      " Layer (type)                Output Shape              Param #   \n",
      "=================================================================\n",
      " dense (Dense)               (None, 24)                312       \n",
      "                                                                 \n",
      " dense_1 (Dense)             (None, 10)                250       \n",
      "                                                                 \n",
      " dense_2 (Dense)             (None, 5)                 55        \n",
      "                                                                 \n",
      " dense_3 (Dense)             (None, 3)                 18        \n",
      "                                                                 \n",
      "=================================================================\n",
      "Total params: 635 (2.48 KB)\n",
      "Trainable params: 635 (2.48 KB)\n",
      "Non-trainable params: 0 (0.00 Byte)\n",
      "_________________________________________________________________\n"
     ]
    }
   ],
   "source": [
    "input_shape = (input_size,)\n",
    "\n",
    "simple_model = build_simple_dnn_model(input_shape)\n",
    "simple_model.summary()"
   ]
  },
  {
   "cell_type": "markdown",
   "metadata": {},
   "source": [
    "## Simple Model Training and Evaluation"
   ]
  },
  {
   "cell_type": "code",
   "execution_count": 6,
   "metadata": {},
   "outputs": [
    {
     "name": "stdout",
     "output_type": "stream",
     "text": [
      "Epoch 1/100\n",
      "WARNING:tensorflow:From c:\\Users\\Thej Venkat\\AppData\\Local\\Programs\\Python\\Python311\\Lib\\site-packages\\keras\\src\\utils\\tf_utils.py:492: The name tf.ragged.RaggedTensorValue is deprecated. Please use tf.compat.v1.ragged.RaggedTensorValue instead.\n",
      "\n",
      "WARNING:tensorflow:From c:\\Users\\Thej Venkat\\AppData\\Local\\Programs\\Python\\Python311\\Lib\\site-packages\\keras\\src\\engine\\base_layer_utils.py:384: The name tf.executing_eagerly_outside_functions is deprecated. Please use tf.compat.v1.executing_eagerly_outside_functions instead.\n",
      "\n",
      "80/80 [==============================] - 3s 8ms/step - loss: 1695083.3750 - mse: 1695083.3750 - mae: 1088.3773 - val_loss: 918061.8750 - val_mse: 918061.8750 - val_mae: 752.1284\n",
      "Epoch 2/100\n",
      "80/80 [==============================] - 0s 5ms/step - loss: 715695.0000 - mse: 715695.0000 - mae: 672.1813 - val_loss: 600003.1875 - val_mse: 600003.1875 - val_mae: 627.0085\n",
      "Epoch 3/100\n",
      "80/80 [==============================] - 1s 7ms/step - loss: 547205.1250 - mse: 547205.1250 - mae: 587.9003 - val_loss: 530142.6250 - val_mse: 530142.6250 - val_mae: 591.1495\n",
      "Epoch 4/100\n",
      "80/80 [==============================] - 1s 9ms/step - loss: 509364.6562 - mse: 509364.6562 - mae: 576.4446 - val_loss: 519687.1562 - val_mse: 519687.1562 - val_mae: 593.4916\n",
      "Epoch 5/100\n",
      "80/80 [==============================] - 1s 7ms/step - loss: 504526.7812 - mse: 504526.7812 - mae: 577.0096 - val_loss: 519604.4062 - val_mse: 519604.4062 - val_mae: 596.4485\n",
      "Epoch 6/100\n",
      "80/80 [==============================] - 1s 9ms/step - loss: 504640.4688 - mse: 504640.4688 - mae: 578.5275 - val_loss: 521894.5625 - val_mse: 521894.5625 - val_mae: 601.3114\n",
      "Epoch 7/100\n",
      "80/80 [==============================] - 0s 5ms/step - loss: 504189.2500 - mse: 504189.2500 - mae: 578.6617 - val_loss: 519556.5000 - val_mse: 519556.5000 - val_mae: 597.0809\n",
      "Epoch 8/100\n",
      "80/80 [==============================] - 1s 8ms/step - loss: 503947.2188 - mse: 503947.2188 - mae: 577.6587 - val_loss: 521649.1562 - val_mse: 521649.1562 - val_mae: 601.3036\n",
      "Epoch 9/100\n",
      "80/80 [==============================] - 1s 10ms/step - loss: 503701.9688 - mse: 503701.9688 - mae: 578.1854 - val_loss: 518876.8438 - val_mse: 518876.8438 - val_mae: 596.1905\n",
      "Epoch 10/100\n",
      "80/80 [==============================] - 1s 7ms/step - loss: 504190.8438 - mse: 504190.8438 - mae: 578.7903 - val_loss: 519392.8125 - val_mse: 519392.8125 - val_mae: 597.4889\n",
      "Epoch 11/100\n",
      "80/80 [==============================] - 0s 5ms/step - loss: 503562.6250 - mse: 503562.6250 - mae: 578.3896 - val_loss: 517408.8438 - val_mse: 517408.8438 - val_mae: 593.1387\n",
      "Epoch 12/100\n",
      "80/80 [==============================] - 1s 11ms/step - loss: 503190.9375 - mse: 503190.9375 - mae: 576.4371 - val_loss: 523624.7500 - val_mse: 523624.7500 - val_mae: 605.1048\n",
      "Epoch 13/100\n",
      "80/80 [==============================] - 1s 8ms/step - loss: 504715.4688 - mse: 504715.4688 - mae: 578.6114 - val_loss: 520727.5000 - val_mse: 520727.5000 - val_mae: 600.6426\n",
      "Epoch 14/100\n",
      "80/80 [==============================] - 0s 5ms/step - loss: 502821.7500 - mse: 502821.7500 - mae: 577.5290 - val_loss: 520943.6562 - val_mse: 520943.6562 - val_mae: 601.2549\n",
      "Epoch 15/100\n",
      "80/80 [==============================] - 0s 5ms/step - loss: 503882.2500 - mse: 503882.2500 - mae: 579.1273 - val_loss: 516491.3125 - val_mse: 516491.3125 - val_mae: 592.1334\n",
      "Epoch 16/100\n",
      "80/80 [==============================] - 1s 8ms/step - loss: 503185.7812 - mse: 503185.7812 - mae: 577.0528 - val_loss: 518276.5625 - val_mse: 518276.5625 - val_mae: 596.7031\n",
      "Epoch 17/100\n",
      "80/80 [==============================] - 0s 5ms/step - loss: 502322.0000 - mse: 502322.0000 - mae: 577.8361 - val_loss: 519518.2500 - val_mse: 519518.2500 - val_mae: 599.3289\n",
      "Epoch 18/100\n",
      "80/80 [==============================] - 0s 6ms/step - loss: 503202.3438 - mse: 503202.3438 - mae: 577.4839 - val_loss: 518997.9062 - val_mse: 518997.9062 - val_mae: 598.6890\n",
      "Epoch 19/100\n",
      "80/80 [==============================] - 1s 8ms/step - loss: 502387.7812 - mse: 502387.7812 - mae: 577.7678 - val_loss: 517609.9375 - val_mse: 517609.9375 - val_mae: 596.2352\n",
      "Epoch 20/100\n",
      "80/80 [==============================] - 0s 4ms/step - loss: 501570.5625 - mse: 501570.5625 - mae: 576.4296 - val_loss: 516617.0000 - val_mse: 516617.0000 - val_mae: 594.6018\n",
      "Epoch 21/100\n",
      "80/80 [==============================] - 0s 5ms/step - loss: 502776.9375 - mse: 502776.9375 - mae: 578.1713 - val_loss: 516616.6562 - val_mse: 516616.6562 - val_mae: 594.6382\n",
      "Epoch 22/100\n",
      "80/80 [==============================] - 0s 5ms/step - loss: 501696.2812 - mse: 501696.2812 - mae: 578.3110 - val_loss: 514514.7500 - val_mse: 514514.7500 - val_mae: 587.1889\n",
      "Epoch 23/100\n",
      "80/80 [==============================] - 1s 7ms/step - loss: 502041.7188 - mse: 502041.7188 - mae: 575.1844 - val_loss: 523466.0938 - val_mse: 523466.0938 - val_mae: 606.2800\n",
      "Epoch 24/100\n",
      "80/80 [==============================] - 0s 5ms/step - loss: 501823.3125 - mse: 501823.3125 - mae: 578.1467 - val_loss: 515114.8125 - val_mse: 515114.8125 - val_mae: 592.2179\n",
      "Epoch 25/100\n",
      "80/80 [==============================] - 0s 5ms/step - loss: 501130.5625 - mse: 501130.5625 - mae: 576.5812 - val_loss: 514352.8438 - val_mse: 514352.8438 - val_mae: 590.2081\n",
      "Epoch 26/100\n",
      "80/80 [==============================] - 1s 7ms/step - loss: 500837.2812 - mse: 500837.2812 - mae: 576.1326 - val_loss: 518709.6875 - val_mse: 518709.6875 - val_mae: 600.1234\n",
      "Epoch 27/100\n",
      "80/80 [==============================] - 0s 5ms/step - loss: 501218.9062 - mse: 501218.9062 - mae: 576.9377 - val_loss: 516458.1562 - val_mse: 516458.1562 - val_mae: 596.2897\n",
      "Epoch 28/100\n",
      "80/80 [==============================] - 0s 4ms/step - loss: 500584.9375 - mse: 500584.9375 - mae: 575.3657 - val_loss: 517807.0938 - val_mse: 517807.0938 - val_mae: 599.0096\n",
      "Epoch 29/100\n",
      "80/80 [==============================] - 0s 6ms/step - loss: 501934.9688 - mse: 501934.9688 - mae: 577.3456 - val_loss: 513696.0000 - val_mse: 513696.0000 - val_mae: 590.4324\n",
      "Epoch 30/100\n",
      "80/80 [==============================] - 1s 7ms/step - loss: 501279.2500 - mse: 501279.2500 - mae: 577.5897 - val_loss: 513669.0625 - val_mse: 513669.0625 - val_mae: 581.7876\n",
      "Epoch 31/100\n",
      "80/80 [==============================] - 0s 5ms/step - loss: 501241.2500 - mse: 501241.2500 - mae: 576.0992 - val_loss: 513160.5938 - val_mse: 513160.5938 - val_mae: 589.8857\n",
      "Epoch 32/100\n",
      "80/80 [==============================] - 0s 5ms/step - loss: 499758.9062 - mse: 499758.9062 - mae: 575.8483 - val_loss: 513160.5000 - val_mse: 513160.5000 - val_mae: 590.5750\n",
      "Epoch 33/100\n",
      "80/80 [==============================] - 1s 7ms/step - loss: 499513.3125 - mse: 499513.3125 - mae: 575.6379 - val_loss: 517201.8125 - val_mse: 517201.8125 - val_mae: 599.2061\n",
      "Epoch 34/100\n",
      "80/80 [==============================] - 0s 5ms/step - loss: 499687.6250 - mse: 499687.6250 - mae: 576.3783 - val_loss: 513668.0000 - val_mse: 513668.0000 - val_mae: 592.9250\n",
      "Epoch 35/100\n",
      "80/80 [==============================] - 0s 5ms/step - loss: 498709.0625 - mse: 498709.0625 - mae: 575.6208 - val_loss: 512098.4062 - val_mse: 512098.4062 - val_mae: 588.9826\n",
      "Epoch 36/100\n",
      "80/80 [==============================] - 0s 5ms/step - loss: 498971.4688 - mse: 498971.4688 - mae: 574.9961 - val_loss: 511971.7500 - val_mse: 511971.7500 - val_mae: 589.3940\n",
      "Epoch 37/100\n",
      "80/80 [==============================] - 1s 9ms/step - loss: 497921.0000 - mse: 497921.0000 - mae: 575.4556 - val_loss: 511474.7500 - val_mse: 511474.7500 - val_mae: 582.4268\n",
      "Epoch 38/100\n",
      "80/80 [==============================] - 0s 5ms/step - loss: 498286.3438 - mse: 498286.3438 - mae: 573.5911 - val_loss: 521075.9062 - val_mse: 521075.9062 - val_mae: 605.4485\n",
      "Epoch 39/100\n",
      "80/80 [==============================] - 0s 5ms/step - loss: 497960.5625 - mse: 497960.5625 - mae: 574.4210 - val_loss: 513356.3438 - val_mse: 513356.3438 - val_mae: 594.0108\n",
      "Epoch 40/100\n",
      "80/80 [==============================] - 1s 7ms/step - loss: 497298.7812 - mse: 497298.7812 - mae: 576.3422 - val_loss: 510410.5625 - val_mse: 510410.5625 - val_mae: 582.5771\n",
      "Epoch 41/100\n",
      "80/80 [==============================] - 0s 6ms/step - loss: 499003.7188 - mse: 499003.7188 - mae: 574.1479 - val_loss: 516941.6562 - val_mse: 516941.6562 - val_mae: 600.7452\n",
      "Epoch 42/100\n",
      "80/80 [==============================] - 0s 5ms/step - loss: 496582.6875 - mse: 496582.6875 - mae: 574.8104 - val_loss: 509756.8438 - val_mse: 509756.8438 - val_mae: 585.1884\n",
      "Epoch 43/100\n",
      "80/80 [==============================] - 0s 5ms/step - loss: 497912.3438 - mse: 497912.3438 - mae: 573.3522 - val_loss: 511756.6562 - val_mse: 511756.6562 - val_mae: 592.5298\n",
      "Epoch 44/100\n",
      "80/80 [==============================] - 1s 7ms/step - loss: 496179.2500 - mse: 496179.2500 - mae: 573.5639 - val_loss: 520039.0938 - val_mse: 520039.0938 - val_mae: 605.3565\n",
      "Epoch 45/100\n",
      "80/80 [==============================] - 0s 5ms/step - loss: 496297.8125 - mse: 496297.8125 - mae: 574.9336 - val_loss: 509722.5938 - val_mse: 509722.5938 - val_mae: 588.3834\n",
      "Epoch 46/100\n",
      "80/80 [==============================] - 0s 4ms/step - loss: 496808.6875 - mse: 496808.6875 - mae: 573.6099 - val_loss: 510216.8438 - val_mse: 510216.8438 - val_mae: 590.6229\n",
      "Epoch 47/100\n",
      "80/80 [==============================] - 1s 9ms/step - loss: 496341.1562 - mse: 496341.1562 - mae: 573.5375 - val_loss: 513984.0625 - val_mse: 513984.0625 - val_mae: 597.9756\n",
      "Epoch 48/100\n",
      "80/80 [==============================] - 1s 8ms/step - loss: 495505.0625 - mse: 495505.0625 - mae: 574.0017 - val_loss: 510644.5938 - val_mse: 510644.5938 - val_mae: 592.6500\n",
      "Epoch 49/100\n",
      "80/80 [==============================] - 1s 8ms/step - loss: 495508.1875 - mse: 495508.1875 - mae: 573.3303 - val_loss: 508927.6875 - val_mse: 508927.6875 - val_mae: 589.2963\n",
      "Epoch 50/100\n",
      "80/80 [==============================] - 1s 9ms/step - loss: 494770.3125 - mse: 494770.3125 - mae: 572.5006 - val_loss: 516168.6562 - val_mse: 516168.6562 - val_mae: 601.7469\n",
      "Epoch 51/100\n",
      "80/80 [==============================] - 0s 6ms/step - loss: 494567.4062 - mse: 494567.4062 - mae: 572.6483 - val_loss: 509213.9375 - val_mse: 509213.9375 - val_mae: 591.0590\n",
      "Epoch 52/100\n",
      "80/80 [==============================] - 1s 6ms/step - loss: 494035.0938 - mse: 494035.0938 - mae: 572.6542 - val_loss: 506518.0625 - val_mse: 506518.0625 - val_mae: 581.1481\n",
      "Epoch 53/100\n",
      "80/80 [==============================] - 1s 9ms/step - loss: 496106.7188 - mse: 496106.7188 - mae: 572.6714 - val_loss: 511206.5000 - val_mse: 511206.5000 - val_mae: 595.3627\n",
      "Epoch 54/100\n",
      "80/80 [==============================] - 1s 7ms/step - loss: 493619.9062 - mse: 493619.9062 - mae: 571.2079 - val_loss: 516715.3438 - val_mse: 516715.3438 - val_mae: 602.9445\n",
      "Epoch 55/100\n",
      "80/80 [==============================] - 0s 6ms/step - loss: 493862.4375 - mse: 493862.4375 - mae: 573.5529 - val_loss: 506935.4062 - val_mse: 506935.4062 - val_mae: 588.1815\n",
      "Epoch 56/100\n",
      "80/80 [==============================] - 1s 8ms/step - loss: 492287.5000 - mse: 492287.5000 - mae: 571.3248 - val_loss: 507258.6875 - val_mse: 507258.6875 - val_mae: 589.6984\n",
      "Epoch 57/100\n",
      "80/80 [==============================] - 0s 5ms/step - loss: 491946.3438 - mse: 491946.3438 - mae: 570.7978 - val_loss: 505621.8125 - val_mse: 505621.8125 - val_mae: 586.4425\n",
      "Epoch 58/100\n",
      "80/80 [==============================] - 0s 6ms/step - loss: 491985.0312 - mse: 491985.0312 - mae: 571.9115 - val_loss: 505646.6875 - val_mse: 505646.6875 - val_mae: 587.4863\n",
      "Epoch 59/100\n",
      "80/80 [==============================] - 1s 8ms/step - loss: 491020.1562 - mse: 491020.1562 - mae: 570.4590 - val_loss: 503967.4375 - val_mse: 503967.4375 - val_mae: 583.1238\n",
      "Epoch 60/100\n",
      "80/80 [==============================] - 0s 5ms/step - loss: 492076.9062 - mse: 492076.9062 - mae: 571.4260 - val_loss: 504897.9062 - val_mse: 504897.9062 - val_mae: 587.2227\n",
      "Epoch 61/100\n",
      "80/80 [==============================] - 1s 7ms/step - loss: 491718.1250 - mse: 491718.1250 - mae: 569.4127 - val_loss: 507780.8438 - val_mse: 507780.8438 - val_mae: 593.1650\n",
      "Epoch 62/100\n",
      "80/80 [==============================] - 1s 8ms/step - loss: 489973.6250 - mse: 489973.6250 - mae: 570.3467 - val_loss: 504927.0625 - val_mse: 504927.0625 - val_mae: 588.7880\n",
      "Epoch 63/100\n",
      "80/80 [==============================] - 0s 6ms/step - loss: 489100.1562 - mse: 489100.1562 - mae: 570.9493 - val_loss: 501853.0938 - val_mse: 501853.0938 - val_mae: 579.8219\n",
      "Epoch 64/100\n",
      "80/80 [==============================] - 0s 6ms/step - loss: 489665.7812 - mse: 489665.7812 - mae: 568.0450 - val_loss: 507978.2500 - val_mse: 507978.2500 - val_mae: 594.6568\n",
      "Epoch 65/100\n",
      "80/80 [==============================] - 1s 8ms/step - loss: 488448.5938 - mse: 488448.5938 - mae: 570.5645 - val_loss: 501272.5938 - val_mse: 501272.5938 - val_mae: 581.9150\n",
      "Epoch 66/100\n",
      "80/80 [==============================] - 0s 5ms/step - loss: 488405.0000 - mse: 488405.0000 - mae: 569.4736 - val_loss: 502115.1562 - val_mse: 502115.1562 - val_mae: 585.7579\n",
      "Epoch 67/100\n",
      "80/80 [==============================] - 0s 6ms/step - loss: 489046.8125 - mse: 489046.8125 - mae: 569.7289 - val_loss: 500241.6562 - val_mse: 500241.6562 - val_mae: 575.2868\n",
      "Epoch 68/100\n",
      "80/80 [==============================] - 1s 8ms/step - loss: 488267.1875 - mse: 488267.1875 - mae: 569.1412 - val_loss: 499333.4062 - val_mse: 499333.4062 - val_mae: 577.0722\n",
      "Epoch 69/100\n",
      "80/80 [==============================] - 0s 6ms/step - loss: 486349.1875 - mse: 486349.1875 - mae: 566.5731 - val_loss: 507049.3125 - val_mse: 507049.3125 - val_mae: 595.3307\n",
      "Epoch 70/100\n",
      "80/80 [==============================] - 0s 6ms/step - loss: 486535.8438 - mse: 486535.8438 - mae: 568.1828 - val_loss: 498305.5938 - val_mse: 498305.5938 - val_mae: 578.6756\n",
      "Epoch 71/100\n",
      "80/80 [==============================] - 1s 9ms/step - loss: 484814.8438 - mse: 484814.8438 - mae: 566.6061 - val_loss: 501897.7500 - val_mse: 501897.7500 - val_mae: 588.7791\n",
      "Epoch 72/100\n",
      "80/80 [==============================] - 1s 7ms/step - loss: 485798.5312 - mse: 485798.5312 - mae: 566.7608 - val_loss: 500114.6875 - val_mse: 500114.6875 - val_mae: 586.4105\n",
      "Epoch 73/100\n",
      "80/80 [==============================] - 1s 7ms/step - loss: 484934.6250 - mse: 484934.6250 - mae: 567.9688 - val_loss: 496342.3438 - val_mse: 496342.3438 - val_mae: 575.7812\n",
      "Epoch 74/100\n",
      "80/80 [==============================] - 1s 9ms/step - loss: 484528.0000 - mse: 484528.0000 - mae: 564.8895 - val_loss: 501027.0625 - val_mse: 501027.0625 - val_mae: 589.0289\n",
      "Epoch 75/100\n",
      "80/80 [==============================] - 1s 7ms/step - loss: 483471.0312 - mse: 483471.0312 - mae: 565.5807 - val_loss: 496588.5938 - val_mse: 496588.5938 - val_mae: 581.9658\n",
      "Epoch 76/100\n",
      "80/80 [==============================] - 1s 9ms/step - loss: 482653.5000 - mse: 482653.5000 - mae: 565.5134 - val_loss: 513101.6562 - val_mse: 513101.6562 - val_mae: 603.4835\n",
      "Epoch 77/100\n",
      "80/80 [==============================] - 1s 6ms/step - loss: 484030.3750 - mse: 484030.3750 - mae: 566.5588 - val_loss: 494140.7500 - val_mse: 494140.7500 - val_mae: 578.0727\n",
      "Epoch 78/100\n",
      "80/80 [==============================] - 0s 6ms/step - loss: 483085.2188 - mse: 483085.2188 - mae: 564.1816 - val_loss: 500332.7500 - val_mse: 500332.7500 - val_mae: 590.1281\n",
      "Epoch 79/100\n",
      "80/80 [==============================] - 1s 9ms/step - loss: 480930.5000 - mse: 480930.5000 - mae: 564.7164 - val_loss: 493265.5938 - val_mse: 493265.5938 - val_mae: 578.9135\n",
      "Epoch 80/100\n",
      "80/80 [==============================] - 0s 6ms/step - loss: 480876.2812 - mse: 480876.2812 - mae: 563.8416 - val_loss: 499788.8438 - val_mse: 499788.8438 - val_mae: 590.4247\n",
      "Epoch 81/100\n",
      "80/80 [==============================] - 0s 6ms/step - loss: 479377.4062 - mse: 479377.4062 - mae: 561.8346 - val_loss: 502993.5000 - val_mse: 502993.5000 - val_mae: 594.4964\n",
      "Epoch 82/100\n",
      "80/80 [==============================] - 1s 8ms/step - loss: 478893.0000 - mse: 478893.0000 - mae: 563.1150 - val_loss: 492175.6875 - val_mse: 492175.6875 - val_mae: 580.3259\n",
      "Epoch 83/100\n",
      "80/80 [==============================] - 1s 6ms/step - loss: 476968.2500 - mse: 476968.2500 - mae: 562.1021 - val_loss: 492949.9375 - val_mse: 492949.9375 - val_mae: 562.8639\n",
      "Epoch 84/100\n",
      "80/80 [==============================] - 0s 5ms/step - loss: 479175.6250 - mse: 479175.6250 - mae: 561.1669 - val_loss: 496279.8125 - val_mse: 496279.8125 - val_mae: 587.7423\n",
      "Epoch 85/100\n",
      "80/80 [==============================] - 1s 9ms/step - loss: 476889.5625 - mse: 476889.5625 - mae: 562.0986 - val_loss: 488455.0625 - val_mse: 488455.0625 - val_mae: 575.8134\n",
      "Epoch 86/100\n",
      "80/80 [==============================] - 1s 7ms/step - loss: 475051.5625 - mse: 475051.5625 - mae: 558.9150 - val_loss: 487033.7500 - val_mse: 487033.7500 - val_mae: 573.5192\n",
      "Epoch 87/100\n",
      "80/80 [==============================] - 0s 5ms/step - loss: 475928.3750 - mse: 475928.3750 - mae: 560.3671 - val_loss: 486550.8438 - val_mse: 486550.8438 - val_mae: 574.3018\n",
      "Epoch 88/100\n",
      "80/80 [==============================] - 1s 7ms/step - loss: 472907.5938 - mse: 472907.5938 - mae: 558.8530 - val_loss: 484867.3438 - val_mse: 484867.3438 - val_mae: 571.3580\n",
      "Epoch 89/100\n",
      "80/80 [==============================] - 0s 4ms/step - loss: 474172.4688 - mse: 474172.4688 - mae: 558.7270 - val_loss: 484351.9375 - val_mse: 484351.9375 - val_mae: 572.1917\n",
      "Epoch 90/100\n",
      "80/80 [==============================] - 0s 5ms/step - loss: 471395.1250 - mse: 471395.1250 - mae: 557.4402 - val_loss: 484860.8125 - val_mse: 484860.8125 - val_mae: 575.0858\n",
      "Epoch 91/100\n",
      "80/80 [==============================] - 0s 5ms/step - loss: 470443.4062 - mse: 470443.4062 - mae: 557.9208 - val_loss: 482407.3125 - val_mse: 482407.3125 - val_mae: 561.1572\n",
      "Epoch 92/100\n",
      "80/80 [==============================] - 1s 7ms/step - loss: 470563.7500 - mse: 470563.7500 - mae: 556.5988 - val_loss: 482122.6562 - val_mse: 482122.6562 - val_mae: 572.2109\n",
      "Epoch 93/100\n",
      "80/80 [==============================] - 0s 5ms/step - loss: 468317.8750 - mse: 468317.8750 - mae: 554.2096 - val_loss: 485952.8438 - val_mse: 485952.8438 - val_mae: 579.4896\n",
      "Epoch 94/100\n",
      "80/80 [==============================] - 0s 5ms/step - loss: 467108.9375 - mse: 467108.9375 - mae: 555.4412 - val_loss: 478350.6562 - val_mse: 478350.6562 - val_mae: 564.8911\n",
      "Epoch 95/100\n",
      "80/80 [==============================] - 1s 7ms/step - loss: 466302.7500 - mse: 466302.7500 - mae: 554.0211 - val_loss: 480342.3438 - val_mse: 480342.3438 - val_mae: 572.5739\n",
      "Epoch 96/100\n",
      "80/80 [==============================] - 0s 5ms/step - loss: 468191.1250 - mse: 468191.1250 - mae: 553.5726 - val_loss: 481225.5938 - val_mse: 481225.5938 - val_mae: 574.8221\n",
      "Epoch 97/100\n",
      "80/80 [==============================] - 0s 4ms/step - loss: 465115.5000 - mse: 465115.5000 - mae: 553.5116 - val_loss: 474998.8438 - val_mse: 474998.8438 - val_mae: 560.4401\n",
      "Epoch 98/100\n",
      "80/80 [==============================] - 0s 5ms/step - loss: 466179.6562 - mse: 466179.6562 - mae: 553.3803 - val_loss: 475319.4375 - val_mse: 475319.4375 - val_mae: 566.3726\n",
      "Epoch 99/100\n",
      "80/80 [==============================] - 1s 7ms/step - loss: 464036.6562 - mse: 464036.6562 - mae: 553.2291 - val_loss: 473123.0000 - val_mse: 473123.0000 - val_mae: 561.5956\n",
      "Epoch 100/100\n",
      "80/80 [==============================] - 0s 4ms/step - loss: 463457.6562 - mse: 463457.6562 - mae: 549.9381 - val_loss: 475305.0000 - val_mse: 475305.0000 - val_mae: 568.7479\n",
      "Mean Squared Error: 468755.59375\n",
      "Mean Absolute Error: 561.9271850585938\n"
     ]
    }
   ],
   "source": [
    "history = simple_model.fit(x_train, y_train, epochs=100, batch_size=32, validation_split=0.2, verbose=1)\n",
    "\n",
    "loss, mse, mae = simple_model.evaluate(x_test, y_test, verbose=0)\n",
    "print('Mean Squared Error:', mse)\n",
    "print('Mean Absolute Error:', mae)\n"
   ]
  },
  {
   "cell_type": "markdown",
   "metadata": {},
   "source": [
    "We can see that the model is not performing well. We will try to improve the model by adding more layers and increasing the number of neurons in each layer."
   ]
  },
  {
   "cell_type": "markdown",
   "metadata": {},
   "source": [
    "## Defining a Complex Model"
   ]
  },
  {
   "cell_type": "code",
   "execution_count": 7,
   "metadata": {},
   "outputs": [],
   "source": [
    "def build_advanced_dnn(input_shape):\n",
    "    model = models.Sequential()\n",
    "\n",
    "    # Input Layer\n",
    "    model.add(layers.InputLayer(input_shape=input_shape))\n",
    "\n",
    "    # Hidden Layers with Dropout and Batch Normalization\n",
    "    hidden_layer_dropout = 0.7\n",
    "    \n",
    "    model.add(layers.Dense(32, activation='relu'))\n",
    "    model.add(layers.BatchNormalization())    # Batch Normalization\n",
    "    model.add(layers.Dropout(hidden_layer_dropout))\n",
    "    \n",
    "    model.add(layers.Dense(64, activation='relu'))\n",
    "    model.add(layers.BatchNormalization())    # Batch Normalization\n",
    "    model.add(layers.Dropout(hidden_layer_dropout))\n",
    "    \n",
    "    model.add(layers.Dense(128, activation='relu'))\n",
    "    model.add(layers.BatchNormalization())    # Batch Normalization\n",
    "    model.add(layers.Dropout(hidden_layer_dropout))            # Dropout\n",
    "    \n",
    "    model.add(layers.Dense(128, activation='relu'))\n",
    "    model.add(layers.BatchNormalization())    # Batch Normalization\n",
    "    model.add(layers.Dropout(hidden_layer_dropout))            # Dropout\n",
    "    \n",
    "    model.add(layers.Dense(128, activation='relu'))\n",
    "    model.add(layers.BatchNormalization())    # Batch Normalization\n",
    "    model.add(layers.Dropout(hidden_layer_dropout))            # Dropout\n",
    "\n",
    "    model.add(layers.Dense(128, activation='relu'))\n",
    "    model.add(layers.BatchNormalization())\n",
    "    model.add(layers.Dropout(hidden_layer_dropout))\n",
    "\n",
    "    model.add(layers.Dense(64, activation='relu'))\n",
    "    \n",
    "    # Output Layer for 3 outputs (min, max, modal prices)\n",
    "    model.add(layers.Dense(3, activation='linear'))  # Linear for regression\n",
    "    \n",
    "    # Compile the model with Adam optimizer using learning rate decay\n",
    "    optimizer = tf.keras.optimizers.Adam(\n",
    "        learning_rate=tf.keras.optimizers.schedules.ExponentialDecay(\n",
    "            initial_learning_rate=0.001, decay_steps=10000, decay_rate=0.9)\n",
    "    )\n",
    "    \n",
    "    model.compile(optimizer=optimizer, loss='mse', metrics=['mse', 'mae'])\n",
    "    \n",
    "    return model"
   ]
  },
  {
   "cell_type": "markdown",
   "metadata": {},
   "source": [
    "## Complex Model Structure"
   ]
  },
  {
   "cell_type": "code",
   "execution_count": 8,
   "metadata": {},
   "outputs": [
    {
     "name": "stdout",
     "output_type": "stream",
     "text": [
      "Model: \"sequential_1\"\n",
      "_________________________________________________________________\n",
      " Layer (type)                Output Shape              Param #   \n",
      "=================================================================\n",
      " dense_4 (Dense)             (None, 32)                416       \n",
      "                                                                 \n",
      " batch_normalization (Batch  (None, 32)                128       \n",
      " Normalization)                                                  \n",
      "                                                                 \n",
      " dropout (Dropout)           (None, 32)                0         \n",
      "                                                                 \n",
      " dense_5 (Dense)             (None, 64)                2112      \n",
      "                                                                 \n",
      " batch_normalization_1 (Bat  (None, 64)                256       \n",
      " chNormalization)                                                \n",
      "                                                                 \n",
      " dropout_1 (Dropout)         (None, 64)                0         \n",
      "                                                                 \n",
      " dense_6 (Dense)             (None, 128)               8320      \n",
      "                                                                 \n",
      " batch_normalization_2 (Bat  (None, 128)               512       \n",
      " chNormalization)                                                \n",
      "                                                                 \n",
      " dropout_2 (Dropout)         (None, 128)               0         \n",
      "                                                                 \n",
      " dense_7 (Dense)             (None, 128)               16512     \n",
      "                                                                 \n",
      " batch_normalization_3 (Bat  (None, 128)               512       \n",
      " chNormalization)                                                \n",
      "                                                                 \n",
      " dropout_3 (Dropout)         (None, 128)               0         \n",
      "                                                                 \n",
      " dense_8 (Dense)             (None, 128)               16512     \n",
      "                                                                 \n",
      " batch_normalization_4 (Bat  (None, 128)               512       \n",
      " chNormalization)                                                \n",
      "                                                                 \n",
      " dropout_4 (Dropout)         (None, 128)               0         \n",
      "                                                                 \n",
      " dense_9 (Dense)             (None, 128)               16512     \n",
      "                                                                 \n",
      " batch_normalization_5 (Bat  (None, 128)               512       \n",
      " chNormalization)                                                \n",
      "                                                                 \n",
      " dropout_5 (Dropout)         (None, 128)               0         \n",
      "                                                                 \n",
      " dense_10 (Dense)            (None, 64)                8256      \n",
      "                                                                 \n",
      " dense_11 (Dense)            (None, 3)                 195       \n",
      "                                                                 \n",
      "=================================================================\n",
      "Total params: 71267 (278.39 KB)\n",
      "Trainable params: 70051 (273.64 KB)\n",
      "Non-trainable params: 1216 (4.75 KB)\n",
      "_________________________________________________________________\n"
     ]
    }
   ],
   "source": [
    "complex_model = build_advanced_dnn(input_shape)\n",
    "complex_model.summary()"
   ]
  },
  {
   "cell_type": "markdown",
   "metadata": {},
   "source": [
    "## Complex Model Training and Evaluation"
   ]
  },
  {
   "cell_type": "code",
   "execution_count": 9,
   "metadata": {},
   "outputs": [
    {
     "name": "stdout",
     "output_type": "stream",
     "text": [
      "Epoch 1/100\n",
      "80/80 [==============================] - 8s 20ms/step - loss: 2870488.0000 - mse: 2870488.0000 - mae: 1521.9124 - val_loss: 2589633.5000 - val_mse: 2589633.5000 - val_mae: 1422.7444\n",
      "Epoch 2/100\n",
      "80/80 [==============================] - 1s 11ms/step - loss: 2835570.5000 - mse: 2835570.5000 - mae: 1510.6669 - val_loss: 2573100.2500 - val_mse: 2573100.2500 - val_mae: 1415.4088\n",
      "Epoch 3/100\n",
      "80/80 [==============================] - 1s 12ms/step - loss: 2680066.0000 - mse: 2680066.0000 - mae: 1457.9192 - val_loss: 2710042.7500 - val_mse: 2710042.7500 - val_mae: 1462.9836\n",
      "Epoch 4/100\n",
      "80/80 [==============================] - 1s 10ms/step - loss: 2012253.5000 - mse: 2012253.5000 - mae: 1189.3690 - val_loss: 2597464.0000 - val_mse: 2597464.0000 - val_mae: 1421.0845\n",
      "Epoch 5/100\n",
      "80/80 [==============================] - 1s 13ms/step - loss: 1194153.1250 - mse: 1194153.1250 - mae: 850.1124 - val_loss: 2405800.0000 - val_mse: 2405800.0000 - val_mae: 1350.7935\n",
      "Epoch 6/100\n",
      "80/80 [==============================] - 1s 14ms/step - loss: 913211.8750 - mse: 913211.8750 - mae: 743.3159 - val_loss: 1479197.5000 - val_mse: 1479197.5000 - val_mae: 952.8569\n",
      "Epoch 7/100\n",
      "80/80 [==============================] - 1s 11ms/step - loss: 794490.4375 - mse: 794490.4375 - mae: 700.2636 - val_loss: 623829.7500 - val_mse: 623829.7500 - val_mae: 597.8998\n",
      "Epoch 8/100\n",
      "80/80 [==============================] - 1s 15ms/step - loss: 725783.8125 - mse: 725783.8125 - mae: 667.9819 - val_loss: 538106.9375 - val_mse: 538106.9375 - val_mae: 616.0682\n",
      "Epoch 9/100\n",
      "80/80 [==============================] - 1s 12ms/step - loss: 717316.1250 - mse: 717316.1250 - mae: 658.5551 - val_loss: 535935.1250 - val_mse: 535935.1250 - val_mae: 582.7191\n",
      "Epoch 10/100\n",
      "80/80 [==============================] - 1s 14ms/step - loss: 633196.3750 - mse: 633196.3750 - mae: 628.5782 - val_loss: 518701.4375 - val_mse: 518701.4375 - val_mae: 584.0778\n",
      "Epoch 11/100\n",
      "80/80 [==============================] - 1s 11ms/step - loss: 612385.5000 - mse: 612385.5000 - mae: 618.0885 - val_loss: 515573.5000 - val_mse: 515573.5000 - val_mae: 591.9152\n",
      "Epoch 12/100\n",
      "80/80 [==============================] - 1s 13ms/step - loss: 583135.9375 - mse: 583135.9375 - mae: 607.0209 - val_loss: 516540.6562 - val_mse: 516540.6562 - val_mae: 585.1248\n",
      "Epoch 13/100\n",
      "80/80 [==============================] - 1s 14ms/step - loss: 583088.8125 - mse: 583088.8125 - mae: 608.7482 - val_loss: 517318.8125 - val_mse: 517318.8125 - val_mae: 586.1786\n",
      "Epoch 14/100\n",
      "80/80 [==============================] - 1s 11ms/step - loss: 579848.9375 - mse: 579848.9375 - mae: 610.0405 - val_loss: 517958.3125 - val_mse: 517958.3125 - val_mae: 582.7482\n",
      "Epoch 15/100\n",
      "80/80 [==============================] - 1s 13ms/step - loss: 577331.4375 - mse: 577331.4375 - mae: 607.2676 - val_loss: 803725.6250 - val_mse: 803725.6250 - val_mae: 671.9949\n",
      "Epoch 16/100\n",
      "80/80 [==============================] - 1s 13ms/step - loss: 566206.0625 - mse: 566206.0625 - mae: 600.4874 - val_loss: 3003707.7500 - val_mse: 3003707.7500 - val_mae: 1512.8502\n",
      "Epoch 17/100\n",
      "80/80 [==============================] - 1s 13ms/step - loss: 566484.3125 - mse: 566484.3125 - mae: 600.2949 - val_loss: 873714.0000 - val_mse: 873714.0000 - val_mae: 715.2927\n",
      "Epoch 18/100\n",
      "80/80 [==============================] - 1s 11ms/step - loss: 571995.1250 - mse: 571995.1250 - mae: 603.0441 - val_loss: 516302.0000 - val_mse: 516302.0000 - val_mae: 590.6097\n",
      "Epoch 19/100\n",
      "80/80 [==============================] - 1s 13ms/step - loss: 573677.5000 - mse: 573677.5000 - mae: 604.9927 - val_loss: 521428.4375 - val_mse: 521428.4375 - val_mae: 590.3983\n",
      "Epoch 20/100\n",
      "80/80 [==============================] - 1s 13ms/step - loss: 568175.3750 - mse: 568175.3750 - mae: 600.0684 - val_loss: 518558.8125 - val_mse: 518558.8125 - val_mae: 597.0458\n",
      "Epoch 21/100\n",
      "80/80 [==============================] - 1s 11ms/step - loss: 568021.6250 - mse: 568021.6250 - mae: 601.1062 - val_loss: 513366.0625 - val_mse: 513366.0625 - val_mae: 589.2689\n",
      "Epoch 22/100\n",
      "80/80 [==============================] - 1s 12ms/step - loss: 572403.5625 - mse: 572403.5625 - mae: 601.1406 - val_loss: 545166.3750 - val_mse: 545166.3750 - val_mae: 571.6071\n",
      "Epoch 23/100\n",
      "80/80 [==============================] - 1s 12ms/step - loss: 570928.5000 - mse: 570928.5000 - mae: 601.7144 - val_loss: 522528.8125 - val_mse: 522528.8125 - val_mae: 607.4647\n",
      "Epoch 24/100\n",
      "80/80 [==============================] - 1s 14ms/step - loss: 562828.3125 - mse: 562828.3125 - mae: 594.8247 - val_loss: 587503.3125 - val_mse: 587503.3125 - val_mae: 656.1527\n",
      "Epoch 25/100\n",
      "80/80 [==============================] - 1s 11ms/step - loss: 560117.1250 - mse: 560117.1250 - mae: 594.5132 - val_loss: 536518.0625 - val_mse: 536518.0625 - val_mae: 622.0687\n",
      "Epoch 26/100\n",
      "80/80 [==============================] - 1s 14ms/step - loss: 561149.1250 - mse: 561149.1250 - mae: 597.8699 - val_loss: 958354.1250 - val_mse: 958354.1250 - val_mae: 851.6985\n",
      "Epoch 27/100\n",
      "80/80 [==============================] - 1s 13ms/step - loss: 563454.3750 - mse: 563454.3750 - mae: 595.2137 - val_loss: 541325.6250 - val_mse: 541325.6250 - val_mae: 625.8846\n",
      "Epoch 28/100\n",
      "80/80 [==============================] - 1s 10ms/step - loss: 559845.0625 - mse: 559845.0625 - mae: 596.8716 - val_loss: 528232.6250 - val_mse: 528232.6250 - val_mae: 569.9200\n",
      "Epoch 29/100\n",
      "80/80 [==============================] - 1s 13ms/step - loss: 550110.0000 - mse: 550110.0000 - mae: 590.9151 - val_loss: 506430.0938 - val_mse: 506430.0938 - val_mae: 597.6000\n",
      "Epoch 30/100\n",
      "80/80 [==============================] - 1s 11ms/step - loss: 565190.3125 - mse: 565190.3125 - mae: 596.4035 - val_loss: 829425.9375 - val_mse: 829425.9375 - val_mae: 707.1190\n",
      "Epoch 31/100\n",
      "80/80 [==============================] - 1s 13ms/step - loss: 543442.1250 - mse: 543442.1250 - mae: 590.0967 - val_loss: 659445.6250 - val_mse: 659445.6250 - val_mae: 700.0365\n",
      "Epoch 32/100\n",
      "80/80 [==============================] - 1s 11ms/step - loss: 553782.8750 - mse: 553782.8750 - mae: 590.6568 - val_loss: 607204.1875 - val_mse: 607204.1875 - val_mae: 598.0330\n",
      "Epoch 33/100\n",
      "80/80 [==============================] - 1s 13ms/step - loss: 554517.5000 - mse: 554517.5000 - mae: 590.4508 - val_loss: 1198077.7500 - val_mse: 1198077.7500 - val_mae: 913.3231\n",
      "Epoch 34/100\n",
      "80/80 [==============================] - 1s 13ms/step - loss: 560023.4375 - mse: 560023.4375 - mae: 594.1174 - val_loss: 14106154.0000 - val_mse: 14106154.0000 - val_mae: 3543.4722\n",
      "Epoch 35/100\n",
      "80/80 [==============================] - 1s 11ms/step - loss: 549073.0625 - mse: 549073.0625 - mae: 588.3557 - val_loss: 1664563.0000 - val_mse: 1664563.0000 - val_mae: 1095.4125\n",
      "Epoch 36/100\n",
      "80/80 [==============================] - 1s 13ms/step - loss: 529307.9375 - mse: 529307.9375 - mae: 577.6459 - val_loss: 832462.3750 - val_mse: 832462.3750 - val_mae: 693.8074\n",
      "Epoch 37/100\n",
      "80/80 [==============================] - 1s 11ms/step - loss: 543141.3750 - mse: 543141.3750 - mae: 583.2567 - val_loss: 802572.6250 - val_mse: 802572.6250 - val_mae: 670.5547\n",
      "Epoch 38/100\n",
      "80/80 [==============================] - 1s 13ms/step - loss: 535196.0000 - mse: 535196.0000 - mae: 580.8445 - val_loss: 835355.8125 - val_mse: 835355.8125 - val_mae: 684.9584\n",
      "Epoch 39/100\n",
      "80/80 [==============================] - 1s 11ms/step - loss: 543232.9375 - mse: 543232.9375 - mae: 577.9439 - val_loss: 737221.3750 - val_mse: 737221.3750 - val_mae: 741.8493\n",
      "Epoch 40/100\n",
      "80/80 [==============================] - 1s 14ms/step - loss: 542244.3125 - mse: 542244.3125 - mae: 584.2825 - val_loss: 5748969.0000 - val_mse: 5748969.0000 - val_mae: 2268.5005\n",
      "Epoch 41/100\n",
      "80/80 [==============================] - 1s 15ms/step - loss: 549143.7500 - mse: 549143.7500 - mae: 583.4680 - val_loss: 3883677.2500 - val_mse: 3883677.2500 - val_mae: 1829.1676\n",
      "Epoch 42/100\n",
      "80/80 [==============================] - 1s 11ms/step - loss: 527208.5000 - mse: 527208.5000 - mae: 576.0244 - val_loss: 105641360.0000 - val_mse: 105641360.0000 - val_mae: 10108.9277\n",
      "Epoch 43/100\n",
      "80/80 [==============================] - 1s 13ms/step - loss: 530444.9375 - mse: 530444.9375 - mae: 576.3376 - val_loss: 6694445.0000 - val_mse: 6694445.0000 - val_mae: 2386.8726\n",
      "Epoch 44/100\n",
      "80/80 [==============================] - 1s 11ms/step - loss: 529491.8750 - mse: 529491.8750 - mae: 578.4834 - val_loss: 13813018.0000 - val_mse: 13813018.0000 - val_mae: 3548.8020\n",
      "Epoch 45/100\n",
      "80/80 [==============================] - 1s 13ms/step - loss: 533431.4375 - mse: 533431.4375 - mae: 577.5632 - val_loss: 34266392.0000 - val_mse: 34266392.0000 - val_mae: 5709.9209\n",
      "Epoch 46/100\n",
      "80/80 [==============================] - 1s 13ms/step - loss: 544250.5625 - mse: 544250.5625 - mae: 582.4005 - val_loss: 991060.5000 - val_mse: 991060.5000 - val_mae: 847.2020\n",
      "Epoch 47/100\n",
      "80/80 [==============================] - 1s 11ms/step - loss: 530585.0000 - mse: 530585.0000 - mae: 580.3943 - val_loss: 771381.0625 - val_mse: 771381.0625 - val_mae: 667.7459\n",
      "Epoch 48/100\n",
      "80/80 [==============================] - 1s 13ms/step - loss: 512822.0625 - mse: 512822.0625 - mae: 568.1215 - val_loss: 15047091.0000 - val_mse: 15047091.0000 - val_mae: 3723.4980\n",
      "Epoch 49/100\n",
      "80/80 [==============================] - 1s 11ms/step - loss: 520275.4062 - mse: 520275.4062 - mae: 569.9630 - val_loss: 68378280.0000 - val_mse: 68378280.0000 - val_mae: 8122.7998\n",
      "Mean Squared Error: 490616.3125\n",
      "Mean Absolute Error: 582.9804077148438\n"
     ]
    }
   ],
   "source": [
    "# Callbacks: Early stopping and ReduceLROnPlateau\n",
    "early_stopping = EarlyStopping(monitor='val_loss', patience=20, restore_best_weights=True)\n",
    "# Early stopping to prevent overfitting\n",
    "\n",
    "# Training\n",
    "history = complex_model.fit(x_train, y_train, epochs=100, batch_size=32, validation_split=0.2, callbacks=[early_stopping], verbose=1)\n",
    "\n",
    "# Evaluation\n",
    "loss, mse, mae = complex_model.evaluate(x_test, y_test, verbose=0)\n",
    "print('Mean Squared Error:', mse)\n",
    "print('Mean Absolute Error:', mae)"
   ]
  },
  {
   "cell_type": "markdown",
   "metadata": {},
   "source": [
    "The Training ended at epoch 34 due to early stopping callback. The model is performing similar to the simple model even after adding more layers and neurons."
   ]
  },
  {
   "cell_type": "markdown",
   "metadata": {},
   "source": [
    "## Save the Models"
   ]
  },
  {
   "cell_type": "code",
   "execution_count": 10,
   "metadata": {},
   "outputs": [],
   "source": [
    "import pickle\n",
    "\n",
    "# Save the simple model\n",
    "simple_model.save('DL_models/simple_model.keras')\n",
    "\n",
    "# Save the complex model\n",
    "complex_model.save('DL_models/complex_model.keras')"
   ]
  },
  {
   "cell_type": "markdown",
   "metadata": {},
   "source": [
    "## Comparing all Models\n",
    "We will compare the performance of the ML models and DL models to see which model is performing better."
   ]
  },
  {
   "cell_type": "code",
   "execution_count": 11,
   "metadata": {},
   "outputs": [
    {
     "name": "stdout",
     "output_type": "stream",
     "text": [
      "25/25 [==============================] - 0s 3ms/step\n",
      "25/25 [==============================] - 1s 3ms/step\n",
      "ML Model MSE: 10956.809303894937\n",
      "Simple DNN Model MSE: 468755.56\n",
      "Complex DNN Model MSE: 490616.3\n"
     ]
    }
   ],
   "source": [
    "import pickle\n",
    "\n",
    "# Load the ml model and dl models\n",
    "ml_best_min_model = pickle.load(open('ML_models/best_min_model.pkl', 'rb'))\n",
    "ml_best_max_model = pickle.load(open('ML_models/best_max_model.pkl', 'rb'))\n",
    "ml_best_modal_model = pickle.load(open('ML_models/best_modal_model.pkl', 'rb'))\n",
    "\n",
    "simple_model = keras.models.load_model('DL_models/simple_model.keras')\n",
    "complex_model = keras.models.load_model('DL_models/complex_model.keras')\n",
    "\n",
    "# Predictions\n",
    "def predict_ml(df):\n",
    "    min_price = ml_best_min_model.predict(df)\n",
    "    max_price = ml_best_max_model.predict(df)\n",
    "    modal_price = ml_best_modal_model.predict(df)\n",
    "    \n",
    "    return pd.DataFrame({'Min': min_price, 'Max': max_price, 'Modal': modal_price})\n",
    "\n",
    "# Comparision of ML and DL models\n",
    "def compare_models(x, y):\n",
    "    ml_predictions = predict_ml(x)\n",
    "    simple_predictions = simple_model.predict(x)\n",
    "    complex_predictions = complex_model.predict(x)\n",
    "    \n",
    "    ml_mse = np.mean(mean_squared_error(y, ml_predictions))\n",
    "    simple_mse = np.mean(mean_squared_error(y, simple_predictions))\n",
    "    complex_mse = np.mean(mean_squared_error(y, complex_predictions))\n",
    "    \n",
    "    return ml_mse, simple_mse, complex_mse\n",
    "\n",
    "# we will use x_test and y_test for comparison\n",
    "ml_mse, simple_mse, complex_mse = compare_models(x_test, y_test)\n",
    "\n",
    "# Displaying the results\n",
    "print('ML Model MSE:', ml_mse)\n",
    "print('Simple DNN Model MSE:', simple_mse)\n",
    "print('Complex DNN Model MSE:', complex_mse)\n"
   ]
  },
  {
   "cell_type": "code",
   "execution_count": 12,
   "metadata": {},
   "outputs": [
    {
     "name": "stdout",
     "output_type": "stream",
     "text": [
      "25/25 [==============================] - 0s 3ms/step\n",
      "25/25 [==============================] - 0s 3ms/step\n"
     ]
    }
   ],
   "source": [
    "# Plotting the results\n",
    "\n",
    "results = {\n",
    "    'y_test': y_test.to_numpy(),\n",
    "    'ML Predictions': predict_ml(x_test).to_numpy(),\n",
    "    'Simple DNN Predictions': simple_model.predict(x_test),\n",
    "    'Complex DNN Predictions': complex_model.predict(x_test)\n",
    "}\n",
    "\n",
    "def find_abs_errors(y_true, y_pred):\n",
    "    return np.abs(y_true - y_pred)\n",
    "\n",
    "def find_squared_errors(y_true, y_pred):\n",
    "    return np.square(y_true - y_pred)\n",
    "\n",
    "def plot_error_distribution(array1, array2, model=None):\n",
    "    abs_errors = find_abs_errors(array1, array2)\n",
    "    abs_errors_clean = abs_errors[~np.isnan(abs_errors) & ~np.isinf(abs_errors)]\n",
    "    \n",
    "    labels = ['Min', 'Max', 'Modal']\n",
    "    sns.histplot(abs_errors_clean, bins=50, kde=True, log_scale=True)\n",
    "    plt.title('Absolute Errors Distribution for {model} Model'.format(model=model))\n",
    "    plt.xlabel('Absolute Errors')\n",
    "    plt.ylabel('Frequency')\n",
    "    plt.legend(labels)\n",
    "    plt.show()\n",
    "\n"
   ]
  },
  {
   "cell_type": "markdown",
   "metadata": {},
   "source": [
    "## Error Distribution in Log Scale"
   ]
  },
  {
   "cell_type": "code",
   "execution_count": 13,
   "metadata": {},
   "outputs": [
    {
     "name": "stderr",
     "output_type": "stream",
     "text": [
      "c:\\Users\\Thej Venkat\\AppData\\Local\\Programs\\Python\\Python311\\Lib\\site-packages\\pandas\\core\\nanops.py:1010: RuntimeWarning: invalid value encountered in subtract\n",
      "  sqr = _ensure_numeric((avg - values) ** 2)\n"
     ]
    },
    {
     "data": {
      "image/png": "[encoded data removed]",
      "text/plain": [
       "<Figure size 640x480 with 1 Axes>"
      ]
     },
     "metadata": {},
     "output_type": "display_data"
    },
    {
     "data": {
      "image/png": "[encoded data removed]",
      "text/plain": [
       "<Figure size 640x480 with 1 Axes>"
      ]
     },
     "metadata": {},
     "output_type": "display_data"
    },
    {
     "data": {
      "image/png": "[encoded data removed]",
      "text/plain": [
       "<Figure size 640x480 with 1 Axes>"
      ]
     },
     "metadata": {},
     "output_type": "display_data"
    }
   ],
   "source": [
    "# Plotting the error distribution\n",
    "plot_error_distribution(results['y_test'], results['ML Predictions'], model='ML')\n",
    "plot_error_distribution(results['y_test'], results['Simple DNN Predictions'], model='Simple DNN')\n",
    "plot_error_distribution(results['y_test'], results['Complex DNN Predictions'], model='Complex DNN')"
   ]
  },
  {
   "cell_type": "markdown",
   "metadata": {},
   "source": [
    "## Overall MAE and RMSE for each Model"
   ]
  },
  {
   "cell_type": "code",
   "execution_count": 14,
   "metadata": {},
   "outputs": [
    {
     "name": "stderr",
     "output_type": "stream",
     "text": [
      "C:\\Users\\Thej Venkat\\AppData\\Local\\Temp\\ipykernel_10764\\37664693.py:19: FutureWarning: \n",
      "\n",
      "Passing `palette` without assigning `hue` is deprecated and will be removed in v0.14.0. Assign the `x` variable to `hue` and set `legend=False` for the same effect.\n",
      "\n",
      "  sns.barplot(x=results_df.columns, y=results_df.loc['MAE'], palette=['red', 'blue', 'green'])\n"
     ]
    },
    {
     "data": {
      "image/png": "[encoded data removed]",
      "text/plain": [
       "<Figure size 640x480 with 1 Axes>"
      ]
     },
     "metadata": {},
     "output_type": "display_data"
    },
    {
     "name": "stderr",
     "output_type": "stream",
     "text": [
      "C:\\Users\\Thej Venkat\\AppData\\Local\\Temp\\ipykernel_10764\\37664693.py:24: FutureWarning: \n",
      "\n",
      "Passing `palette` without assigning `hue` is deprecated and will be removed in v0.14.0. Assign the `x` variable to `hue` and set `legend=False` for the same effect.\n",
      "\n",
      "  sns.barplot(x=results_df.columns, y=results_df.loc['RMSE'], palette=['red', 'blue', 'green'])\n"
     ]
    },
    {
     "data": {
      "image/png": "[encoded data removed]",
      "text/plain": [
       "<Figure size 640x480 with 1 Axes>"
      ]
     },
     "metadata": {},
     "output_type": "display_data"
    }
   ],
   "source": [
    "# MAE and RMSE for ML and DL models\n",
    "metric_results = {}\n",
    "\n",
    "def find_mae_rmse(y_true, y_pred, model):\n",
    "    mae = np.mean(find_abs_errors(y_true, y_pred))\n",
    "    rmse = np.sqrt(np.mean(find_squared_errors(y_true, y_pred)))\n",
    "    \n",
    "    metric_results[model] = {\n",
    "        'MAE': mae,\n",
    "        'RMSE': rmse\n",
    "    }\n",
    "\n",
    "find_mae_rmse(results['y_test'], results['ML Predictions'], 'ML')\n",
    "find_mae_rmse(results['y_test'], results['Simple DNN Predictions'], 'Simple DNN')\n",
    "find_mae_rmse(results['y_test'], results['Complex DNN Predictions'], 'Complex DNN')\n",
    "\n",
    "results_df = pd.DataFrame(metric_results)\n",
    "\n",
    "sns.barplot(x=results_df.columns, y=results_df.loc['MAE'], palette=['red', 'blue', 'green'])\n",
    "plt.title('Mean Absolute Error Comparison')\n",
    "plt.ylabel('Mean Absolute Error')\n",
    "plt.show()\n",
    "\n",
    "sns.barplot(x=results_df.columns, y=results_df.loc['RMSE'], palette=['red', 'blue', 'green'])\n",
    "plt.title('Root Mean Squared Error Comparison')\n",
    "plt.ylabel('Root Mean Squared Error')\n",
    "plt.show()\n",
    "    "
   ]
  },
  {
   "cell_type": "markdown",
   "metadata": {},
   "source": [
    "## Conclusion\n",
    "We can see that despite the complexity of the Deep Learning models, they are performing worse than the Machine Learning model. This could be due to the small dataset and the simple structure of the data with few features. We can try to improve the performance of the models by adding more features and increasing the dataset size.\n",
    "\n",
    "Currently, the Machine Learning model is performing better than the Deep Learning models, so we can use the Machine Learning model for predicting the future prices of Agricultural Commodity."
   ]
  },
  {
   "cell_type": "markdown",
   "metadata": {},
   "source": [
    "## Training the DL Models on the complete dataset for all markets for further use"
   ]
  },
  {
   "cell_type": "code",
   "execution_count": 15,
   "metadata": {},
   "outputs": [],
   "source": [
    "# from time import time\n",
    "# # Training models for all markets on complete dataset\n",
    "# markets = ['bengaluru', 'doddaballapur', 'hubballi', 'mysuru']\n",
    "# for i, df in enumerate(all_df):\n",
    "#     print(f'Training models for {markets[i]} market')\n",
    "#     print()\n",
    "    \n",
    "#     X = df.drop(columns=['Min', 'Max', 'Modal'])\n",
    "#     Y = df[['Min', 'Max', 'Modal']]\n",
    "    \n",
    "#     # Simple model\n",
    "#     print('Training Simple Model')\n",
    "#     time_start = time()\n",
    "#     simple_model = build_simple_dnn_model((X.shape[1],))\n",
    "#     history = simple_model.fit(X, Y, epochs=100, batch_size=32, verbose=0)\n",
    "#     simple_model.save(f'DL_models/{markets[i]}/simple_model.keras')\n",
    "#     loss, mse, mae = simple_model.evaluate(X, Y, verbose=0)\n",
    "#     time_end = time()\n",
    "#     print(f'Simple Model Training Time: {time_end - time_start} seconds')\n",
    "#     print(f'MSE: {mse}, MAE: {mae}')\n",
    "#     print()\n",
    "    \n",
    "#     # Complex model\n",
    "#     print('Training Complex Model')\n",
    "#     time_start = time()\n",
    "#     complex_model = build_advanced_dnn((X.shape[1],))\n",
    "#     early_stopping = EarlyStopping(monitor='val_loss', patience=20, restore_best_weights=True)\n",
    "#     # Randomize the data\n",
    "#     X, Y = shuffle(X, Y, random_state=50)\n",
    "#     history = complex_model.fit(X, Y, epochs=100, batch_size=32, validation_split=0.15, callbacks=[early_stopping], verbose=0)\n",
    "#     complex_model.save(f'DL_models/{markets[i]}/complex_model.keras')\n",
    "#     loss, mse, mae = complex_model.evaluate(X, Y, verbose=0)\n",
    "#     time_end = time()\n",
    "#     print(f'Complex Model Training Time: {time_end - time_start} seconds')\n",
    "#     print(f'MSE: {mse}, MAE: {mae}')\n",
    "#     print()"
   ]
  },
  {
   "cell_type": "markdown",
   "metadata": {},
   "source": [
    "We can see that for larger datasets, the complex model is performing a bit worse than the simple models. This is due to the fact that we are shuffling the data before splitting into validation and training sets. This is causing the model to learn the data in a different order than the data is present in the dataset."
   ]
  }
 ],
 "metadata": {
  "kernelspec": {
   "display_name": "Python 3",
   "language": "python",
   "name": "python3"
  },
  "language_info": {
   "codemirror_mode": {
    "name": "ipython",
    "version": 3
   },
   "file_extension": ".py",
   "mimetype": "text/x-python",
   "name": "python",
   "nbconvert_exporter": "python",
   "pygments_lexer": "ipython3",
   "version": "3.11.6"
  }
 },
 "nbformat": 4,
 "nbformat_minor": 2
}
