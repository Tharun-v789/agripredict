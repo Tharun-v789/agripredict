{
 "cells": [
  {
   "cell_type": "markdown",
   "metadata": {},
   "source": [
    "# Predictive Analysis using Deep Learning\n",
    "We aim to predict the future prices of Agricultural Commodity using Deep Neural Networks"
   ]
  },
  {
   "cell_type": "markdown",
   "metadata": {},
   "source": [
    "## Importing Libraries\n"
   ]
  },
  {
   "cell_type": "code",
   "execution_count": 1,
   "metadata": {},
   "outputs": [
    {
     "name": "stdout",
     "output_type": "stream",
     "text": [
      "WARNING:tensorflow:From c:\\Users\\Thej Venkat\\AppData\\Local\\Programs\\Python\\Python311\\Lib\\site-packages\\keras\\src\\losses.py:2976: The name tf.losses.sparse_softmax_cross_entropy is deprecated. Please use tf.compat.v1.losses.sparse_softmax_cross_entropy instead.\n",
      "\n"
     ]
    }
   ],
   "source": [
    "# Importing the required libraries\n",
    "import numpy as np\n",
    "import pandas as pd\n",
    "import matplotlib.pyplot as plt\n",
    "import seaborn as sns\n",
    "\n",
    "# TensorFlow and tf.keras\n",
    "import tensorflow as tf\n",
    "from tensorflow import keras\n",
    "from keras import layers, models\n",
    "from keras.models import Sequential\n",
    "from keras.layers import Dense, Activation, Flatten, Dropout\n",
    "from keras.optimizers import Adam\n",
    "from keras.metrics import mean_squared_error\n",
    "from tensorflow.keras.callbacks import EarlyStopping, ReduceLROnPlateau\n",
    "\n",
    "# sklearn\n",
    "from sklearn.model_selection import train_test_split\n",
    "from sklearn.preprocessing import StandardScaler\n"
   ]
  },
  {
   "cell_type": "markdown",
   "metadata": {},
   "source": [
    "## Loading the Data"
   ]
  },
  {
   "cell_type": "code",
   "execution_count": 2,
   "metadata": {},
   "outputs": [
    {
     "data": {
      "text/html": [
       "<div>\n",
       "<style scoped>\n",
       "    .dataframe tbody tr th:only-of-type {\n",
       "        vertical-align: middle;\n",
       "    }\n",
       "\n",
       "    .dataframe tbody tr th {\n",
       "        vertical-align: top;\n",
       "    }\n",
       "\n",
       "    .dataframe thead th {\n",
       "        text-align: right;\n",
       "    }\n",
       "</style>\n",
       "<table border=\"1\" class=\"dataframe\">\n",
       "  <thead>\n",
       "    <tr style=\"text-align: right;\">\n",
       "      <th></th>\n",
       "      <th>Min</th>\n",
       "      <th>Max</th>\n",
       "      <th>Modal</th>\n",
       "      <th>Year</th>\n",
       "      <th>Month</th>\n",
       "      <th>Day</th>\n",
       "      <th>Variety_BELLARY RED</th>\n",
       "      <th>Variety_LOCAL</th>\n",
       "      <th>Variety_ONION</th>\n",
       "      <th>Variety_OTHER</th>\n",
       "      <th>Variety_PUNA</th>\n",
       "      <th>Grade_FAQ</th>\n",
       "      <th>Grade_LARGE</th>\n",
       "      <th>Grade_MEDIUM</th>\n",
       "      <th>Grade_SMALL</th>\n",
       "    </tr>\n",
       "  </thead>\n",
       "  <tbody>\n",
       "    <tr>\n",
       "      <th>0</th>\n",
       "      <td>260.0</td>\n",
       "      <td>360.0</td>\n",
       "      <td>310.0</td>\n",
       "      <td>2002.0</td>\n",
       "      <td>2.0</td>\n",
       "      <td>7.0</td>\n",
       "      <td>0.0</td>\n",
       "      <td>0.0</td>\n",
       "      <td>1.0</td>\n",
       "      <td>0.0</td>\n",
       "      <td>0.0</td>\n",
       "      <td>1.0</td>\n",
       "      <td>0.0</td>\n",
       "      <td>0.0</td>\n",
       "      <td>0.0</td>\n",
       "    </tr>\n",
       "    <tr>\n",
       "      <th>1</th>\n",
       "      <td>150.0</td>\n",
       "      <td>240.0</td>\n",
       "      <td>195.0</td>\n",
       "      <td>2002.0</td>\n",
       "      <td>2.0</td>\n",
       "      <td>7.0</td>\n",
       "      <td>0.0</td>\n",
       "      <td>0.0</td>\n",
       "      <td>0.0</td>\n",
       "      <td>1.0</td>\n",
       "      <td>0.0</td>\n",
       "      <td>1.0</td>\n",
       "      <td>0.0</td>\n",
       "      <td>0.0</td>\n",
       "      <td>0.0</td>\n",
       "    </tr>\n",
       "    <tr>\n",
       "      <th>2</th>\n",
       "      <td>170.0</td>\n",
       "      <td>280.0</td>\n",
       "      <td>225.0</td>\n",
       "      <td>2002.0</td>\n",
       "      <td>3.0</td>\n",
       "      <td>27.0</td>\n",
       "      <td>0.0</td>\n",
       "      <td>0.0</td>\n",
       "      <td>1.0</td>\n",
       "      <td>0.0</td>\n",
       "      <td>0.0</td>\n",
       "      <td>1.0</td>\n",
       "      <td>0.0</td>\n",
       "      <td>0.0</td>\n",
       "      <td>0.0</td>\n",
       "    </tr>\n",
       "    <tr>\n",
       "      <th>3</th>\n",
       "      <td>190.0</td>\n",
       "      <td>300.0</td>\n",
       "      <td>245.0</td>\n",
       "      <td>2002.0</td>\n",
       "      <td>3.0</td>\n",
       "      <td>28.0</td>\n",
       "      <td>0.0</td>\n",
       "      <td>0.0</td>\n",
       "      <td>1.0</td>\n",
       "      <td>0.0</td>\n",
       "      <td>0.0</td>\n",
       "      <td>1.0</td>\n",
       "      <td>0.0</td>\n",
       "      <td>0.0</td>\n",
       "      <td>0.0</td>\n",
       "    </tr>\n",
       "    <tr>\n",
       "      <th>4</th>\n",
       "      <td>180.0</td>\n",
       "      <td>280.0</td>\n",
       "      <td>230.0</td>\n",
       "      <td>2002.0</td>\n",
       "      <td>3.0</td>\n",
       "      <td>30.0</td>\n",
       "      <td>0.0</td>\n",
       "      <td>0.0</td>\n",
       "      <td>1.0</td>\n",
       "      <td>0.0</td>\n",
       "      <td>0.0</td>\n",
       "      <td>1.0</td>\n",
       "      <td>0.0</td>\n",
       "      <td>0.0</td>\n",
       "      <td>0.0</td>\n",
       "    </tr>\n",
       "  </tbody>\n",
       "</table>\n",
       "</div>"
      ],
      "text/plain": [
       "     Min    Max  Modal    Year  Month   Day  Variety_BELLARY RED  \\\n",
       "0  260.0  360.0  310.0  2002.0    2.0   7.0                  0.0   \n",
       "1  150.0  240.0  195.0  2002.0    2.0   7.0                  0.0   \n",
       "2  170.0  280.0  225.0  2002.0    3.0  27.0                  0.0   \n",
       "3  190.0  300.0  245.0  2002.0    3.0  28.0                  0.0   \n",
       "4  180.0  280.0  230.0  2002.0    3.0  30.0                  0.0   \n",
       "\n",
       "   Variety_LOCAL  Variety_ONION  Variety_OTHER  Variety_PUNA  Grade_FAQ  \\\n",
       "0            0.0            1.0            0.0           0.0        1.0   \n",
       "1            0.0            0.0            1.0           0.0        1.0   \n",
       "2            0.0            1.0            0.0           0.0        1.0   \n",
       "3            0.0            1.0            0.0           0.0        1.0   \n",
       "4            0.0            1.0            0.0           0.0        1.0   \n",
       "\n",
       "   Grade_LARGE  Grade_MEDIUM  Grade_SMALL  \n",
       "0          0.0           0.0          0.0  \n",
       "1          0.0           0.0          0.0  \n",
       "2          0.0           0.0          0.0  \n",
       "3          0.0           0.0          0.0  \n",
       "4          0.0           0.0          0.0  "
      ]
     },
     "execution_count": 2,
     "metadata": {},
     "output_type": "execute_result"
    }
   ],
   "source": [
    "# Loading the data\n",
    "bengaluru_df = pd.read_csv('preprocessed_krama_report_bengaluru.csv')\n",
    "doddaballapur_df = pd.read_csv('preprocessed_krama_report_doddaballapur.csv')\n",
    "hubballi_df = pd.read_csv('preprocessed_krama_report_hubballi.csv')\n",
    "mysuru_df = pd.read_csv('preprocessed_krama_report_mysuru.csv')\n",
    "\n",
    "all_df = [bengaluru_df, doddaballapur_df, hubballi_df, mysuru_df]\n",
    "\n",
    "bengaluru_df.head()"
   ]
  },
  {
   "cell_type": "markdown",
   "metadata": {},
   "source": [
    "## Test-Train Split"
   ]
  },
  {
   "cell_type": "code",
   "execution_count": 3,
   "metadata": {},
   "outputs": [
    {
     "data": {
      "text/plain": [
       "(12, (13034, 12), (3259, 12), (13034, 3), (3259, 3))"
      ]
     },
     "execution_count": 3,
     "metadata": {},
     "output_type": "execute_result"
    }
   ],
   "source": [
    "X = bengaluru_df.drop(columns=['Min', 'Max', 'Modal'])\n",
    "Y = bengaluru_df[['Min', 'Max', 'Modal']]\n",
    "\n",
    "x_train, x_test, y_train, y_test = train_test_split(X, Y, test_size=0.2, random_state=50)\n",
    "input_size = x_train.shape[1]\n",
    "input_size, x_train.shape, x_test.shape, y_train.shape, y_test.shape"
   ]
  },
  {
   "cell_type": "markdown",
   "metadata": {},
   "source": [
    "## Defining a Simple Model"
   ]
  },
  {
   "cell_type": "code",
   "execution_count": 4,
   "metadata": {},
   "outputs": [],
   "source": [
    "# Defining the model\n",
    "def build_simple_dnn_model(input_shape):\n",
    "    model = models.Sequential()\n",
    "\n",
    "    # Input layer\n",
    "    model.add(layers.InputLayer(input_shape=input_shape))\n",
    "\n",
    "    # Hidden layers\n",
    "    model.add(layers.Dense(input_shape[0] * 2, activation='relu'))\n",
    "    model.add(layers.Dense(10, activation='relu'))\n",
    "    model.add(layers.Dense(5, activation='relu'))\n",
    "    \n",
    "    # Output layer with 3 units (min, max, modal)\n",
    "    model.add(layers.Dense(3, activation='linear'))  # Linear activation for regression output\n",
    "    \n",
    "    # Compile the model\n",
    "    model.compile(optimizer='adam', loss='mse', metrics=['mse', 'mae'])\n",
    "    \n",
    "    return model"
   ]
  },
  {
   "cell_type": "markdown",
   "metadata": {},
   "source": [
    "## Simple Model Structure"
   ]
  },
  {
   "cell_type": "code",
   "execution_count": 5,
   "metadata": {},
   "outputs": [
    {
     "name": "stdout",
     "output_type": "stream",
     "text": [
      "WARNING:tensorflow:From c:\\Users\\Thej Venkat\\AppData\\Local\\Programs\\Python\\Python311\\Lib\\site-packages\\keras\\src\\backend.py:873: The name tf.get_default_graph is deprecated. Please use tf.compat.v1.get_default_graph instead.\n",
      "\n",
      "WARNING:tensorflow:From c:\\Users\\Thej Venkat\\AppData\\Local\\Programs\\Python\\Python311\\Lib\\site-packages\\keras\\src\\optimizers\\__init__.py:309: The name tf.train.Optimizer is deprecated. Please use tf.compat.v1.train.Optimizer instead.\n",
      "\n",
      "Model: \"sequential\"\n",
      "_________________________________________________________________\n",
      " Layer (type)                Output Shape              Param #   \n",
      "=================================================================\n",
      " dense (Dense)               (None, 24)                312       \n",
      "                                                                 \n",
      " dense_1 (Dense)             (None, 10)                250       \n",
      "                                                                 \n",
      " dense_2 (Dense)             (None, 5)                 55        \n",
      "                                                                 \n",
      " dense_3 (Dense)             (None, 3)                 18        \n",
      "                                                                 \n",
      "=================================================================\n",
      "Total params: 635 (2.48 KB)\n",
      "Trainable params: 635 (2.48 KB)\n",
      "Non-trainable params: 0 (0.00 Byte)\n",
      "_________________________________________________________________\n"
     ]
    }
   ],
   "source": [
    "input_shape = (input_size,)\n",
    "\n",
    "simple_model = build_simple_dnn_model(input_shape)\n",
    "simple_model.summary()"
   ]
  },
  {
   "cell_type": "markdown",
   "metadata": {},
   "source": [
    "## Simple Model Training and Evaluation"
   ]
  },
  {
   "cell_type": "code",
   "execution_count": 6,
   "metadata": {},
   "outputs": [
    {
     "name": "stdout",
     "output_type": "stream",
     "text": [
      "Epoch 1/100\n",
      "WARNING:tensorflow:From c:\\Users\\Thej Venkat\\AppData\\Local\\Programs\\Python\\Python311\\Lib\\site-packages\\keras\\src\\utils\\tf_utils.py:492: The name tf.ragged.RaggedTensorValue is deprecated. Please use tf.compat.v1.ragged.RaggedTensorValue instead.\n",
      "\n",
      "WARNING:tensorflow:From c:\\Users\\Thej Venkat\\AppData\\Local\\Programs\\Python\\Python311\\Lib\\site-packages\\keras\\src\\engine\\base_layer_utils.py:384: The name tf.executing_eagerly_outside_functions is deprecated. Please use tf.compat.v1.executing_eagerly_outside_functions instead.\n",
      "\n",
      "326/326 [==============================] - 5s 5ms/step - loss: 919657.2500 - mse: 919657.2500 - mae: 714.3538 - val_loss: 613414.8125 - val_mse: 613414.8125 - val_mae: 588.6705\n",
      "Epoch 2/100\n",
      "326/326 [==============================] - 1s 4ms/step - loss: 499963.5625 - mse: 499963.5625 - mae: 541.1196 - val_loss: 476620.7500 - val_mse: 476620.7500 - val_mae: 536.9270\n",
      "Epoch 3/100\n",
      "326/326 [==============================] - 1s 4ms/step - loss: 466611.8750 - mse: 466611.8750 - mae: 529.1060 - val_loss: 476251.1250 - val_mse: 476251.1250 - val_mae: 534.9439\n",
      "Epoch 4/100\n",
      "326/326 [==============================] - 1s 4ms/step - loss: 466236.3125 - mse: 466236.3125 - mae: 528.5652 - val_loss: 475617.4062 - val_mse: 475617.4062 - val_mae: 538.2438\n",
      "Epoch 5/100\n",
      "326/326 [==============================] - 1s 4ms/step - loss: 465955.9062 - mse: 465955.9062 - mae: 528.6917 - val_loss: 475345.8125 - val_mse: 475345.8125 - val_mae: 539.6479\n",
      "Epoch 6/100\n",
      "326/326 [==============================] - 1s 4ms/step - loss: 465609.9688 - mse: 465609.9688 - mae: 528.4468 - val_loss: 475459.5938 - val_mse: 475459.5938 - val_mae: 533.6395\n",
      "Epoch 7/100\n",
      "326/326 [==============================] - 2s 5ms/step - loss: 465470.5000 - mse: 465470.5000 - mae: 527.8488 - val_loss: 474657.0000 - val_mse: 474657.0000 - val_mae: 538.0108\n",
      "Epoch 8/100\n",
      "326/326 [==============================] - 1s 4ms/step - loss: 465048.1562 - mse: 465048.1562 - mae: 528.4832 - val_loss: 475990.5000 - val_mse: 475990.5000 - val_mae: 529.4036\n",
      "Epoch 9/100\n",
      "326/326 [==============================] - 2s 6ms/step - loss: 464683.5312 - mse: 464683.5312 - mae: 527.4771 - val_loss: 475093.9688 - val_mse: 475093.9688 - val_mae: 545.3394\n",
      "Epoch 10/100\n",
      "326/326 [==============================] - 1s 4ms/step - loss: 464479.8438 - mse: 464479.8438 - mae: 527.8491 - val_loss: 473747.9375 - val_mse: 473747.9375 - val_mae: 535.7508\n",
      "Epoch 11/100\n",
      "326/326 [==============================] - 1s 4ms/step - loss: 463981.0938 - mse: 463981.0938 - mae: 527.8900 - val_loss: 475644.7188 - val_mse: 475644.7188 - val_mae: 527.4603\n",
      "Epoch 12/100\n",
      "326/326 [==============================] - 2s 5ms/step - loss: 463988.5312 - mse: 463988.5312 - mae: 527.4104 - val_loss: 472987.1875 - val_mse: 472987.1875 - val_mae: 538.5159\n",
      "Epoch 13/100\n",
      "326/326 [==============================] - 1s 4ms/step - loss: 463304.0625 - mse: 463304.0625 - mae: 527.6884 - val_loss: 473082.9375 - val_mse: 473082.9375 - val_mae: 532.1801\n",
      "Epoch 14/100\n",
      "326/326 [==============================] - 1s 4ms/step - loss: 463172.0312 - mse: 463172.0312 - mae: 526.7416 - val_loss: 472359.3125 - val_mse: 472359.3125 - val_mae: 539.6036\n",
      "Epoch 15/100\n",
      "326/326 [==============================] - 2s 5ms/step - loss: 462579.1250 - mse: 462579.1250 - mae: 527.3185 - val_loss: 473095.4062 - val_mse: 473095.4062 - val_mae: 529.0107\n",
      "Epoch 16/100\n",
      "326/326 [==============================] - 1s 4ms/step - loss: 462305.2188 - mse: 462305.2188 - mae: 526.8378 - val_loss: 471367.9688 - val_mse: 471367.9688 - val_mae: 536.0239\n",
      "Epoch 17/100\n",
      "326/326 [==============================] - 1s 4ms/step - loss: 461809.3125 - mse: 461809.3125 - mae: 526.1670 - val_loss: 470936.9375 - val_mse: 470936.9375 - val_mae: 535.5338\n",
      "Epoch 18/100\n",
      "326/326 [==============================] - 2s 5ms/step - loss: 461112.4062 - mse: 461112.4062 - mae: 526.7114 - val_loss: 471800.0000 - val_mse: 471800.0000 - val_mae: 528.2473\n",
      "Epoch 19/100\n",
      "326/326 [==============================] - 1s 4ms/step - loss: 460982.7500 - mse: 460982.7500 - mae: 525.9277 - val_loss: 470158.7188 - val_mse: 470158.7188 - val_mae: 532.5639\n",
      "Epoch 20/100\n",
      "326/326 [==============================] - 2s 6ms/step - loss: 460266.5312 - mse: 460266.5312 - mae: 525.6201 - val_loss: 469818.0938 - val_mse: 469818.0938 - val_mae: 531.2089\n",
      "Epoch 21/100\n",
      "326/326 [==============================] - 1s 4ms/step - loss: 459781.5938 - mse: 459781.5938 - mae: 525.1854 - val_loss: 469027.3438 - val_mse: 469027.3438 - val_mae: 537.6467\n",
      "Epoch 22/100\n",
      "326/326 [==============================] - 1s 4ms/step - loss: 459301.4062 - mse: 459301.4062 - mae: 525.4117 - val_loss: 468279.0938 - val_mse: 468279.0938 - val_mae: 534.4247\n",
      "Epoch 23/100\n",
      "326/326 [==============================] - 2s 5ms/step - loss: 458716.5938 - mse: 458716.5938 - mae: 524.7462 - val_loss: 467878.8750 - val_mse: 467878.8750 - val_mae: 530.9603\n",
      "Epoch 24/100\n",
      "326/326 [==============================] - 2s 5ms/step - loss: 458081.8750 - mse: 458081.8750 - mae: 524.7182 - val_loss: 467172.2188 - val_mse: 467172.2188 - val_mae: 530.3480\n",
      "Epoch 25/100\n",
      "326/326 [==============================] - 1s 4ms/step - loss: 457185.3125 - mse: 457185.3125 - mae: 524.3286 - val_loss: 468635.5312 - val_mse: 468635.5312 - val_mae: 523.2976\n",
      "Epoch 26/100\n",
      "326/326 [==============================] - 1s 4ms/step - loss: 456637.2812 - mse: 456637.2812 - mae: 523.5471 - val_loss: 465376.2188 - val_mse: 465376.2188 - val_mae: 530.2014\n",
      "Epoch 27/100\n",
      "326/326 [==============================] - 1s 4ms/step - loss: 455519.6250 - mse: 455519.6250 - mae: 523.0410 - val_loss: 464799.3750 - val_mse: 464799.3750 - val_mae: 527.3689\n",
      "Epoch 28/100\n",
      "326/326 [==============================] - 2s 5ms/step - loss: 454310.1562 - mse: 454310.1562 - mae: 522.4815 - val_loss: 463375.5000 - val_mse: 463375.5000 - val_mae: 528.2075\n",
      "Epoch 29/100\n",
      "326/326 [==============================] - 1s 4ms/step - loss: 453279.6250 - mse: 453279.6250 - mae: 521.8461 - val_loss: 462500.3750 - val_mse: 462500.3750 - val_mae: 525.3760\n",
      "Epoch 30/100\n",
      "326/326 [==============================] - 1s 4ms/step - loss: 452008.5938 - mse: 452008.5938 - mae: 520.9778 - val_loss: 460915.3750 - val_mse: 460915.3750 - val_mae: 524.6765\n",
      "Epoch 31/100\n",
      "326/326 [==============================] - 2s 5ms/step - loss: 448294.1250 - mse: 448294.1250 - mae: 518.1303 - val_loss: 456539.7188 - val_mse: 456539.7188 - val_mae: 530.3947\n",
      "Epoch 32/100\n",
      "326/326 [==============================] - 1s 4ms/step - loss: 443822.7188 - mse: 443822.7188 - mae: 515.7251 - val_loss: 453864.3438 - val_mse: 453864.3438 - val_mae: 539.3116\n",
      "Epoch 33/100\n",
      "326/326 [==============================] - 1s 4ms/step - loss: 438807.3750 - mse: 438807.3750 - mae: 512.5349 - val_loss: 442812.5312 - val_mse: 442812.5312 - val_mae: 523.4849\n",
      "Epoch 34/100\n",
      "326/326 [==============================] - 2s 5ms/step - loss: 428539.9688 - mse: 428539.9688 - mae: 505.8838 - val_loss: 430463.4688 - val_mse: 430463.4688 - val_mae: 506.3366\n",
      "Epoch 35/100\n",
      "326/326 [==============================] - 1s 4ms/step - loss: 418342.1562 - mse: 418342.1562 - mae: 499.6853 - val_loss: 419404.0625 - val_mse: 419404.0625 - val_mae: 494.6901\n",
      "Epoch 36/100\n",
      "326/326 [==============================] - 1s 4ms/step - loss: 405273.7188 - mse: 405273.7188 - mae: 489.9035 - val_loss: 406556.4375 - val_mse: 406556.4375 - val_mae: 491.5255\n",
      "Epoch 37/100\n",
      "326/326 [==============================] - 1s 4ms/step - loss: 395006.6875 - mse: 395006.6875 - mae: 483.1488 - val_loss: 401316.0000 - val_mse: 401316.0000 - val_mae: 476.8421\n",
      "Epoch 38/100\n",
      "326/326 [==============================] - 1s 4ms/step - loss: 388299.0312 - mse: 388299.0312 - mae: 478.2968 - val_loss: 391291.9688 - val_mse: 391291.9688 - val_mae: 481.0883\n",
      "Epoch 39/100\n",
      "326/326 [==============================] - 1s 4ms/step - loss: 384397.9688 - mse: 384397.9688 - mae: 474.1002 - val_loss: 387512.3125 - val_mse: 387512.3125 - val_mae: 474.4440\n",
      "Epoch 40/100\n",
      "326/326 [==============================] - 2s 5ms/step - loss: 379704.7500 - mse: 379704.7500 - mae: 471.5873 - val_loss: 390683.7500 - val_mse: 390683.7500 - val_mae: 462.5248\n",
      "Epoch 41/100\n",
      "326/326 [==============================] - 1s 4ms/step - loss: 379617.2812 - mse: 379617.2812 - mae: 471.0862 - val_loss: 380374.2812 - val_mse: 380374.2812 - val_mae: 480.7390\n",
      "Epoch 42/100\n",
      "326/326 [==============================] - 1s 5ms/step - loss: 374372.2812 - mse: 374372.2812 - mae: 467.6084 - val_loss: 377602.5625 - val_mse: 377602.5625 - val_mae: 479.4091\n",
      "Epoch 43/100\n",
      "326/326 [==============================] - 2s 5ms/step - loss: 370982.1562 - mse: 370982.1562 - mae: 465.1502 - val_loss: 374384.6562 - val_mse: 374384.6562 - val_mae: 473.9963\n",
      "Epoch 44/100\n",
      "326/326 [==============================] - 2s 6ms/step - loss: 368701.8125 - mse: 368701.8125 - mae: 463.1104 - val_loss: 382472.7188 - val_mse: 382472.7188 - val_mae: 454.1944\n",
      "Epoch 45/100\n",
      "326/326 [==============================] - 1s 4ms/step - loss: 367817.7812 - mse: 367817.7812 - mae: 461.8801 - val_loss: 376022.6875 - val_mse: 376022.6875 - val_mae: 488.1843\n",
      "Epoch 46/100\n",
      "326/326 [==============================] - 1s 4ms/step - loss: 365794.9688 - mse: 365794.9688 - mae: 461.0621 - val_loss: 368249.1875 - val_mse: 368249.1875 - val_mae: 471.7988\n",
      "Epoch 47/100\n",
      "326/326 [==============================] - 2s 5ms/step - loss: 364082.7500 - mse: 364082.7500 - mae: 460.8516 - val_loss: 366341.5938 - val_mse: 366341.5938 - val_mae: 461.5855\n",
      "Epoch 48/100\n",
      "326/326 [==============================] - 1s 4ms/step - loss: 361608.6875 - mse: 361608.6875 - mae: 458.8188 - val_loss: 364443.8750 - val_mse: 364443.8750 - val_mae: 461.5781\n",
      "Epoch 49/100\n",
      "326/326 [==============================] - 2s 5ms/step - loss: 360744.9375 - mse: 360744.9375 - mae: 458.4789 - val_loss: 362799.9688 - val_mse: 362799.9688 - val_mae: 460.4913\n",
      "Epoch 50/100\n",
      "326/326 [==============================] - 1s 4ms/step - loss: 358840.0938 - mse: 358840.0938 - mae: 456.9243 - val_loss: 361271.7812 - val_mse: 361271.7812 - val_mae: 460.0367\n",
      "Epoch 51/100\n",
      "326/326 [==============================] - 1s 4ms/step - loss: 357417.7188 - mse: 357417.7188 - mae: 455.5778 - val_loss: 360237.9375 - val_mse: 360237.9375 - val_mae: 465.1743\n",
      "Epoch 52/100\n",
      "326/326 [==============================] - 1s 5ms/step - loss: 354670.0938 - mse: 354670.0938 - mae: 454.6660 - val_loss: 359873.5938 - val_mse: 359873.5938 - val_mae: 469.2025\n",
      "Epoch 53/100\n",
      "326/326 [==============================] - 1s 4ms/step - loss: 354303.3438 - mse: 354303.3438 - mae: 453.5937 - val_loss: 357790.0938 - val_mse: 357790.0938 - val_mae: 454.6026\n",
      "Epoch 54/100\n",
      "326/326 [==============================] - 1s 4ms/step - loss: 353196.0938 - mse: 353196.0938 - mae: 453.7768 - val_loss: 357985.7188 - val_mse: 357985.7188 - val_mae: 450.3079\n",
      "Epoch 55/100\n",
      "326/326 [==============================] - 1s 5ms/step - loss: 352836.6250 - mse: 352836.6250 - mae: 452.5604 - val_loss: 358451.0625 - val_mse: 358451.0625 - val_mae: 472.6353\n",
      "Epoch 56/100\n",
      "326/326 [==============================] - 1s 4ms/step - loss: 352059.2500 - mse: 352059.2500 - mae: 453.1880 - val_loss: 357990.0000 - val_mse: 357990.0000 - val_mae: 447.0692\n",
      "Epoch 57/100\n",
      "326/326 [==============================] - 2s 5ms/step - loss: 349591.8125 - mse: 349591.8125 - mae: 450.0614 - val_loss: 357993.1562 - val_mse: 357993.1562 - val_mae: 474.3111\n",
      "Epoch 58/100\n",
      "326/326 [==============================] - 2s 5ms/step - loss: 350631.5312 - mse: 350631.5312 - mae: 451.3117 - val_loss: 351748.2188 - val_mse: 351748.2188 - val_mae: 453.3576\n",
      "Epoch 59/100\n",
      "326/326 [==============================] - 2s 6ms/step - loss: 350270.0000 - mse: 350270.0000 - mae: 451.8590 - val_loss: 360105.7500 - val_mse: 360105.7500 - val_mae: 442.1045\n",
      "Epoch 60/100\n",
      "326/326 [==============================] - 2s 5ms/step - loss: 346631.6562 - mse: 346631.6562 - mae: 448.6125 - val_loss: 365403.5312 - val_mse: 365403.5312 - val_mae: 439.6358\n",
      "Epoch 61/100\n",
      "326/326 [==============================] - 2s 5ms/step - loss: 346674.5625 - mse: 346674.5625 - mae: 449.1974 - val_loss: 349422.0312 - val_mse: 349422.0312 - val_mae: 455.7991\n",
      "Epoch 62/100\n",
      "326/326 [==============================] - 1s 5ms/step - loss: 345486.2500 - mse: 345486.2500 - mae: 448.1525 - val_loss: 356290.2500 - val_mse: 356290.2500 - val_mae: 440.8399\n",
      "Epoch 63/100\n",
      "326/326 [==============================] - 2s 5ms/step - loss: 345684.5000 - mse: 345684.5000 - mae: 448.0509 - val_loss: 347657.7812 - val_mse: 347657.7812 - val_mae: 456.5677\n",
      "Epoch 64/100\n",
      "326/326 [==============================] - 1s 4ms/step - loss: 343882.6250 - mse: 343882.6250 - mae: 447.6652 - val_loss: 357373.0312 - val_mse: 357373.0312 - val_mae: 438.1363\n",
      "Epoch 65/100\n",
      "326/326 [==============================] - 2s 5ms/step - loss: 345021.5312 - mse: 345021.5312 - mae: 447.5016 - val_loss: 348676.9062 - val_mse: 348676.9062 - val_mae: 443.1305\n",
      "Epoch 66/100\n",
      "326/326 [==============================] - 2s 5ms/step - loss: 342982.0000 - mse: 342982.0000 - mae: 446.2612 - val_loss: 345331.2500 - val_mse: 345331.2500 - val_mae: 455.5021\n",
      "Epoch 67/100\n",
      "326/326 [==============================] - 2s 5ms/step - loss: 340027.5000 - mse: 340027.5000 - mae: 444.0278 - val_loss: 345532.7188 - val_mse: 345532.7188 - val_mae: 457.1643\n",
      "Epoch 68/100\n",
      "326/326 [==============================] - 2s 5ms/step - loss: 341796.7500 - mse: 341796.7500 - mae: 445.5677 - val_loss: 345781.0625 - val_mse: 345781.0625 - val_mae: 441.9198\n",
      "Epoch 69/100\n",
      "326/326 [==============================] - 1s 4ms/step - loss: 339697.7188 - mse: 339697.7188 - mae: 443.6174 - val_loss: 347981.7188 - val_mse: 347981.7188 - val_mae: 440.4207\n",
      "Epoch 70/100\n",
      "326/326 [==============================] - 2s 5ms/step - loss: 339580.4375 - mse: 339580.4375 - mae: 443.5756 - val_loss: 342923.9375 - val_mse: 342923.9375 - val_mae: 454.8719\n",
      "Epoch 71/100\n",
      "326/326 [==============================] - 2s 5ms/step - loss: 338694.9062 - mse: 338694.9062 - mae: 442.8115 - val_loss: 344613.3750 - val_mse: 344613.3750 - val_mae: 438.9585\n",
      "Epoch 72/100\n",
      "326/326 [==============================] - 1s 5ms/step - loss: 338860.0312 - mse: 338860.0312 - mae: 442.9137 - val_loss: 356043.3750 - val_mse: 356043.3750 - val_mae: 478.5014\n",
      "Epoch 73/100\n",
      "326/326 [==============================] - 1s 4ms/step - loss: 338231.2812 - mse: 338231.2812 - mae: 442.1707 - val_loss: 352356.4688 - val_mse: 352356.4688 - val_mae: 434.4833\n",
      "Epoch 74/100\n",
      "326/326 [==============================] - 1s 4ms/step - loss: 337839.6875 - mse: 337839.6875 - mae: 442.0775 - val_loss: 344261.5938 - val_mse: 344261.5938 - val_mae: 436.6237\n",
      "Epoch 75/100\n",
      "326/326 [==============================] - 1s 4ms/step - loss: 336270.7812 - mse: 336270.7812 - mae: 441.2984 - val_loss: 340721.1875 - val_mse: 340721.1875 - val_mae: 439.2926\n",
      "Epoch 76/100\n",
      "326/326 [==============================] - 1s 4ms/step - loss: 335367.6875 - mse: 335367.6875 - mae: 440.1577 - val_loss: 338575.7500 - val_mse: 338575.7500 - val_mae: 440.9387\n",
      "Epoch 77/100\n",
      "326/326 [==============================] - 1s 4ms/step - loss: 333930.0312 - mse: 333930.0312 - mae: 439.4818 - val_loss: 341624.2188 - val_mse: 341624.2188 - val_mae: 459.3245\n",
      "Epoch 78/100\n",
      "326/326 [==============================] - 2s 5ms/step - loss: 334632.9062 - mse: 334632.9062 - mae: 440.0939 - val_loss: 339786.9062 - val_mse: 339786.9062 - val_mae: 436.5248\n",
      "Epoch 79/100\n",
      "326/326 [==============================] - 1s 4ms/step - loss: 334862.8750 - mse: 334862.8750 - mae: 440.4554 - val_loss: 346720.4688 - val_mse: 346720.4688 - val_mae: 433.4006\n",
      "Epoch 80/100\n",
      "326/326 [==============================] - 2s 5ms/step - loss: 332780.3438 - mse: 332780.3438 - mae: 438.7067 - val_loss: 346151.5938 - val_mse: 346151.5938 - val_mae: 432.0416\n",
      "Epoch 81/100\n",
      "326/326 [==============================] - 1s 4ms/step - loss: 332824.9375 - mse: 332824.9375 - mae: 438.6622 - val_loss: 347684.9688 - val_mse: 347684.9688 - val_mae: 430.5942\n",
      "Epoch 82/100\n",
      "326/326 [==============================] - 2s 5ms/step - loss: 332980.8438 - mse: 332980.8438 - mae: 438.2803 - val_loss: 336688.0312 - val_mse: 336688.0312 - val_mae: 436.8960\n",
      "Epoch 83/100\n",
      "326/326 [==============================] - 2s 5ms/step - loss: 332040.7188 - mse: 332040.7188 - mae: 437.9250 - val_loss: 345008.1250 - val_mse: 345008.1250 - val_mae: 430.5483\n",
      "Epoch 84/100\n",
      "326/326 [==============================] - 2s 5ms/step - loss: 332967.0625 - mse: 332967.0625 - mae: 438.3744 - val_loss: 334551.0000 - val_mse: 334551.0000 - val_mae: 448.0964\n",
      "Epoch 85/100\n",
      "326/326 [==============================] - 1s 4ms/step - loss: 330796.2500 - mse: 330796.2500 - mae: 436.5907 - val_loss: 335499.1562 - val_mse: 335499.1562 - val_mae: 451.4633\n",
      "Epoch 86/100\n",
      "326/326 [==============================] - 1s 4ms/step - loss: 330716.1875 - mse: 330716.1875 - mae: 437.3070 - val_loss: 345368.5625 - val_mse: 345368.5625 - val_mae: 429.3490\n",
      "Epoch 87/100\n",
      "326/326 [==============================] - 1s 5ms/step - loss: 331890.3438 - mse: 331890.3438 - mae: 437.8167 - val_loss: 346374.8438 - val_mse: 346374.8438 - val_mae: 428.9117\n",
      "Epoch 88/100\n",
      "326/326 [==============================] - 1s 4ms/step - loss: 331122.1250 - mse: 331122.1250 - mae: 437.6382 - val_loss: 331833.1562 - val_mse: 331833.1562 - val_mae: 440.4370\n",
      "Epoch 89/100\n",
      "326/326 [==============================] - 2s 5ms/step - loss: 328676.5625 - mse: 328676.5625 - mae: 436.2865 - val_loss: 331619.6562 - val_mse: 331619.6562 - val_mae: 440.7224\n",
      "Epoch 90/100\n",
      "326/326 [==============================] - 1s 4ms/step - loss: 330987.2188 - mse: 330987.2188 - mae: 436.7260 - val_loss: 353044.1562 - val_mse: 353044.1562 - val_mae: 479.8393\n",
      "Epoch 91/100\n",
      "326/326 [==============================] - 1s 5ms/step - loss: 329346.2188 - mse: 329346.2188 - mae: 436.0975 - val_loss: 331804.5625 - val_mse: 331804.5625 - val_mae: 447.7336\n",
      "Epoch 92/100\n",
      "326/326 [==============================] - 1s 4ms/step - loss: 328624.8750 - mse: 328624.8750 - mae: 436.2283 - val_loss: 330758.8750 - val_mse: 330758.8750 - val_mae: 437.0650\n",
      "Epoch 93/100\n",
      "326/326 [==============================] - 1s 4ms/step - loss: 329613.8750 - mse: 329613.8750 - mae: 436.2778 - val_loss: 333474.6250 - val_mse: 333474.6250 - val_mae: 452.3425\n",
      "Epoch 94/100\n",
      "326/326 [==============================] - 2s 5ms/step - loss: 325953.1250 - mse: 325953.1250 - mae: 434.1606 - val_loss: 341723.2500 - val_mse: 341723.2500 - val_mae: 426.9734\n",
      "Epoch 95/100\n",
      "326/326 [==============================] - 2s 6ms/step - loss: 331466.0938 - mse: 331466.0938 - mae: 437.4528 - val_loss: 329386.3125 - val_mse: 329386.3125 - val_mae: 439.6424\n",
      "Epoch 96/100\n",
      "326/326 [==============================] - 2s 6ms/step - loss: 327378.2188 - mse: 327378.2188 - mae: 434.9724 - val_loss: 332419.1562 - val_mse: 332419.1562 - val_mae: 451.6500\n",
      "Epoch 97/100\n",
      "326/326 [==============================] - 2s 6ms/step - loss: 325789.9688 - mse: 325789.9688 - mae: 433.5549 - val_loss: 328808.0000 - val_mse: 328808.0000 - val_mae: 442.0149\n",
      "Epoch 98/100\n",
      "326/326 [==============================] - 2s 5ms/step - loss: 325332.6562 - mse: 325332.6562 - mae: 433.8095 - val_loss: 328663.9062 - val_mse: 328663.9062 - val_mae: 434.6302\n",
      "Epoch 99/100\n",
      "326/326 [==============================] - 2s 5ms/step - loss: 327314.4375 - mse: 327314.4375 - mae: 434.6994 - val_loss: 329918.4688 - val_mse: 329918.4688 - val_mae: 431.6263\n",
      "Epoch 100/100\n",
      "326/326 [==============================] - 1s 4ms/step - loss: 324684.3750 - mse: 324684.3750 - mae: 432.5796 - val_loss: 327378.5000 - val_mse: 327378.5000 - val_mae: 439.7419\n",
      "Mean Squared Error: 326744.59375\n",
      "Mean Absolute Error: 438.42529296875\n"
     ]
    }
   ],
   "source": [
    "history = simple_model.fit(x_train, y_train, epochs=100, batch_size=32, validation_split=0.2, verbose=1)\n",
    "\n",
    "loss, mse, mae = simple_model.evaluate(x_test, y_test, verbose=0)\n",
    "print('Mean Squared Error:', mse)\n",
    "print('Mean Absolute Error:', mae)\n"
   ]
  },
  {
   "cell_type": "markdown",
   "metadata": {},
   "source": [
    "We can see that the model is not performing well. We will try to improve the model by adding more layers and increasing the number of neurons in each layer."
   ]
  },
  {
   "cell_type": "markdown",
   "metadata": {},
   "source": [
    "## Defining a Complex Model"
   ]
  },
  {
   "cell_type": "code",
   "execution_count": 7,
   "metadata": {},
   "outputs": [],
   "source": [
    "def build_advanced_dnn(input_shape):\n",
    "    model = models.Sequential()\n",
    "\n",
    "    # Input Layer\n",
    "    model.add(layers.InputLayer(input_shape=input_shape))\n",
    "\n",
    "    # Hidden Layers with Dropout and Batch Normalization\n",
    "    hidden_layer_dropout = 0.7\n",
    "    \n",
    "    model.add(layers.Dense(128, activation='relu'))\n",
    "    model.add(layers.BatchNormalization())    # Batch Normalization\n",
    "    model.add(layers.Dropout(hidden_layer_dropout))            # Dropout\n",
    "    \n",
    "    model.add(layers.Dense(128, activation='relu'))\n",
    "    model.add(layers.BatchNormalization())    # Batch Normalization\n",
    "    model.add(layers.Dropout(hidden_layer_dropout))            # Dropout\n",
    "    \n",
    "    model.add(layers.Dense(128, activation='relu'))\n",
    "    model.add(layers.BatchNormalization())    # Batch Normalization\n",
    "    model.add(layers.Dropout(hidden_layer_dropout))            # Dropout\n",
    "\n",
    "    model.add(layers.Dense(128, activation='relu'))\n",
    "    model.add(layers.BatchNormalization())\n",
    "    model.add(layers.Dropout(hidden_layer_dropout))\n",
    "\n",
    "    model.add(layers.Dense(64, activation='relu'))\n",
    "    \n",
    "    # Output Layer for 3 outputs (min, max, modal prices)\n",
    "    model.add(layers.Dense(3, activation='linear'))  # Linear for regression\n",
    "    \n",
    "    # Compile the model with Adam optimizer using learning rate decay\n",
    "    optimizer = tf.keras.optimizers.Adam(\n",
    "        learning_rate=tf.keras.optimizers.schedules.ExponentialDecay(\n",
    "            initial_learning_rate=0.001, decay_steps=10000, decay_rate=0.9)\n",
    "    )\n",
    "    \n",
    "    model.compile(optimizer=optimizer, loss='mse', metrics=['mse', 'mae'])\n",
    "    \n",
    "    return model"
   ]
  },
  {
   "cell_type": "markdown",
   "metadata": {},
   "source": [
    "## Complex Model Structure"
   ]
  },
  {
   "cell_type": "code",
   "execution_count": 8,
   "metadata": {},
   "outputs": [
    {
     "name": "stdout",
     "output_type": "stream",
     "text": [
      "Model: \"sequential_1\"\n",
      "_________________________________________________________________\n",
      " Layer (type)                Output Shape              Param #   \n",
      "=================================================================\n",
      " dense_4 (Dense)             (None, 128)               1664      \n",
      "                                                                 \n",
      " batch_normalization (Batch  (None, 128)               512       \n",
      " Normalization)                                                  \n",
      "                                                                 \n",
      " dropout (Dropout)           (None, 128)               0         \n",
      "                                                                 \n",
      " dense_5 (Dense)             (None, 128)               16512     \n",
      "                                                                 \n",
      " batch_normalization_1 (Bat  (None, 128)               512       \n",
      " chNormalization)                                                \n",
      "                                                                 \n",
      " dropout_1 (Dropout)         (None, 128)               0         \n",
      "                                                                 \n",
      " dense_6 (Dense)             (None, 128)               16512     \n",
      "                                                                 \n",
      " batch_normalization_2 (Bat  (None, 128)               512       \n",
      " chNormalization)                                                \n",
      "                                                                 \n",
      " dropout_2 (Dropout)         (None, 128)               0         \n",
      "                                                                 \n",
      " dense_7 (Dense)             (None, 128)               16512     \n",
      "                                                                 \n",
      " batch_normalization_3 (Bat  (None, 128)               512       \n",
      " chNormalization)                                                \n",
      "                                                                 \n",
      " dropout_3 (Dropout)         (None, 128)               0         \n",
      "                                                                 \n",
      " dense_8 (Dense)             (None, 64)                8256      \n",
      "                                                                 \n",
      " dense_9 (Dense)             (None, 3)                 195       \n",
      "                                                                 \n",
      "=================================================================\n",
      "Total params: 61699 (241.01 KB)\n",
      "Trainable params: 60675 (237.01 KB)\n",
      "Non-trainable params: 1024 (4.00 KB)\n",
      "_________________________________________________________________\n"
     ]
    }
   ],
   "source": [
    "complex_model = build_advanced_dnn(input_shape)\n",
    "complex_model.summary()"
   ]
  },
  {
   "cell_type": "markdown",
   "metadata": {},
   "source": [
    "## Complex Model Training and Evaluation"
   ]
  },
  {
   "cell_type": "code",
   "execution_count": 9,
   "metadata": {},
   "outputs": [
    {
     "name": "stdout",
     "output_type": "stream",
     "text": [
      "Epoch 1/100\n",
      "326/326 [==============================] - 7s 9ms/step - loss: 1272308.6250 - mse: 1272308.6250 - mae: 908.9971 - val_loss: 7151444.5000 - val_mse: 7151444.5000 - val_mae: 2599.2588\n",
      "Epoch 2/100\n",
      "326/326 [==============================] - 3s 8ms/step - loss: 455570.7812 - mse: 455570.7812 - mae: 517.9197 - val_loss: 983988.0000 - val_mse: 983988.0000 - val_mae: 752.6423\n",
      "Epoch 3/100\n",
      "326/326 [==============================] - 4s 11ms/step - loss: 402327.7812 - mse: 402327.7812 - mae: 478.5411 - val_loss: 999654.3750 - val_mse: 999654.3750 - val_mae: 770.7830\n",
      "Epoch 4/100\n",
      "326/326 [==============================] - 3s 10ms/step - loss: 396071.9375 - mse: 396071.9375 - mae: 472.0371 - val_loss: 25935736.0000 - val_mse: 25935736.0000 - val_mae: 4976.1929\n",
      "Epoch 5/100\n",
      "326/326 [==============================] - 3s 9ms/step - loss: 385572.1250 - mse: 385572.1250 - mae: 464.0982 - val_loss: 41539400.0000 - val_mse: 41539400.0000 - val_mae: 6352.1392\n",
      "Epoch 6/100\n",
      "326/326 [==============================] - 3s 8ms/step - loss: 376180.0938 - mse: 376180.0938 - mae: 456.1129 - val_loss: 863291.3125 - val_mse: 863291.3125 - val_mae: 695.1290\n",
      "Epoch 7/100\n",
      "326/326 [==============================] - 3s 9ms/step - loss: 371328.7188 - mse: 371328.7188 - mae: 451.5724 - val_loss: 935792.3125 - val_mse: 935792.3125 - val_mae: 819.3463\n",
      "Epoch 8/100\n",
      "326/326 [==============================] - 3s 8ms/step - loss: 369674.8125 - mse: 369674.8125 - mae: 448.9461 - val_loss: 3248780.7500 - val_mse: 3248780.7500 - val_mae: 1631.6270\n",
      "Epoch 9/100\n",
      "326/326 [==============================] - 3s 9ms/step - loss: 361313.6562 - mse: 361313.6562 - mae: 445.2878 - val_loss: 8094015.0000 - val_mse: 8094015.0000 - val_mae: 2709.6711\n",
      "Epoch 10/100\n",
      "326/326 [==============================] - 3s 9ms/step - loss: 361586.5625 - mse: 361586.5625 - mae: 444.5851 - val_loss: 1022934.5625 - val_mse: 1022934.5625 - val_mae: 739.7976\n",
      "Epoch 11/100\n",
      "326/326 [==============================] - 3s 10ms/step - loss: 353844.6250 - mse: 353844.6250 - mae: 440.5442 - val_loss: 945456.4375 - val_mse: 945456.4375 - val_mae: 848.5500\n",
      "Epoch 12/100\n",
      "326/326 [==============================] - 3s 10ms/step - loss: 356036.5938 - mse: 356036.5938 - mae: 440.7415 - val_loss: 8701388.0000 - val_mse: 8701388.0000 - val_mae: 2858.3184\n",
      "Epoch 13/100\n",
      "326/326 [==============================] - 3s 9ms/step - loss: 346467.9375 - mse: 346467.9375 - mae: 435.5700 - val_loss: 1377644.3750 - val_mse: 1377644.3750 - val_mae: 1040.0148\n",
      "Epoch 14/100\n",
      "326/326 [==============================] - 3s 8ms/step - loss: 346602.0625 - mse: 346602.0625 - mae: 435.4387 - val_loss: 1129053.6250 - val_mse: 1129053.6250 - val_mae: 933.6723\n",
      "Epoch 15/100\n",
      "326/326 [==============================] - 3s 9ms/step - loss: 345033.8125 - mse: 345033.8125 - mae: 433.9265 - val_loss: 1357761.2500 - val_mse: 1357761.2500 - val_mae: 872.1453\n",
      "Epoch 16/100\n",
      "326/326 [==============================] - 3s 8ms/step - loss: 347674.6250 - mse: 347674.6250 - mae: 436.9072 - val_loss: 14598301.0000 - val_mse: 14598301.0000 - val_mae: 3734.4978\n",
      "Epoch 17/100\n",
      "326/326 [==============================] - 3s 8ms/step - loss: 347544.1562 - mse: 347544.1562 - mae: 435.6823 - val_loss: 695922.4375 - val_mse: 695922.4375 - val_mae: 709.7886\n",
      "Epoch 18/100\n",
      "326/326 [==============================] - 3s 8ms/step - loss: 349213.2500 - mse: 349213.2500 - mae: 435.2990 - val_loss: 1434077.6250 - val_mse: 1434077.6250 - val_mae: 919.1268\n",
      "Epoch 19/100\n",
      "326/326 [==============================] - 3s 8ms/step - loss: 340914.7812 - mse: 340914.7812 - mae: 430.7137 - val_loss: 2748908.2500 - val_mse: 2748908.2500 - val_mae: 1553.0629\n",
      "Epoch 20/100\n",
      "326/326 [==============================] - 3s 8ms/step - loss: 341615.2812 - mse: 341615.2812 - mae: 432.0507 - val_loss: 6105654.5000 - val_mse: 6105654.5000 - val_mae: 2374.7146\n",
      "Epoch 21/100\n",
      "326/326 [==============================] - 3s 8ms/step - loss: 341575.5312 - mse: 341575.5312 - mae: 432.8008 - val_loss: 1268083.7500 - val_mse: 1268083.7500 - val_mae: 952.3593\n",
      "Epoch 22/100\n",
      "326/326 [==============================] - 3s 9ms/step - loss: 338789.7188 - mse: 338789.7188 - mae: 430.0892 - val_loss: 2358910.0000 - val_mse: 2358910.0000 - val_mae: 1413.3994\n",
      "Epoch 23/100\n",
      "326/326 [==============================] - 3s 9ms/step - loss: 338774.4688 - mse: 338774.4688 - mae: 428.6144 - val_loss: 14098346.0000 - val_mse: 14098346.0000 - val_mae: 3666.7188\n",
      "Epoch 24/100\n",
      "326/326 [==============================] - 3s 9ms/step - loss: 336687.5000 - mse: 336687.5000 - mae: 428.5791 - val_loss: 2728422.5000 - val_mse: 2728422.5000 - val_mae: 1548.1881\n",
      "Epoch 25/100\n",
      "326/326 [==============================] - 3s 9ms/step - loss: 335304.5000 - mse: 335304.5000 - mae: 428.8632 - val_loss: 646199.0625 - val_mse: 646199.0625 - val_mae: 574.9781\n",
      "Epoch 26/100\n",
      "326/326 [==============================] - 3s 9ms/step - loss: 335170.5625 - mse: 335170.5625 - mae: 427.8340 - val_loss: 573082.1875 - val_mse: 573082.1875 - val_mae: 571.8680\n",
      "Epoch 27/100\n",
      "326/326 [==============================] - 3s 9ms/step - loss: 336713.9375 - mse: 336713.9375 - mae: 427.6521 - val_loss: 1247882.5000 - val_mse: 1247882.5000 - val_mae: 835.0119\n",
      "Epoch 28/100\n",
      "326/326 [==============================] - 3s 8ms/step - loss: 334514.3125 - mse: 334514.3125 - mae: 426.5455 - val_loss: 671594.0625 - val_mse: 671594.0625 - val_mae: 736.0837\n",
      "Epoch 29/100\n",
      "326/326 [==============================] - 3s 9ms/step - loss: 334401.4688 - mse: 334401.4688 - mae: 425.7544 - val_loss: 670367.0625 - val_mse: 670367.0625 - val_mae: 698.4131\n",
      "Epoch 30/100\n",
      "326/326 [==============================] - 3s 9ms/step - loss: 332161.0312 - mse: 332161.0312 - mae: 425.6676 - val_loss: 2236043.0000 - val_mse: 2236043.0000 - val_mae: 1392.7665\n",
      "Epoch 31/100\n",
      "326/326 [==============================] - 3s 8ms/step - loss: 334273.3125 - mse: 334273.3125 - mae: 426.6354 - val_loss: 562642.5000 - val_mse: 562642.5000 - val_mae: 609.3107\n",
      "Epoch 32/100\n",
      "326/326 [==============================] - 3s 9ms/step - loss: 335768.8125 - mse: 335768.8125 - mae: 428.6195 - val_loss: 1245794.2500 - val_mse: 1245794.2500 - val_mae: 996.4611\n",
      "Epoch 33/100\n",
      "326/326 [==============================] - 3s 10ms/step - loss: 330522.6250 - mse: 330522.6250 - mae: 424.6514 - val_loss: 2261888.7500 - val_mse: 2261888.7500 - val_mae: 1402.6599\n",
      "Epoch 34/100\n",
      "326/326 [==============================] - 3s 9ms/step - loss: 330805.3125 - mse: 330805.3125 - mae: 426.1788 - val_loss: 1250206.3750 - val_mse: 1250206.3750 - val_mae: 1022.7619\n",
      "Epoch 35/100\n",
      "326/326 [==============================] - 3s 8ms/step - loss: 329877.8750 - mse: 329877.8750 - mae: 423.6952 - val_loss: 561874.7500 - val_mse: 561874.7500 - val_mae: 597.2017\n",
      "Epoch 36/100\n",
      "326/326 [==============================] - 3s 10ms/step - loss: 334248.9062 - mse: 334248.9062 - mae: 424.9751 - val_loss: 396463.2188 - val_mse: 396463.2188 - val_mae: 517.1848\n",
      "Epoch 37/100\n",
      "326/326 [==============================] - 3s 11ms/step - loss: 331211.0312 - mse: 331211.0312 - mae: 424.1981 - val_loss: 350408.8125 - val_mse: 350408.8125 - val_mae: 496.0752\n",
      "Epoch 38/100\n",
      "326/326 [==============================] - 3s 9ms/step - loss: 333731.5938 - mse: 333731.5938 - mae: 427.1705 - val_loss: 1231201.7500 - val_mse: 1231201.7500 - val_mae: 990.3086\n",
      "Epoch 39/100\n",
      "326/326 [==============================] - 3s 9ms/step - loss: 331634.8750 - mse: 331634.8750 - mae: 426.3233 - val_loss: 355778.0625 - val_mse: 355778.0625 - val_mae: 477.3313\n",
      "Epoch 40/100\n",
      "326/326 [==============================] - 3s 9ms/step - loss: 331225.1875 - mse: 331225.1875 - mae: 422.7682 - val_loss: 1388208.1250 - val_mse: 1388208.1250 - val_mae: 1056.0480\n",
      "Epoch 41/100\n",
      "326/326 [==============================] - 3s 8ms/step - loss: 333602.0000 - mse: 333602.0000 - mae: 425.7500 - val_loss: 1337590.2500 - val_mse: 1337590.2500 - val_mae: 864.6608\n",
      "Epoch 42/100\n",
      "326/326 [==============================] - 3s 10ms/step - loss: 333718.4375 - mse: 333718.4375 - mae: 426.9121 - val_loss: 736478.6875 - val_mse: 736478.6875 - val_mae: 642.1844\n",
      "Epoch 43/100\n",
      "326/326 [==============================] - 3s 9ms/step - loss: 327639.1562 - mse: 327639.1562 - mae: 422.4154 - val_loss: 736143.3750 - val_mse: 736143.3750 - val_mae: 601.0395\n",
      "Epoch 44/100\n",
      "326/326 [==============================] - 3s 9ms/step - loss: 327957.6562 - mse: 327957.6562 - mae: 422.6629 - val_loss: 2046302.6250 - val_mse: 2046302.6250 - val_mae: 1328.5153\n",
      "Epoch 45/100\n",
      "326/326 [==============================] - 3s 8ms/step - loss: 329236.5000 - mse: 329236.5000 - mae: 424.1328 - val_loss: 935305.0000 - val_mse: 935305.0000 - val_mae: 698.8557\n",
      "Epoch 46/100\n",
      "326/326 [==============================] - 3s 9ms/step - loss: 331622.0625 - mse: 331622.0625 - mae: 424.9093 - val_loss: 1274294.0000 - val_mse: 1274294.0000 - val_mae: 840.0167\n",
      "Epoch 47/100\n",
      "326/326 [==============================] - 3s 9ms/step - loss: 336245.5625 - mse: 336245.5625 - mae: 427.1989 - val_loss: 511089.1250 - val_mse: 511089.1250 - val_mae: 545.8190\n",
      "Epoch 48/100\n",
      "326/326 [==============================] - 3s 9ms/step - loss: 328380.0312 - mse: 328380.0312 - mae: 421.5823 - val_loss: 656582.8125 - val_mse: 656582.8125 - val_mae: 621.3812\n",
      "Epoch 49/100\n",
      "326/326 [==============================] - 3s 8ms/step - loss: 327775.9375 - mse: 327775.9375 - mae: 423.0608 - val_loss: 584750.4375 - val_mse: 584750.4375 - val_mae: 581.8607\n",
      "Epoch 50/100\n",
      "326/326 [==============================] - 3s 9ms/step - loss: 328284.5938 - mse: 328284.5938 - mae: 423.3422 - val_loss: 1838667.2500 - val_mse: 1838667.2500 - val_mae: 1247.8661\n",
      "Epoch 51/100\n",
      "326/326 [==============================] - 3s 9ms/step - loss: 333451.1250 - mse: 333451.1250 - mae: 425.6364 - val_loss: 9220210.0000 - val_mse: 9220210.0000 - val_mae: 2945.8806\n",
      "Epoch 52/100\n",
      "326/326 [==============================] - 3s 9ms/step - loss: 330403.2812 - mse: 330403.2812 - mae: 424.2060 - val_loss: 1964925.7500 - val_mse: 1964925.7500 - val_mae: 1263.4285\n",
      "Epoch 53/100\n",
      "326/326 [==============================] - 3s 8ms/step - loss: 326876.0000 - mse: 326876.0000 - mae: 422.7655 - val_loss: 15966362.0000 - val_mse: 15966362.0000 - val_mae: 3906.4714\n",
      "Epoch 54/100\n",
      "326/326 [==============================] - 3s 9ms/step - loss: 327938.5625 - mse: 327938.5625 - mae: 422.9265 - val_loss: 791469.7500 - val_mse: 791469.7500 - val_mae: 622.4096\n",
      "Epoch 55/100\n",
      "326/326 [==============================] - 3s 10ms/step - loss: 329944.9062 - mse: 329944.9062 - mae: 424.5806 - val_loss: 1371706.0000 - val_mse: 1371706.0000 - val_mae: 894.1808\n",
      "Epoch 56/100\n",
      "326/326 [==============================] - 3s 9ms/step - loss: 326926.8438 - mse: 326926.8438 - mae: 422.0866 - val_loss: 1116262.3750 - val_mse: 1116262.3750 - val_mae: 778.5453\n",
      "Epoch 57/100\n",
      "326/326 [==============================] - 3s 10ms/step - loss: 325637.5625 - mse: 325637.5625 - mae: 419.9563 - val_loss: 769554.9375 - val_mse: 769554.9375 - val_mae: 611.6550\n",
      "Mean Squared Error: 350507.9375\n",
      "Mean Absolute Error: 492.2884826660156\n"
     ]
    }
   ],
   "source": [
    "# Callbacks: Early stopping and ReduceLROnPlateau\n",
    "early_stopping = EarlyStopping(monitor='val_loss', patience=20, restore_best_weights=True)\n",
    "# Early stopping to prevent overfitting\n",
    "\n",
    "# Training\n",
    "history = complex_model.fit(x_train, y_train, epochs=100, batch_size=32, validation_split=0.2, callbacks=[early_stopping], verbose=1)\n",
    "\n",
    "# Evaluation\n",
    "loss, mse, mae = complex_model.evaluate(x_test, y_test, verbose=0)\n",
    "print('Mean Squared Error:', mse)\n",
    "print('Mean Absolute Error:', mae)"
   ]
  },
  {
   "cell_type": "markdown",
   "metadata": {},
   "source": [
    "The Training ended at epoch 34 due to early stopping callback. The model is performing similar to the simple model even after adding more layers and neurons."
   ]
  },
  {
   "cell_type": "markdown",
   "metadata": {},
   "source": [
    "## Save the Models"
   ]
  },
  {
   "cell_type": "code",
   "execution_count": 10,
   "metadata": {},
   "outputs": [],
   "source": [
    "import pickle\n",
    "\n",
    "# Save the simple model\n",
    "simple_model.save('DL_models/simple_model.keras')\n",
    "\n",
    "# Save the complex model\n",
    "complex_model.save('DL_models/complex_model.keras')"
   ]
  },
  {
   "cell_type": "markdown",
   "metadata": {},
   "source": [
    "## Comparing all Models\n",
    "We will compare the performance of the ML models and DL models to see which model is performing better."
   ]
  },
  {
   "cell_type": "code",
   "execution_count": 11,
   "metadata": {},
   "outputs": [
    {
     "name": "stdout",
     "output_type": "stream",
     "text": [
      "102/102 [==============================] - 1s 3ms/step\n",
      "102/102 [==============================] - 1s 3ms/step\n",
      "ML Model MSE: 5098.656937575145\n",
      "Simple DNN Model MSE: 326744.56\n",
      "Complex DNN Model MSE: 350507.9\n"
     ]
    }
   ],
   "source": [
    "import pickle\n",
    "\n",
    "# Load the ml model and dl models\n",
    "ml_best_min_model = pickle.load(open('ML_models/best_min_model.pkl', 'rb'))\n",
    "ml_best_max_model = pickle.load(open('ML_models/best_max_model.pkl', 'rb'))\n",
    "ml_best_modal_model = pickle.load(open('ML_models/best_modal_model.pkl', 'rb'))\n",
    "\n",
    "simple_model = keras.models.load_model('DL_models/simple_model.keras')\n",
    "complex_model = keras.models.load_model('DL_models/complex_model.keras')\n",
    "\n",
    "# Predictions\n",
    "def predict_ml(df):\n",
    "    min_price = ml_best_min_model.predict(df)\n",
    "    max_price = ml_best_max_model.predict(df)\n",
    "    modal_price = ml_best_modal_model.predict(df)\n",
    "    \n",
    "    return pd.DataFrame({'Min': min_price, 'Max': max_price, 'Modal': modal_price})\n",
    "\n",
    "# Comparision of ML and DL models\n",
    "def compare_models(x, y):\n",
    "    ml_predictions = predict_ml(x)\n",
    "    simple_predictions = simple_model.predict(x)\n",
    "    complex_predictions = complex_model.predict(x)\n",
    "    \n",
    "    ml_mse = np.mean(mean_squared_error(y, ml_predictions))\n",
    "    simple_mse = np.mean(mean_squared_error(y, simple_predictions))\n",
    "    complex_mse = np.mean(mean_squared_error(y, complex_predictions))\n",
    "    \n",
    "    return ml_mse, simple_mse, complex_mse\n",
    "\n",
    "# we will use x_test and y_test for comparison\n",
    "ml_mse, simple_mse, complex_mse = compare_models(x_test, y_test)\n",
    "\n",
    "# Displaying the results\n",
    "print('ML Model MSE:', ml_mse)\n",
    "print('Simple DNN Model MSE:', simple_mse)\n",
    "print('Complex DNN Model MSE:', complex_mse)\n"
   ]
  },
  {
   "cell_type": "code",
   "execution_count": 32,
   "metadata": {},
   "outputs": [
    {
     "name": "stdout",
     "output_type": "stream",
     "text": [
      "102/102 [==============================] - 0s 3ms/step\n",
      "102/102 [==============================] - 0s 3ms/step\n"
     ]
    }
   ],
   "source": [
    "# Plotting the results\n",
    "\n",
    "results = {\n",
    "    'y_test': y_test.to_numpy(),\n",
    "    'ML Predictions': predict_ml(x_test).to_numpy(),\n",
    "    'Simple DNN Predictions': simple_model.predict(x_test),\n",
    "    'Complex DNN Predictions': complex_model.predict(x_test)\n",
    "}\n",
    "\n",
    "def find_abs_errors(y_true, y_pred):\n",
    "    return np.abs(y_true - y_pred)\n",
    "\n",
    "def find_squared_errors(y_true, y_pred):\n",
    "    return np.square(y_true - y_pred)\n",
    "\n",
    "def plot_error_distribution(array1, array2, model=None):\n",
    "    abs_errors = find_abs_errors(array1, array2)\n",
    "    abs_errors_clean = abs_errors[~np.isnan(abs_errors) & ~np.isinf(abs_errors)]\n",
    "    \n",
    "    labels = ['Min', 'Max', 'Modal']\n",
    "    sns.histplot(abs_errors_clean, bins=50, kde=True, log_scale=True)\n",
    "    plt.title('Absolute Errors Distribution for {model} Model'.format(model=model))\n",
    "    plt.xlabel('Absolute Errors')\n",
    "    plt.ylabel('Frequency')\n",
    "    plt.legend(labels)\n",
    "    plt.show()\n",
    "\n"
   ]
  },
  {
   "cell_type": "markdown",
   "metadata": {},
   "source": [
    "## Error Distribution in Log Scale"
   ]
  },
  {
   "cell_type": "code",
   "execution_count": 33,
   "metadata": {},
   "outputs": [
    {
     "name": "stderr",
     "output_type": "stream",
     "text": [
      "c:\\Users\\Thej Venkat\\AppData\\Local\\Programs\\Python\\Python311\\Lib\\site-packages\\pandas\\core\\nanops.py:1010: RuntimeWarning: invalid value encountered in subtract\n",
      "  sqr = _ensure_numeric((avg - values) ** 2)\n"
     ]
    },
    {
     "data": {
      "image/png": "[encoded data removed]",
      "text/plain": [
       "<Figure size 640x480 with 1 Axes>"
      ]
     },
     "metadata": {},
     "output_type": "display_data"
    },
    {
     "data": {
      "image/png": "[encoded data removed]",
      "text/plain": [
       "<Figure size 640x480 with 1 Axes>"
      ]
     },
     "metadata": {},
     "output_type": "display_data"
    },
    {
     "data": {
      "image/png": "[encoded data removed]",
      "text/plain": [
       "<Figure size 640x480 with 1 Axes>"
      ]
     },
     "metadata": {},
     "output_type": "display_data"
    }
   ],
   "source": [
    "# Plotting the error distribution\n",
    "plot_error_distribution(results['y_test'], results['ML Predictions'], model='ML')\n",
    "plot_error_distribution(results['y_test'], results['Simple DNN Predictions'], model='Simple DNN')\n",
    "plot_error_distribution(results['y_test'], results['Complex DNN Predictions'], model='Complex DNN')"
   ]
  },
  {
   "cell_type": "markdown",
   "metadata": {},
   "source": [
    "## Overall MAE and RMSE for each Model"
   ]
  },
  {
   "cell_type": "code",
   "execution_count": 36,
   "metadata": {},
   "outputs": [
    {
     "name": "stderr",
     "output_type": "stream",
     "text": [
      "C:\\Users\\Thej Venkat\\AppData\\Local\\Temp\\ipykernel_4940\\37664693.py:19: FutureWarning: \n",
      "\n",
      "Passing `palette` without assigning `hue` is deprecated and will be removed in v0.14.0. Assign the `x` variable to `hue` and set `legend=False` for the same effect.\n",
      "\n",
      "  sns.barplot(x=results_df.columns, y=results_df.loc['MAE'], palette=['red', 'blue', 'green'])\n"
     ]
    },
    {
     "data": {
      "image/png": "[encoded data removed]",
      "text/plain": [
       "<Figure size 640x480 with 1 Axes>"
      ]
     },
     "metadata": {},
     "output_type": "display_data"
    },
    {
     "name": "stderr",
     "output_type": "stream",
     "text": [
      "C:\\Users\\Thej Venkat\\AppData\\Local\\Temp\\ipykernel_4940\\37664693.py:24: FutureWarning: \n",
      "\n",
      "Passing `palette` without assigning `hue` is deprecated and will be removed in v0.14.0. Assign the `x` variable to `hue` and set `legend=False` for the same effect.\n",
      "\n",
      "  sns.barplot(x=results_df.columns, y=results_df.loc['RMSE'], palette=['red', 'blue', 'green'])\n"
     ]
    },
    {
     "data": {
      "image/png": "[encoded data removed]",
      "text/plain": [
       "<Figure size 640x480 with 1 Axes>"
      ]
     },
     "metadata": {},
     "output_type": "display_data"
    }
   ],
   "source": [
    "# MAE and RMSE for ML and DL models\n",
    "metric_results = {}\n",
    "\n",
    "def find_mae_rmse(y_true, y_pred, model):\n",
    "    mae = np.mean(find_abs_errors(y_true, y_pred))\n",
    "    rmse = np.sqrt(np.mean(find_squared_errors(y_true, y_pred)))\n",
    "    \n",
    "    metric_results[model] = {\n",
    "        'MAE': mae,\n",
    "        'RMSE': rmse\n",
    "    }\n",
    "\n",
    "find_mae_rmse(results['y_test'], results['ML Predictions'], 'ML')\n",
    "find_mae_rmse(results['y_test'], results['Simple DNN Predictions'], 'Simple DNN')\n",
    "find_mae_rmse(results['y_test'], results['Complex DNN Predictions'], 'Complex DNN')\n",
    "\n",
    "results_df = pd.DataFrame(metric_results)\n",
    "\n",
    "sns.barplot(x=results_df.columns, y=results_df.loc['MAE'], palette=['red', 'blue', 'green'])\n",
    "plt.title('Mean Absolute Error Comparison')\n",
    "plt.ylabel('Mean Absolute Error')\n",
    "plt.show()\n",
    "\n",
    "sns.barplot(x=results_df.columns, y=results_df.loc['RMSE'], palette=['red', 'blue', 'green'])\n",
    "plt.title('Root Mean Squared Error Comparison')\n",
    "plt.ylabel('Root Mean Squared Error')\n",
    "plt.show()\n",
    "    "
   ]
  },
  {
   "cell_type": "markdown",
   "metadata": {},
   "source": [
    "## Conclusion\n",
    "We can see that despite the complexity of the Deep Learning models, they are performing worse than the Machine Learning model. This could be due to the small dataset and the simple structure of the data with few features. We can try to improve the performance of the models by adding more features and increasing the dataset size.\n",
    "\n",
    "Currently, the Machine Learning model is performing better than the Deep Learning models, so we can use the Machine Learning model for predicting the future prices of Agricultural Commodity."
   ]
  }
 ],
 "metadata": {
  "kernelspec": {
   "display_name": "Python 3",
   "language": "python",
   "name": "python3"
  },
  "language_info": {
   "codemirror_mode": {
    "name": "ipython",
    "version": 3
   },
   "file_extension": ".py",
   "mimetype": "text/x-python",
   "name": "python",
   "nbconvert_exporter": "python",
   "pygments_lexer": "ipython3",
   "version": "3.11.6"
  }
 },
 "nbformat": 4,
 "nbformat_minor": 2
}
