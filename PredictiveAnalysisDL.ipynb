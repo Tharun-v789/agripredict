{
 "cells": [
  {
   "cell_type": "markdown",
   "metadata": {},
   "source": [
    "# Predictive Analysis using Deep Learning\n",
    "We aim to predict the future prices of Agricultural Commodity using Deep Neural Networks"
   ]
  },
  {
   "cell_type": "markdown",
   "metadata": {},
   "source": [
    "## Importing Libraries\n"
   ]
  },
  {
   "cell_type": "code",
   "execution_count": 3,
   "metadata": {},
   "outputs": [],
   "source": [
    "# Importing the required libraries\n",
    "import numpy as np\n",
    "import pandas as pd\n",
    "import matplotlib.pyplot as plt\n",
    "import seaborn as sns\n",
    "\n",
    "# TensorFlow and tf.keras\n",
    "import tensorflow as tf\n",
    "from tensorflow import keras\n",
    "from keras import layers, models\n",
    "from keras.metrics import mean_squared_error\n",
    "from tensorflow.keras.callbacks import EarlyStopping\n",
    "\n",
    "# sklearn\n",
    "from sklearn.model_selection import train_test_split\n",
    "from sklearn.preprocessing import StandardScaler\n",
    "from sklearn.utils import shuffle\n"
   ]
  },
  {
   "cell_type": "markdown",
   "metadata": {},
   "source": [
    "## Checking for GPU"
   ]
  },
  {
   "cell_type": "code",
   "execution_count": 4,
   "metadata": {},
   "outputs": [
    {
     "name": "stdout",
     "output_type": "stream",
     "text": [
      "Num GPUs Available:  0\n"
     ]
    }
   ],
   "source": [
    "# Checking gpu availability\n",
    "print(\"Num GPUs Available: \", len(tf.config.experimental.list_physical_devices('GPU')))\n",
    "\n",
    "# Selecting gpu if available\n",
    "physical_devices = tf.config.list_physical_devices('GPU')\n",
    "if physical_devices:\n",
    "    tf.config.experimental.set_memory_growth(physical_devices[0], True)"
   ]
  },
  {
   "cell_type": "markdown",
   "metadata": {},
   "source": [
    "## Loading the Data"
   ]
  },
  {
   "cell_type": "code",
   "execution_count": 2,
   "metadata": {},
   "outputs": [
    {
     "data": {
      "text/html": [
       "<div>\n",
       "<style scoped>\n",
       "    .dataframe tbody tr th:only-of-type {\n",
       "        vertical-align: middle;\n",
       "    }\n",
       "\n",
       "    .dataframe tbody tr th {\n",
       "        vertical-align: top;\n",
       "    }\n",
       "\n",
       "    .dataframe thead th {\n",
       "        text-align: right;\n",
       "    }\n",
       "</style>\n",
       "<table border=\"1\" class=\"dataframe\">\n",
       "  <thead>\n",
       "    <tr style=\"text-align: right;\">\n",
       "      <th></th>\n",
       "      <th>Min</th>\n",
       "      <th>Max</th>\n",
       "      <th>Modal</th>\n",
       "      <th>Year</th>\n",
       "      <th>Month</th>\n",
       "      <th>Day</th>\n",
       "      <th>Variety_BANGALORE SMALL</th>\n",
       "      <th>Variety_BELLARY RED</th>\n",
       "      <th>Variety_LOCAL</th>\n",
       "      <th>Variety_ONION</th>\n",
       "      <th>Variety_OTHER</th>\n",
       "      <th>Variety_PUNA</th>\n",
       "      <th>Grade_AVERAGE</th>\n",
       "      <th>Grade_FAQ</th>\n",
       "      <th>Grade_LARGE</th>\n",
       "      <th>Grade_MEDIUM</th>\n",
       "      <th>Grade_SMALL</th>\n",
       "    </tr>\n",
       "  </thead>\n",
       "  <tbody>\n",
       "    <tr>\n",
       "      <th>11120</th>\n",
       "      <td>200.0</td>\n",
       "      <td>500.0</td>\n",
       "      <td>350.0</td>\n",
       "      <td>2017.0</td>\n",
       "      <td>1.0</td>\n",
       "      <td>2.0</td>\n",
       "      <td>1.0</td>\n",
       "      <td>0.0</td>\n",
       "      <td>0.0</td>\n",
       "      <td>0.0</td>\n",
       "      <td>0.0</td>\n",
       "      <td>0.0</td>\n",
       "      <td>1.0</td>\n",
       "      <td>0.0</td>\n",
       "      <td>0.0</td>\n",
       "      <td>0.0</td>\n",
       "      <td>0.0</td>\n",
       "    </tr>\n",
       "    <tr>\n",
       "      <th>11121</th>\n",
       "      <td>200.0</td>\n",
       "      <td>500.0</td>\n",
       "      <td>350.0</td>\n",
       "      <td>2017.0</td>\n",
       "      <td>1.0</td>\n",
       "      <td>3.0</td>\n",
       "      <td>1.0</td>\n",
       "      <td>0.0</td>\n",
       "      <td>0.0</td>\n",
       "      <td>0.0</td>\n",
       "      <td>0.0</td>\n",
       "      <td>0.0</td>\n",
       "      <td>1.0</td>\n",
       "      <td>0.0</td>\n",
       "      <td>0.0</td>\n",
       "      <td>0.0</td>\n",
       "      <td>0.0</td>\n",
       "    </tr>\n",
       "    <tr>\n",
       "      <th>11122</th>\n",
       "      <td>200.0</td>\n",
       "      <td>500.0</td>\n",
       "      <td>350.0</td>\n",
       "      <td>2017.0</td>\n",
       "      <td>1.0</td>\n",
       "      <td>4.0</td>\n",
       "      <td>1.0</td>\n",
       "      <td>0.0</td>\n",
       "      <td>0.0</td>\n",
       "      <td>0.0</td>\n",
       "      <td>0.0</td>\n",
       "      <td>0.0</td>\n",
       "      <td>1.0</td>\n",
       "      <td>0.0</td>\n",
       "      <td>0.0</td>\n",
       "      <td>0.0</td>\n",
       "      <td>0.0</td>\n",
       "    </tr>\n",
       "    <tr>\n",
       "      <th>11123</th>\n",
       "      <td>200.0</td>\n",
       "      <td>500.0</td>\n",
       "      <td>350.0</td>\n",
       "      <td>2017.0</td>\n",
       "      <td>1.0</td>\n",
       "      <td>5.0</td>\n",
       "      <td>1.0</td>\n",
       "      <td>0.0</td>\n",
       "      <td>0.0</td>\n",
       "      <td>0.0</td>\n",
       "      <td>0.0</td>\n",
       "      <td>0.0</td>\n",
       "      <td>1.0</td>\n",
       "      <td>0.0</td>\n",
       "      <td>0.0</td>\n",
       "      <td>0.0</td>\n",
       "      <td>0.0</td>\n",
       "    </tr>\n",
       "    <tr>\n",
       "      <th>11124</th>\n",
       "      <td>200.0</td>\n",
       "      <td>500.0</td>\n",
       "      <td>350.0</td>\n",
       "      <td>2017.0</td>\n",
       "      <td>1.0</td>\n",
       "      <td>6.0</td>\n",
       "      <td>1.0</td>\n",
       "      <td>0.0</td>\n",
       "      <td>0.0</td>\n",
       "      <td>0.0</td>\n",
       "      <td>0.0</td>\n",
       "      <td>0.0</td>\n",
       "      <td>1.0</td>\n",
       "      <td>0.0</td>\n",
       "      <td>0.0</td>\n",
       "      <td>0.0</td>\n",
       "      <td>0.0</td>\n",
       "    </tr>\n",
       "  </tbody>\n",
       "</table>\n",
       "</div>"
      ],
      "text/plain": [
       "         Min    Max  Modal    Year  Month  Day  Variety_BANGALORE SMALL  \\\n",
       "11120  200.0  500.0  350.0  2017.0    1.0  2.0                      1.0   \n",
       "11121  200.0  500.0  350.0  2017.0    1.0  3.0                      1.0   \n",
       "11122  200.0  500.0  350.0  2017.0    1.0  4.0                      1.0   \n",
       "11123  200.0  500.0  350.0  2017.0    1.0  5.0                      1.0   \n",
       "11124  200.0  500.0  350.0  2017.0    1.0  6.0                      1.0   \n",
       "\n",
       "       Variety_BELLARY RED  Variety_LOCAL  Variety_ONION  Variety_OTHER  \\\n",
       "11120                  0.0            0.0            0.0            0.0   \n",
       "11121                  0.0            0.0            0.0            0.0   \n",
       "11122                  0.0            0.0            0.0            0.0   \n",
       "11123                  0.0            0.0            0.0            0.0   \n",
       "11124                  0.0            0.0            0.0            0.0   \n",
       "\n",
       "       Variety_PUNA  Grade_AVERAGE  Grade_FAQ  Grade_LARGE  Grade_MEDIUM  \\\n",
       "11120           0.0            1.0        0.0          0.0           0.0   \n",
       "11121           0.0            1.0        0.0          0.0           0.0   \n",
       "11122           0.0            1.0        0.0          0.0           0.0   \n",
       "11123           0.0            1.0        0.0          0.0           0.0   \n",
       "11124           0.0            1.0        0.0          0.0           0.0   \n",
       "\n",
       "       Grade_SMALL  \n",
       "11120          0.0  \n",
       "11121          0.0  \n",
       "11122          0.0  \n",
       "11123          0.0  \n",
       "11124          0.0  "
      ]
     },
     "execution_count": 2,
     "metadata": {},
     "output_type": "execute_result"
    }
   ],
   "source": [
    "# Loading the data\n",
    "bengaluru_df = pd.read_csv('preprocessed_krama_report_bengaluru.csv')\n",
    "doddaballapur_df = pd.read_csv('preprocessed_krama_report_doddaballapur.csv')\n",
    "hubballi_df = pd.read_csv('preprocessed_krama_report_hubballi.csv')\n",
    "mysuru_df = pd.read_csv('preprocessed_krama_report_mysuru.csv')\n",
    "\n",
    "all_df = [bengaluru_df, doddaballapur_df, hubballi_df, mysuru_df]\n",
    "# For each dataset we will consider only the prices for the last three years in the Year column\n",
    "for i in range(4):\n",
    "    df = all_df[i]\n",
    "    all_df[i] = df[df['Year'] >= 2017]\n",
    "bengaluru_df = all_df[0]\n",
    "bengaluru_df.head()"
   ]
  },
  {
   "cell_type": "markdown",
   "metadata": {},
   "source": [
    "## Test-Train Split"
   ]
  },
  {
   "cell_type": "code",
   "execution_count": 3,
   "metadata": {},
   "outputs": [
    {
     "data": {
      "text/plain": [
       "(14, (4138, 14), (1035, 14), (4138, 3), (1035, 3))"
      ]
     },
     "execution_count": 3,
     "metadata": {},
     "output_type": "execute_result"
    }
   ],
   "source": [
    "X = bengaluru_df.drop(columns=['Min', 'Max', 'Modal'])\n",
    "Y = bengaluru_df[['Min', 'Max', 'Modal']]\n",
    "\n",
    "x_train, x_test, y_train, y_test = train_test_split(X, Y, test_size=0.2, random_state=100)\n",
    "input_size = x_train.shape[1]\n",
    "input_size, x_train.shape, x_test.shape, y_train.shape, y_test.shape"
   ]
  },
  {
   "cell_type": "markdown",
   "metadata": {},
   "source": [
    "## Defining a Simple Model"
   ]
  },
  {
   "cell_type": "code",
   "execution_count": 4,
   "metadata": {},
   "outputs": [],
   "source": [
    "# Defining the model\n",
    "def build_simple_dnn_model(input_shape):\n",
    "    model = models.Sequential()\n",
    "\n",
    "    # Input layer\n",
    "    model.add(layers.InputLayer(input_shape=input_shape))\n",
    "\n",
    "    # Hidden layers\n",
    "    model.add(layers.Dense(input_shape[0] * 2, activation='relu'))\n",
    "    model.add(layers.Dense(10, activation='relu'))\n",
    "    model.add(layers.Dense(5, activation='relu'))\n",
    "    \n",
    "    # Output layer with 3 units (min, max, modal)\n",
    "    model.add(layers.Dense(3, activation='linear'))  # Linear activation for regression output\n",
    "    \n",
    "    # Compile the model\n",
    "    model.compile(optimizer='adam', loss='mse', metrics=['mse', 'mae'])\n",
    "    \n",
    "    return model"
   ]
  },
  {
   "cell_type": "markdown",
   "metadata": {},
   "source": [
    "## Simple Model Structure"
   ]
  },
  {
   "cell_type": "code",
   "execution_count": 5,
   "metadata": {},
   "outputs": [
    {
     "name": "stdout",
     "output_type": "stream",
     "text": [
      "WARNING:tensorflow:From c:\\Users\\Thej Venkat\\AppData\\Local\\Programs\\Python\\Python311\\Lib\\site-packages\\keras\\src\\backend.py:873: The name tf.get_default_graph is deprecated. Please use tf.compat.v1.get_default_graph instead.\n",
      "\n",
      "WARNING:tensorflow:From c:\\Users\\Thej Venkat\\AppData\\Local\\Programs\\Python\\Python311\\Lib\\site-packages\\keras\\src\\optimizers\\__init__.py:309: The name tf.train.Optimizer is deprecated. Please use tf.compat.v1.train.Optimizer instead.\n",
      "\n",
      "Model: \"sequential\"\n",
      "_________________________________________________________________\n",
      " Layer (type)                Output Shape              Param #   \n",
      "=================================================================\n",
      " dense (Dense)               (None, 28)                420       \n",
      "                                                                 \n",
      " dense_1 (Dense)             (None, 10)                290       \n",
      "                                                                 \n",
      " dense_2 (Dense)             (None, 5)                 55        \n",
      "                                                                 \n",
      " dense_3 (Dense)             (None, 3)                 18        \n",
      "                                                                 \n",
      "=================================================================\n",
      "Total params: 783 (3.06 KB)\n",
      "Trainable params: 783 (3.06 KB)\n",
      "Non-trainable params: 0 (0.00 Byte)\n",
      "_________________________________________________________________\n"
     ]
    }
   ],
   "source": [
    "input_shape = (input_size,)\n",
    "\n",
    "simple_model = build_simple_dnn_model(input_shape)\n",
    "simple_model.summary()"
   ]
  },
  {
   "cell_type": "markdown",
   "metadata": {},
   "source": [
    "## Simple Model Training and Evaluation"
   ]
  },
  {
   "cell_type": "code",
   "execution_count": 6,
   "metadata": {},
   "outputs": [
    {
     "name": "stdout",
     "output_type": "stream",
     "text": [
      "Epoch 1/100\n",
      "WARNING:tensorflow:From c:\\Users\\Thej Venkat\\AppData\\Local\\Programs\\Python\\Python311\\Lib\\site-packages\\keras\\src\\utils\\tf_utils.py:492: The name tf.ragged.RaggedTensorValue is deprecated. Please use tf.compat.v1.ragged.RaggedTensorValue instead.\n",
      "\n",
      "WARNING:tensorflow:From c:\\Users\\Thej Venkat\\AppData\\Local\\Programs\\Python\\Python311\\Lib\\site-packages\\keras\\src\\engine\\base_layer_utils.py:384: The name tf.executing_eagerly_outside_functions is deprecated. Please use tf.compat.v1.executing_eagerly_outside_functions instead.\n",
      "\n",
      "104/104 [==============================] - 3s 8ms/step - loss: 2481329.5000 - mse: 2481329.5000 - mae: 1318.7340 - val_loss: 2315054.5000 - val_mse: 2315054.5000 - val_mae: 1211.8987\n",
      "Epoch 2/100\n",
      "104/104 [==============================] - 1s 6ms/step - loss: 2149036.2500 - mse: 2149036.2500 - mae: 1156.1637 - val_loss: 2010981.1250 - val_mse: 2010981.1250 - val_mae: 1110.8258\n",
      "Epoch 3/100\n",
      "104/104 [==============================] - 0s 4ms/step - loss: 1841711.7500 - mse: 1841711.7500 - mae: 1055.5005 - val_loss: 1701590.6250 - val_mse: 1701590.6250 - val_mae: 1010.6681\n",
      "Epoch 4/100\n",
      "104/104 [==============================] - 0s 4ms/step - loss: 1515790.7500 - mse: 1515790.7500 - mae: 953.6379 - val_loss: 1369893.1250 - val_mse: 1369893.1250 - val_mae: 913.1169\n",
      "Epoch 5/100\n",
      "104/104 [==============================] - 0s 5ms/step - loss: 1191687.1250 - mse: 1191687.1250 - mae: 853.6959 - val_loss: 1066037.8750 - val_mse: 1066037.8750 - val_mae: 813.9853\n",
      "Epoch 6/100\n",
      "104/104 [==============================] - 0s 5ms/step - loss: 910744.4375 - mse: 910744.4375 - mae: 749.0709 - val_loss: 818964.8125 - val_mse: 818964.8125 - val_mae: 717.8267\n",
      "Epoch 7/100\n",
      "104/104 [==============================] - 1s 5ms/step - loss: 692826.1250 - mse: 692826.1250 - mae: 657.4438 - val_loss: 638537.6875 - val_mse: 638537.6875 - val_mae: 639.6512\n",
      "Epoch 8/100\n",
      "104/104 [==============================] - 0s 4ms/step - loss: 565943.8750 - mse: 565943.8750 - mae: 607.5939 - val_loss: 563946.0000 - val_mse: 563946.0000 - val_mae: 604.6388\n",
      "Epoch 9/100\n",
      "104/104 [==============================] - 0s 5ms/step - loss: 526337.0625 - mse: 526337.0625 - mae: 589.2261 - val_loss: 548194.2500 - val_mse: 548194.2500 - val_mae: 601.5089\n",
      "Epoch 10/100\n",
      "104/104 [==============================] - 1s 6ms/step - loss: 520208.4062 - mse: 520208.4062 - mae: 587.0284 - val_loss: 546630.9375 - val_mse: 546630.9375 - val_mae: 603.7880\n",
      "Epoch 11/100\n",
      "104/104 [==============================] - 0s 4ms/step - loss: 519554.4375 - mse: 519554.4375 - mae: 587.4124 - val_loss: 546094.8750 - val_mse: 546094.8750 - val_mae: 601.0002\n",
      "Epoch 12/100\n",
      "104/104 [==============================] - 0s 4ms/step - loss: 518703.4062 - mse: 518703.4062 - mae: 586.3376 - val_loss: 545892.4375 - val_mse: 545892.4375 - val_mae: 599.3982\n",
      "Epoch 13/100\n",
      "104/104 [==============================] - 0s 4ms/step - loss: 518296.5625 - mse: 518296.5625 - mae: 586.8964 - val_loss: 545684.1875 - val_mse: 545684.1875 - val_mae: 601.1326\n",
      "Epoch 14/100\n",
      "104/104 [==============================] - 1s 5ms/step - loss: 518460.9062 - mse: 518460.9062 - mae: 585.5722 - val_loss: 546066.4375 - val_mse: 546066.4375 - val_mae: 605.0543\n",
      "Epoch 15/100\n",
      "104/104 [==============================] - 0s 4ms/step - loss: 518419.3750 - mse: 518419.3750 - mae: 585.1846 - val_loss: 545578.5000 - val_mse: 545578.5000 - val_mae: 603.5751\n",
      "Epoch 16/100\n",
      "104/104 [==============================] - 0s 4ms/step - loss: 517996.2500 - mse: 517996.2500 - mae: 586.6626 - val_loss: 545146.0625 - val_mse: 545146.0625 - val_mae: 601.8975\n",
      "Epoch 17/100\n",
      "104/104 [==============================] - 1s 6ms/step - loss: 517833.9062 - mse: 517833.9062 - mae: 585.5093 - val_loss: 545603.0000 - val_mse: 545603.0000 - val_mae: 605.4206\n",
      "Epoch 18/100\n",
      "104/104 [==============================] - 0s 4ms/step - loss: 517786.2812 - mse: 517786.2812 - mae: 586.9425 - val_loss: 545085.0625 - val_mse: 545085.0625 - val_mae: 595.7002\n",
      "Epoch 19/100\n",
      "104/104 [==============================] - 0s 4ms/step - loss: 516580.3438 - mse: 516580.3438 - mae: 585.1057 - val_loss: 545902.2500 - val_mse: 545902.2500 - val_mae: 607.5573\n",
      "Epoch 20/100\n",
      "104/104 [==============================] - 0s 4ms/step - loss: 516261.3125 - mse: 516261.3125 - mae: 586.4309 - val_loss: 546307.9375 - val_mse: 546307.9375 - val_mae: 590.7432\n",
      "Epoch 21/100\n",
      "104/104 [==============================] - 0s 4ms/step - loss: 516563.8438 - mse: 516563.8438 - mae: 584.1021 - val_loss: 544851.2500 - val_mse: 544851.2500 - val_mae: 605.3290\n",
      "Epoch 22/100\n",
      "104/104 [==============================] - 0s 4ms/step - loss: 515658.5625 - mse: 515658.5625 - mae: 584.2275 - val_loss: 545082.5625 - val_mse: 545082.5625 - val_mae: 606.6781\n",
      "Epoch 23/100\n",
      "104/104 [==============================] - 0s 4ms/step - loss: 515562.4688 - mse: 515562.4688 - mae: 585.9215 - val_loss: 544457.7500 - val_mse: 544457.7500 - val_mae: 593.5179\n",
      "Epoch 24/100\n",
      "104/104 [==============================] - 1s 6ms/step - loss: 515753.5625 - mse: 515753.5625 - mae: 582.8234 - val_loss: 545744.0625 - val_mse: 545744.0625 - val_mae: 609.4492\n",
      "Epoch 25/100\n",
      "104/104 [==============================] - 0s 4ms/step - loss: 515117.0938 - mse: 515117.0938 - mae: 584.7780 - val_loss: 544090.5625 - val_mse: 544090.5625 - val_mae: 605.6681\n",
      "Epoch 26/100\n",
      "104/104 [==============================] - 0s 5ms/step - loss: 514791.5312 - mse: 514791.5312 - mae: 583.4943 - val_loss: 545934.1250 - val_mse: 545934.1250 - val_mae: 610.7681\n",
      "Epoch 27/100\n",
      "104/104 [==============================] - 0s 4ms/step - loss: 514788.8438 - mse: 514788.8438 - mae: 584.5309 - val_loss: 543701.5000 - val_mse: 543701.5000 - val_mae: 605.7024\n",
      "Epoch 28/100\n",
      "104/104 [==============================] - 0s 5ms/step - loss: 514614.5312 - mse: 514614.5312 - mae: 585.1720 - val_loss: 543828.6875 - val_mse: 543828.6875 - val_mae: 606.6504\n",
      "Epoch 29/100\n",
      "104/104 [==============================] - 0s 5ms/step - loss: 514370.5938 - mse: 514370.5938 - mae: 584.4294 - val_loss: 542047.5625 - val_mse: 542047.5625 - val_mae: 595.6539\n",
      "Epoch 30/100\n",
      "104/104 [==============================] - 0s 4ms/step - loss: 513778.9375 - mse: 513778.9375 - mae: 583.1759 - val_loss: 542194.8750 - val_mse: 542194.8750 - val_mae: 603.1784\n",
      "Epoch 31/100\n",
      "104/104 [==============================] - 1s 6ms/step - loss: 512797.1562 - mse: 512797.1562 - mae: 582.2986 - val_loss: 541253.8125 - val_mse: 541253.8125 - val_mae: 599.3382\n",
      "Epoch 32/100\n",
      "104/104 [==============================] - 0s 4ms/step - loss: 512566.1875 - mse: 512566.1875 - mae: 583.5776 - val_loss: 542428.0000 - val_mse: 542428.0000 - val_mae: 590.5485\n",
      "Epoch 33/100\n",
      "104/104 [==============================] - 0s 4ms/step - loss: 512291.5312 - mse: 512291.5312 - mae: 582.1306 - val_loss: 541602.6875 - val_mse: 541602.6875 - val_mae: 604.3419\n",
      "Epoch 34/100\n",
      "104/104 [==============================] - 0s 5ms/step - loss: 513566.4688 - mse: 513566.4688 - mae: 583.0911 - val_loss: 543825.6250 - val_mse: 543825.6250 - val_mae: 610.0010\n",
      "Epoch 35/100\n",
      "104/104 [==============================] - 0s 4ms/step - loss: 511717.8438 - mse: 511717.8438 - mae: 582.3577 - val_loss: 541862.8750 - val_mse: 541862.8750 - val_mae: 606.4951\n",
      "Epoch 36/100\n",
      "104/104 [==============================] - 0s 4ms/step - loss: 511493.1875 - mse: 511493.1875 - mae: 583.7318 - val_loss: 539576.2500 - val_mse: 539576.2500 - val_mae: 600.0838\n",
      "Epoch 37/100\n",
      "104/104 [==============================] - 1s 6ms/step - loss: 510857.8750 - mse: 510857.8750 - mae: 582.2970 - val_loss: 539855.0625 - val_mse: 539855.0625 - val_mae: 590.9459\n",
      "Epoch 38/100\n",
      "104/104 [==============================] - 0s 4ms/step - loss: 510525.1250 - mse: 510525.1250 - mae: 581.2395 - val_loss: 538518.2500 - val_mse: 538518.2500 - val_mae: 598.3629\n",
      "Epoch 39/100\n",
      "104/104 [==============================] - 0s 4ms/step - loss: 508997.2500 - mse: 508997.2500 - mae: 580.1178 - val_loss: 545240.3125 - val_mse: 545240.3125 - val_mae: 615.1212\n",
      "Epoch 40/100\n",
      "104/104 [==============================] - 0s 4ms/step - loss: 508856.0312 - mse: 508856.0312 - mae: 582.3779 - val_loss: 538533.4375 - val_mse: 538533.4375 - val_mae: 589.8318\n",
      "Epoch 41/100\n",
      "104/104 [==============================] - 0s 4ms/step - loss: 508277.4062 - mse: 508277.4062 - mae: 580.8434 - val_loss: 536924.3125 - val_mse: 536924.3125 - val_mae: 593.9822\n",
      "Epoch 42/100\n",
      "104/104 [==============================] - 0s 4ms/step - loss: 507428.0938 - mse: 507428.0938 - mae: 580.5844 - val_loss: 536267.8125 - val_mse: 536267.8125 - val_mae: 595.4934\n",
      "Epoch 43/100\n",
      "104/104 [==============================] - 0s 4ms/step - loss: 507448.3438 - mse: 507448.3438 - mae: 579.3489 - val_loss: 535739.4375 - val_mse: 535739.4375 - val_mae: 596.6118\n",
      "Epoch 44/100\n",
      "104/104 [==============================] - 1s 6ms/step - loss: 506778.1562 - mse: 506778.1562 - mae: 580.0312 - val_loss: 538700.8125 - val_mse: 538700.8125 - val_mae: 607.4844\n",
      "Epoch 45/100\n",
      "104/104 [==============================] - 1s 5ms/step - loss: 504799.2188 - mse: 504799.2188 - mae: 578.8688 - val_loss: 535140.1875 - val_mse: 535140.1875 - val_mae: 589.0673\n",
      "Epoch 46/100\n",
      "104/104 [==============================] - 1s 5ms/step - loss: 504499.6250 - mse: 504499.6250 - mae: 578.6863 - val_loss: 534172.4375 - val_mse: 534172.4375 - val_mae: 598.4647\n",
      "Epoch 47/100\n",
      "104/104 [==============================] - 0s 5ms/step - loss: 504006.0000 - mse: 504006.0000 - mae: 577.1577 - val_loss: 533944.4375 - val_mse: 533944.4375 - val_mae: 600.1345\n",
      "Epoch 48/100\n",
      "104/104 [==============================] - 0s 4ms/step - loss: 502525.0625 - mse: 502525.0625 - mae: 578.0680 - val_loss: 532327.8750 - val_mse: 532327.8750 - val_mae: 589.2645\n",
      "Epoch 49/100\n",
      "104/104 [==============================] - 0s 5ms/step - loss: 503698.0312 - mse: 503698.0312 - mae: 577.2177 - val_loss: 534016.5000 - val_mse: 534016.5000 - val_mae: 603.4784\n",
      "Epoch 50/100\n",
      "104/104 [==============================] - 1s 6ms/step - loss: 500892.4688 - mse: 500892.4688 - mae: 577.1860 - val_loss: 530442.0000 - val_mse: 530442.0000 - val_mae: 593.9219\n",
      "Epoch 51/100\n",
      "104/104 [==============================] - 0s 4ms/step - loss: 500208.4062 - mse: 500208.4062 - mae: 574.7473 - val_loss: 531326.9375 - val_mse: 531326.9375 - val_mae: 600.3137\n",
      "Epoch 52/100\n",
      "104/104 [==============================] - 0s 5ms/step - loss: 499001.9688 - mse: 499001.9688 - mae: 576.5519 - val_loss: 530905.9375 - val_mse: 530905.9375 - val_mae: 581.8124\n",
      "Epoch 53/100\n",
      "104/104 [==============================] - 0s 4ms/step - loss: 497996.5625 - mse: 497996.5625 - mae: 574.5114 - val_loss: 527352.8750 - val_mse: 527352.8750 - val_mae: 591.1093\n",
      "Epoch 54/100\n",
      "104/104 [==============================] - 1s 6ms/step - loss: 496183.5312 - mse: 496183.5312 - mae: 574.2353 - val_loss: 528083.9375 - val_mse: 528083.9375 - val_mae: 581.4827\n",
      "Epoch 55/100\n",
      "104/104 [==============================] - 1s 6ms/step - loss: 496689.9375 - mse: 496689.9375 - mae: 574.3024 - val_loss: 525269.5000 - val_mse: 525269.5000 - val_mae: 585.5210\n",
      "Epoch 56/100\n",
      "104/104 [==============================] - 0s 4ms/step - loss: 493989.1875 - mse: 493989.1875 - mae: 571.6373 - val_loss: 525261.9375 - val_mse: 525261.9375 - val_mae: 580.7607\n",
      "Epoch 57/100\n",
      "104/104 [==============================] - 0s 4ms/step - loss: 491480.1250 - mse: 491480.1250 - mae: 570.7898 - val_loss: 525854.6875 - val_mse: 525854.6875 - val_mae: 576.9210\n",
      "Epoch 58/100\n",
      "104/104 [==============================] - 1s 10ms/step - loss: 491116.8438 - mse: 491116.8438 - mae: 569.0698 - val_loss: 520987.9062 - val_mse: 520987.9062 - val_mae: 584.7524\n",
      "Epoch 59/100\n",
      "104/104 [==============================] - 1s 8ms/step - loss: 488704.1875 - mse: 488704.1875 - mae: 569.7576 - val_loss: 522392.3438 - val_mse: 522392.3438 - val_mae: 597.0390\n",
      "Epoch 60/100\n",
      "104/104 [==============================] - 1s 14ms/step - loss: 487123.9062 - mse: 487123.9062 - mae: 568.0083 - val_loss: 518090.3438 - val_mse: 518090.3438 - val_mae: 587.8179\n",
      "Epoch 61/100\n",
      "104/104 [==============================] - 0s 4ms/step - loss: 486107.4688 - mse: 486107.4688 - mae: 570.0392 - val_loss: 516828.8750 - val_mse: 516828.8750 - val_mae: 577.3365\n",
      "Epoch 62/100\n",
      "104/104 [==============================] - 0s 4ms/step - loss: 483842.5000 - mse: 483842.5000 - mae: 564.5056 - val_loss: 516169.5000 - val_mse: 516169.5000 - val_mae: 591.1454\n",
      "Epoch 63/100\n",
      "104/104 [==============================] - 0s 4ms/step - loss: 480737.9375 - mse: 480737.9375 - mae: 564.1793 - val_loss: 516003.7500 - val_mse: 516003.7500 - val_mae: 569.7167\n",
      "Epoch 64/100\n",
      "104/104 [==============================] - 0s 4ms/step - loss: 478170.1562 - mse: 478170.1562 - mae: 562.6152 - val_loss: 510530.0938 - val_mse: 510530.0938 - val_mae: 576.2834\n",
      "Epoch 65/100\n",
      "104/104 [==============================] - 0s 5ms/step - loss: 478110.3438 - mse: 478110.3438 - mae: 562.2260 - val_loss: 510161.1562 - val_mse: 510161.1562 - val_mae: 570.4432\n",
      "Epoch 66/100\n",
      "104/104 [==============================] - 1s 6ms/step - loss: 473987.8750 - mse: 473987.8750 - mae: 559.1586 - val_loss: 508206.7188 - val_mse: 508206.7188 - val_mae: 584.9000\n",
      "Epoch 67/100\n",
      "104/104 [==============================] - 0s 4ms/step - loss: 471141.5000 - mse: 471141.5000 - mae: 557.7444 - val_loss: 506375.3750 - val_mse: 506375.3750 - val_mae: 567.3911\n",
      "Epoch 68/100\n",
      "104/104 [==============================] - 0s 5ms/step - loss: 468149.1875 - mse: 468149.1875 - mae: 556.2185 - val_loss: 503033.8125 - val_mse: 503033.8125 - val_mae: 577.5998\n",
      "Epoch 69/100\n",
      "104/104 [==============================] - 0s 4ms/step - loss: 466368.1250 - mse: 466368.1250 - mae: 553.4462 - val_loss: 500880.0000 - val_mse: 500880.0000 - val_mae: 574.1451\n",
      "Epoch 70/100\n",
      "104/104 [==============================] - 0s 4ms/step - loss: 466689.2500 - mse: 466689.2500 - mae: 554.8047 - val_loss: 499462.7188 - val_mse: 499462.7188 - val_mae: 566.4681\n",
      "Epoch 71/100\n",
      "104/104 [==============================] - 0s 5ms/step - loss: 464830.4062 - mse: 464830.4062 - mae: 552.6357 - val_loss: 504648.3125 - val_mse: 504648.3125 - val_mae: 556.4563\n",
      "Epoch 72/100\n",
      "104/104 [==============================] - 0s 5ms/step - loss: 463007.9375 - mse: 463007.9375 - mae: 551.3260 - val_loss: 497326.5625 - val_mse: 497326.5625 - val_mae: 561.2809\n",
      "Epoch 73/100\n",
      "104/104 [==============================] - 1s 6ms/step - loss: 461629.5000 - mse: 461629.5000 - mae: 548.1577 - val_loss: 496183.8750 - val_mse: 496183.8750 - val_mae: 574.1008\n",
      "Epoch 74/100\n",
      "104/104 [==============================] - 1s 5ms/step - loss: 457703.1250 - mse: 457703.1250 - mae: 547.2455 - val_loss: 493458.5938 - val_mse: 493458.5938 - val_mae: 565.1599\n",
      "Epoch 75/100\n",
      "104/104 [==============================] - 0s 5ms/step - loss: 455368.4688 - mse: 455368.4688 - mae: 545.2028 - val_loss: 493303.2812 - val_mse: 493303.2812 - val_mae: 570.3104\n",
      "Epoch 76/100\n",
      "104/104 [==============================] - 0s 4ms/step - loss: 455709.9062 - mse: 455709.9062 - mae: 544.0350 - val_loss: 494333.3750 - val_mse: 494333.3750 - val_mae: 554.1632\n",
      "Epoch 77/100\n",
      "104/104 [==============================] - 0s 4ms/step - loss: 453147.3438 - mse: 453147.3438 - mae: 543.1030 - val_loss: 490587.0000 - val_mse: 490587.0000 - val_mae: 559.5470\n",
      "Epoch 78/100\n",
      "104/104 [==============================] - 1s 6ms/step - loss: 452348.1562 - mse: 452348.1562 - mae: 542.3146 - val_loss: 494430.9062 - val_mse: 494430.9062 - val_mae: 550.8335\n",
      "Epoch 79/100\n",
      "104/104 [==============================] - 0s 5ms/step - loss: 453063.3438 - mse: 453063.3438 - mae: 542.7853 - val_loss: 489844.4688 - val_mse: 489844.4688 - val_mae: 550.6780\n",
      "Epoch 80/100\n",
      "104/104 [==============================] - 0s 5ms/step - loss: 450363.6562 - mse: 450363.6562 - mae: 540.2555 - val_loss: 488477.8438 - val_mse: 488477.8438 - val_mae: 566.5776\n",
      "Epoch 81/100\n",
      "104/104 [==============================] - 0s 5ms/step - loss: 448068.6250 - mse: 448068.6250 - mae: 538.7164 - val_loss: 490153.6562 - val_mse: 490153.6562 - val_mae: 546.4578\n",
      "Epoch 82/100\n",
      "104/104 [==============================] - 1s 6ms/step - loss: 448515.0312 - mse: 448515.0312 - mae: 539.5198 - val_loss: 489603.8125 - val_mse: 489603.8125 - val_mae: 545.7900\n",
      "Epoch 83/100\n",
      "104/104 [==============================] - 1s 7ms/step - loss: 447960.4688 - mse: 447960.4688 - mae: 537.3220 - val_loss: 485666.1875 - val_mse: 485666.1875 - val_mae: 565.2550\n",
      "Epoch 84/100\n",
      "104/104 [==============================] - 1s 5ms/step - loss: 446409.2188 - mse: 446409.2188 - mae: 537.2053 - val_loss: 482923.8750 - val_mse: 482923.8750 - val_mae: 550.5715\n",
      "Epoch 85/100\n",
      "104/104 [==============================] - 1s 7ms/step - loss: 446435.6250 - mse: 446435.6250 - mae: 536.4998 - val_loss: 482431.9688 - val_mse: 482431.9688 - val_mae: 548.9562\n",
      "Epoch 86/100\n",
      "104/104 [==============================] - 1s 7ms/step - loss: 445326.3750 - mse: 445326.3750 - mae: 535.1311 - val_loss: 484416.5938 - val_mse: 484416.5938 - val_mae: 563.8484\n",
      "Epoch 87/100\n",
      "104/104 [==============================] - 1s 5ms/step - loss: 444696.9062 - mse: 444696.9062 - mae: 536.2919 - val_loss: 480941.2812 - val_mse: 480941.2812 - val_mae: 555.7693\n",
      "Epoch 88/100\n",
      "104/104 [==============================] - 1s 5ms/step - loss: 444675.1562 - mse: 444675.1562 - mae: 534.6805 - val_loss: 479889.2812 - val_mse: 479889.2812 - val_mae: 550.5563\n",
      "Epoch 89/100\n",
      "104/104 [==============================] - 0s 5ms/step - loss: 443143.5000 - mse: 443143.5000 - mae: 534.4875 - val_loss: 484025.0312 - val_mse: 484025.0312 - val_mae: 561.8527\n",
      "Epoch 90/100\n",
      "104/104 [==============================] - 1s 6ms/step - loss: 442985.0625 - mse: 442985.0625 - mae: 533.3793 - val_loss: 478692.3750 - val_mse: 478692.3750 - val_mae: 552.4799\n",
      "Epoch 91/100\n",
      "104/104 [==============================] - 1s 5ms/step - loss: 441488.3125 - mse: 441488.3125 - mae: 531.2061 - val_loss: 478522.7188 - val_mse: 478522.7188 - val_mae: 553.3757\n",
      "Epoch 92/100\n",
      "104/104 [==============================] - 1s 5ms/step - loss: 440122.4062 - mse: 440122.4062 - mae: 530.7140 - val_loss: 490293.5625 - val_mse: 490293.5625 - val_mae: 575.0430\n",
      "Epoch 93/100\n",
      "104/104 [==============================] - 0s 5ms/step - loss: 443960.6875 - mse: 443960.6875 - mae: 534.6859 - val_loss: 482648.0625 - val_mse: 482648.0625 - val_mae: 562.0131\n",
      "Epoch 94/100\n",
      "104/104 [==============================] - 0s 5ms/step - loss: 440937.9062 - mse: 440937.9062 - mae: 531.7359 - val_loss: 477036.4062 - val_mse: 477036.4062 - val_mae: 549.0220\n",
      "Epoch 95/100\n",
      "104/104 [==============================] - 0s 5ms/step - loss: 441159.2812 - mse: 441159.2812 - mae: 529.6930 - val_loss: 478725.4375 - val_mse: 478725.4375 - val_mae: 556.6752\n",
      "Epoch 96/100\n",
      "104/104 [==============================] - 0s 4ms/step - loss: 443778.2188 - mse: 443778.2188 - mae: 532.8592 - val_loss: 483248.1562 - val_mse: 483248.1562 - val_mae: 565.6697\n",
      "Epoch 97/100\n",
      "104/104 [==============================] - 1s 6ms/step - loss: 439990.5625 - mse: 439990.5625 - mae: 530.2686 - val_loss: 480714.5938 - val_mse: 480714.5938 - val_mae: 563.1415\n",
      "Epoch 98/100\n",
      "104/104 [==============================] - 0s 5ms/step - loss: 438723.9375 - mse: 438723.9375 - mae: 529.9470 - val_loss: 483425.6250 - val_mse: 483425.6250 - val_mae: 566.8951\n",
      "Epoch 99/100\n",
      "104/104 [==============================] - 0s 5ms/step - loss: 440343.4375 - mse: 440343.4375 - mae: 529.3068 - val_loss: 475039.8125 - val_mse: 475039.8125 - val_mae: 551.6038\n",
      "Epoch 100/100\n",
      "104/104 [==============================] - 0s 4ms/step - loss: 440088.7500 - mse: 440088.7500 - mae: 529.9290 - val_loss: 476188.5312 - val_mse: 476188.5312 - val_mae: 539.5211\n",
      "Mean Squared Error: 444688.53125\n",
      "Mean Absolute Error: 522.6578979492188\n"
     ]
    }
   ],
   "source": [
    "history = simple_model.fit(x_train, y_train, epochs=100, batch_size=32, validation_split=0.2, verbose=1)\n",
    "\n",
    "loss, mse, mae = simple_model.evaluate(x_test, y_test, verbose=0)\n",
    "print('Mean Squared Error:', mse)\n",
    "print('Mean Absolute Error:', mae)\n"
   ]
  },
  {
   "cell_type": "markdown",
   "metadata": {},
   "source": [
    "We can see that the model is not performing well. We will try to improve the model by adding more layers and increasing the number of neurons in each layer."
   ]
  },
  {
   "cell_type": "markdown",
   "metadata": {},
   "source": [
    "## Defining a Complex Model"
   ]
  },
  {
   "cell_type": "code",
   "execution_count": 7,
   "metadata": {},
   "outputs": [],
   "source": [
    "def build_advanced_dnn(input_shape):\n",
    "    model = models.Sequential()\n",
    "\n",
    "    # Input Layer\n",
    "    model.add(layers.InputLayer(input_shape=input_shape))\n",
    "\n",
    "    # Hidden Layers with Dropout and Batch Normalization\n",
    "    hidden_layer_dropout = 0.7\n",
    "    \n",
    "    model.add(layers.Dense(32, activation='relu'))\n",
    "    model.add(layers.BatchNormalization())    # Batch Normalization\n",
    "    model.add(layers.Dropout(hidden_layer_dropout))\n",
    "    \n",
    "    model.add(layers.Dense(64, activation='relu'))\n",
    "    model.add(layers.BatchNormalization())    # Batch Normalization\n",
    "    model.add(layers.Dropout(hidden_layer_dropout))\n",
    "    \n",
    "    model.add(layers.Dense(128, activation='relu'))\n",
    "    model.add(layers.BatchNormalization())    # Batch Normalization\n",
    "    model.add(layers.Dropout(hidden_layer_dropout))            # Dropout\n",
    "    \n",
    "    model.add(layers.Dense(128, activation='relu'))\n",
    "    model.add(layers.BatchNormalization())    # Batch Normalization\n",
    "    model.add(layers.Dropout(hidden_layer_dropout))            # Dropout\n",
    "    \n",
    "    model.add(layers.Dense(128, activation='relu'))\n",
    "    model.add(layers.BatchNormalization())    # Batch Normalization\n",
    "    model.add(layers.Dropout(hidden_layer_dropout))            # Dropout\n",
    "\n",
    "    model.add(layers.Dense(128, activation='relu'))\n",
    "    model.add(layers.BatchNormalization())\n",
    "    model.add(layers.Dropout(hidden_layer_dropout))\n",
    "\n",
    "    model.add(layers.Dense(64, activation='relu'))\n",
    "    \n",
    "    # Output Layer for 3 outputs (min, max, modal prices)\n",
    "    model.add(layers.Dense(3, activation='linear'))  # Linear for regression\n",
    "    \n",
    "    # Compile the model with Adam optimizer using learning rate decay\n",
    "    optimizer = tf.keras.optimizers.Adam(\n",
    "        learning_rate=tf.keras.optimizers.schedules.ExponentialDecay(\n",
    "            initial_learning_rate=0.001, decay_steps=10000, decay_rate=0.9)\n",
    "    )\n",
    "    \n",
    "    model.compile(optimizer=optimizer, loss='mse', metrics=['mse', 'mae'])\n",
    "    \n",
    "    return model"
   ]
  },
  {
   "cell_type": "markdown",
   "metadata": {},
   "source": [
    "## Complex Model Structure"
   ]
  },
  {
   "cell_type": "code",
   "execution_count": 8,
   "metadata": {},
   "outputs": [
    {
     "name": "stdout",
     "output_type": "stream",
     "text": [
      "Model: \"sequential_1\"\n",
      "_________________________________________________________________\n",
      " Layer (type)                Output Shape              Param #   \n",
      "=================================================================\n",
      " dense_4 (Dense)             (None, 32)                480       \n",
      "                                                                 \n",
      " batch_normalization (Batch  (None, 32)                128       \n",
      " Normalization)                                                  \n",
      "                                                                 \n",
      " dropout (Dropout)           (None, 32)                0         \n",
      "                                                                 \n",
      " dense_5 (Dense)             (None, 64)                2112      \n",
      "                                                                 \n",
      " batch_normalization_1 (Bat  (None, 64)                256       \n",
      " chNormalization)                                                \n",
      "                                                                 \n",
      " dropout_1 (Dropout)         (None, 64)                0         \n",
      "                                                                 \n",
      " dense_6 (Dense)             (None, 128)               8320      \n",
      "                                                                 \n",
      " batch_normalization_2 (Bat  (None, 128)               512       \n",
      " chNormalization)                                                \n",
      "                                                                 \n",
      " dropout_2 (Dropout)         (None, 128)               0         \n",
      "                                                                 \n",
      " dense_7 (Dense)             (None, 128)               16512     \n",
      "                                                                 \n",
      " batch_normalization_3 (Bat  (None, 128)               512       \n",
      " chNormalization)                                                \n",
      "                                                                 \n",
      " dropout_3 (Dropout)         (None, 128)               0         \n",
      "                                                                 \n",
      " dense_8 (Dense)             (None, 128)               16512     \n",
      "                                                                 \n",
      " batch_normalization_4 (Bat  (None, 128)               512       \n",
      " chNormalization)                                                \n",
      "                                                                 \n",
      " dropout_4 (Dropout)         (None, 128)               0         \n",
      "                                                                 \n",
      " dense_9 (Dense)             (None, 128)               16512     \n",
      "                                                                 \n",
      " batch_normalization_5 (Bat  (None, 128)               512       \n",
      " chNormalization)                                                \n",
      "                                                                 \n",
      " dropout_5 (Dropout)         (None, 128)               0         \n",
      "                                                                 \n",
      " dense_10 (Dense)            (None, 64)                8256      \n",
      "                                                                 \n",
      " dense_11 (Dense)            (None, 3)                 195       \n",
      "                                                                 \n",
      "=================================================================\n",
      "Total params: 71331 (278.64 KB)\n",
      "Trainable params: 70115 (273.89 KB)\n",
      "Non-trainable params: 1216 (4.75 KB)\n",
      "_________________________________________________________________\n"
     ]
    }
   ],
   "source": [
    "complex_model = build_advanced_dnn(input_shape)\n",
    "complex_model.summary()"
   ]
  },
  {
   "cell_type": "markdown",
   "metadata": {},
   "source": [
    "## Complex Model Training and Evaluation"
   ]
  },
  {
   "cell_type": "code",
   "execution_count": 9,
   "metadata": {},
   "outputs": [
    {
     "name": "stdout",
     "output_type": "stream",
     "text": [
      "Epoch 1/100\n",
      "104/104 [==============================] - 8s 15ms/step - loss: 2629642.2500 - mse: 2629642.2500 - mae: 1436.3217 - val_loss: 2569208.5000 - val_mse: 2569208.5000 - val_mae: 1403.5350\n",
      "Epoch 2/100\n",
      "104/104 [==============================] - 1s 9ms/step - loss: 2560653.7500 - mse: 2560653.7500 - mae: 1411.7445 - val_loss: 2634007.2500 - val_mse: 2634007.2500 - val_mae: 1427.3857\n",
      "Epoch 3/100\n",
      "104/104 [==============================] - 1s 9ms/step - loss: 2074963.5000 - mse: 2074963.5000 - mae: 1210.0477 - val_loss: 2385868.2500 - val_mse: 2385868.2500 - val_mae: 1333.4160\n",
      "Epoch 4/100\n",
      "104/104 [==============================] - 1s 9ms/step - loss: 1128814.0000 - mse: 1128814.0000 - mae: 816.4379 - val_loss: 2054548.1250 - val_mse: 2054548.1250 - val_mae: 1208.4215\n",
      "Epoch 5/100\n",
      "104/104 [==============================] - 1s 10ms/step - loss: 795160.7500 - mse: 795160.7500 - mae: 694.6371 - val_loss: 2012695.0000 - val_mse: 2012695.0000 - val_mae: 1191.8805\n",
      "Epoch 6/100\n",
      "104/104 [==============================] - 1s 9ms/step - loss: 688462.2500 - mse: 688462.2500 - mae: 649.9174 - val_loss: 560207.1875 - val_mse: 560207.1875 - val_mae: 590.1919\n",
      "Epoch 7/100\n",
      "104/104 [==============================] - 1s 10ms/step - loss: 628014.2500 - mse: 628014.2500 - mae: 615.4608 - val_loss: 670811.4375 - val_mse: 670811.4375 - val_mae: 708.3055\n",
      "Epoch 8/100\n",
      "104/104 [==============================] - 1s 12ms/step - loss: 592862.5625 - mse: 592862.5625 - mae: 607.4582 - val_loss: 691547.3125 - val_mse: 691547.3125 - val_mae: 720.6658\n",
      "Epoch 9/100\n",
      "104/104 [==============================] - 1s 12ms/step - loss: 582778.6250 - mse: 582778.6250 - mae: 604.1685 - val_loss: 675284.3125 - val_mse: 675284.3125 - val_mae: 711.0934\n",
      "Epoch 10/100\n",
      "104/104 [==============================] - 1s 12ms/step - loss: 593017.6875 - mse: 593017.6875 - mae: 607.4490 - val_loss: 552935.2500 - val_mse: 552935.2500 - val_mae: 583.6564\n",
      "Epoch 11/100\n",
      "104/104 [==============================] - 1s 13ms/step - loss: 573976.3750 - mse: 573976.3750 - mae: 599.2278 - val_loss: 740040.2500 - val_mse: 740040.2500 - val_mae: 647.7988\n",
      "Epoch 12/100\n",
      "104/104 [==============================] - 1s 13ms/step - loss: 568612.5625 - mse: 568612.5625 - mae: 589.2499 - val_loss: 567302.0625 - val_mse: 567302.0625 - val_mae: 638.9508\n",
      "Epoch 13/100\n",
      "104/104 [==============================] - 2s 15ms/step - loss: 565035.0625 - mse: 565035.0625 - mae: 594.6428 - val_loss: 549388.0000 - val_mse: 549388.0000 - val_mae: 621.7983\n",
      "Epoch 14/100\n",
      "104/104 [==============================] - 1s 14ms/step - loss: 562226.1875 - mse: 562226.1875 - mae: 594.9309 - val_loss: 544102.8125 - val_mse: 544102.8125 - val_mae: 594.9897\n",
      "Epoch 15/100\n",
      "104/104 [==============================] - 1s 12ms/step - loss: 577100.6875 - mse: 577100.6875 - mae: 597.1445 - val_loss: 542592.9375 - val_mse: 542592.9375 - val_mae: 547.8551\n",
      "Epoch 16/100\n",
      "104/104 [==============================] - 1s 14ms/step - loss: 580629.5625 - mse: 580629.5625 - mae: 600.2767 - val_loss: 4838581.0000 - val_mse: 4838581.0000 - val_mae: 1927.6350\n",
      "Epoch 17/100\n",
      "104/104 [==============================] - 2s 15ms/step - loss: 551853.0000 - mse: 551853.0000 - mae: 585.9614 - val_loss: 22668998.0000 - val_mse: 22668998.0000 - val_mae: 4584.9824\n",
      "Epoch 18/100\n",
      "104/104 [==============================] - 1s 14ms/step - loss: 564577.8125 - mse: 564577.8125 - mae: 591.9392 - val_loss: 1021317.5625 - val_mse: 1021317.5625 - val_mae: 777.8572\n",
      "Epoch 19/100\n",
      "104/104 [==============================] - 1s 12ms/step - loss: 544387.8750 - mse: 544387.8750 - mae: 582.0368 - val_loss: 1552378.6250 - val_mse: 1552378.6250 - val_mae: 1034.7509\n",
      "Epoch 20/100\n",
      "104/104 [==============================] - 1s 13ms/step - loss: 541251.5000 - mse: 541251.5000 - mae: 578.7727 - val_loss: 607346.8125 - val_mse: 607346.8125 - val_mae: 673.0479\n",
      "Epoch 21/100\n",
      "104/104 [==============================] - 1s 12ms/step - loss: 551399.6875 - mse: 551399.6875 - mae: 584.9330 - val_loss: 706028.6875 - val_mse: 706028.6875 - val_mae: 605.1453\n",
      "Epoch 22/100\n",
      "104/104 [==============================] - 1s 11ms/step - loss: 562948.8750 - mse: 562948.8750 - mae: 589.2129 - val_loss: 563663.0000 - val_mse: 563663.0000 - val_mae: 644.4229\n",
      "Epoch 23/100\n",
      "104/104 [==============================] - 1s 12ms/step - loss: 545303.0000 - mse: 545303.0000 - mae: 579.3350 - val_loss: 1875062.3750 - val_mse: 1875062.3750 - val_mae: 1151.8267\n",
      "Epoch 24/100\n",
      "104/104 [==============================] - 1s 11ms/step - loss: 535865.9375 - mse: 535865.9375 - mae: 573.2516 - val_loss: 578002.6875 - val_mse: 578002.6875 - val_mae: 547.6387\n",
      "Epoch 25/100\n",
      "104/104 [==============================] - 1s 10ms/step - loss: 530911.2500 - mse: 530911.2500 - mae: 571.8228 - val_loss: 1114764.3750 - val_mse: 1114764.3750 - val_mae: 823.3479\n",
      "Epoch 26/100\n",
      "104/104 [==============================] - 1s 12ms/step - loss: 536854.1875 - mse: 536854.1875 - mae: 575.7960 - val_loss: 2017900.2500 - val_mse: 2017900.2500 - val_mae: 1287.7518\n",
      "Epoch 27/100\n",
      "104/104 [==============================] - 1s 10ms/step - loss: 526174.9375 - mse: 526174.9375 - mae: 571.1304 - val_loss: 969771.3750 - val_mse: 969771.3750 - val_mae: 764.1323\n",
      "Epoch 28/100\n",
      "104/104 [==============================] - 1s 10ms/step - loss: 525728.3750 - mse: 525728.3750 - mae: 568.4583 - val_loss: 1048526.8125 - val_mse: 1048526.8125 - val_mae: 779.5048\n",
      "Epoch 29/100\n",
      "104/104 [==============================] - 1s 11ms/step - loss: 526990.3750 - mse: 526990.3750 - mae: 567.2689 - val_loss: 476642.5938 - val_mse: 476642.5938 - val_mae: 520.0088\n",
      "Epoch 30/100\n",
      "104/104 [==============================] - 1s 10ms/step - loss: 523160.8750 - mse: 523160.8750 - mae: 564.5985 - val_loss: 485875.2812 - val_mse: 485875.2812 - val_mae: 583.6846\n",
      "Epoch 31/100\n",
      "104/104 [==============================] - 1s 12ms/step - loss: 533470.6875 - mse: 533470.6875 - mae: 570.4980 - val_loss: 168148064.0000 - val_mse: 168148064.0000 - val_mae: 12826.4277\n",
      "Epoch 32/100\n",
      "104/104 [==============================] - 1s 12ms/step - loss: 527954.5000 - mse: 527954.5000 - mae: 564.7045 - val_loss: 25445510.0000 - val_mse: 25445510.0000 - val_mae: 4895.1216\n",
      "Epoch 33/100\n",
      "104/104 [==============================] - 1s 10ms/step - loss: 509756.6875 - mse: 509756.6875 - mae: 558.2444 - val_loss: 59240128.0000 - val_mse: 59240128.0000 - val_mae: 7566.7939\n",
      "Epoch 34/100\n",
      "104/104 [==============================] - 1s 11ms/step - loss: 509107.2500 - mse: 509107.2500 - mae: 555.8727 - val_loss: 445094.4062 - val_mse: 445094.4062 - val_mae: 527.7286\n",
      "Epoch 35/100\n",
      "104/104 [==============================] - 1s 12ms/step - loss: 504391.4375 - mse: 504391.4375 - mae: 553.2371 - val_loss: 467356.7188 - val_mse: 467356.7188 - val_mae: 493.5518\n",
      "Epoch 36/100\n",
      "104/104 [==============================] - 1s 10ms/step - loss: 500805.5312 - mse: 500805.5312 - mae: 550.0129 - val_loss: 29095476.0000 - val_mse: 29095476.0000 - val_mae: 5251.3423\n",
      "Epoch 37/100\n",
      "104/104 [==============================] - 1s 10ms/step - loss: 517140.0000 - mse: 517140.0000 - mae: 557.4149 - val_loss: 40856200.0000 - val_mse: 40856200.0000 - val_mae: 6254.7402\n",
      "Epoch 38/100\n",
      "104/104 [==============================] - 1s 11ms/step - loss: 502883.0312 - mse: 502883.0312 - mae: 552.5211 - val_loss: 11831585.0000 - val_mse: 11831585.0000 - val_mae: 3236.7463\n",
      "Epoch 39/100\n",
      "104/104 [==============================] - 1s 10ms/step - loss: 500225.5312 - mse: 500225.5312 - mae: 550.1448 - val_loss: 960735.3750 - val_mse: 960735.3750 - val_mae: 872.2542\n",
      "Epoch 40/100\n",
      "104/104 [==============================] - 2s 19ms/step - loss: 497389.1562 - mse: 497389.1562 - mae: 548.7100 - val_loss: 8331230.0000 - val_mse: 8331230.0000 - val_mae: 2653.9309\n",
      "Epoch 41/100\n",
      "104/104 [==============================] - 1s 10ms/step - loss: 498515.5938 - mse: 498515.5938 - mae: 547.9650 - val_loss: 58974056.0000 - val_mse: 58974056.0000 - val_mae: 7539.7163\n",
      "Epoch 42/100\n",
      "104/104 [==============================] - 1s 10ms/step - loss: 485461.9688 - mse: 485461.9688 - mae: 539.6824 - val_loss: 14729127.0000 - val_mse: 14729127.0000 - val_mae: 3653.2292\n",
      "Epoch 43/100\n",
      "104/104 [==============================] - 1s 12ms/step - loss: 493334.3125 - mse: 493334.3125 - mae: 545.8703 - val_loss: 9466962.0000 - val_mse: 9466962.0000 - val_mae: 2856.6711\n",
      "Epoch 44/100\n",
      "104/104 [==============================] - 1s 11ms/step - loss: 489128.4375 - mse: 489128.4375 - mae: 547.1826 - val_loss: 1020858.0000 - val_mse: 1020858.0000 - val_mae: 802.2407\n",
      "Epoch 45/100\n",
      "104/104 [==============================] - 1s 12ms/step - loss: 487339.0938 - mse: 487339.0938 - mae: 544.8544 - val_loss: 65413232.0000 - val_mse: 65413232.0000 - val_mae: 7949.3823\n",
      "Epoch 46/100\n",
      "104/104 [==============================] - 1s 10ms/step - loss: 507245.2812 - mse: 507245.2812 - mae: 550.3789 - val_loss: 2285844.7500 - val_mse: 2285844.7500 - val_mae: 1273.3624\n",
      "Epoch 47/100\n",
      "104/104 [==============================] - 1s 10ms/step - loss: 483127.3750 - mse: 483127.3750 - mae: 538.1750 - val_loss: 3024811.2500 - val_mse: 3024811.2500 - val_mae: 1486.3778\n",
      "Epoch 48/100\n",
      "104/104 [==============================] - 1s 11ms/step - loss: 473465.0312 - mse: 473465.0312 - mae: 532.2365 - val_loss: 50826588.0000 - val_mse: 50826588.0000 - val_mae: 6982.8052\n",
      "Epoch 49/100\n",
      "104/104 [==============================] - 1s 11ms/step - loss: 495972.5938 - mse: 495972.5938 - mae: 542.5076 - val_loss: 556830.4375 - val_mse: 556830.4375 - val_mae: 627.5850\n",
      "Epoch 50/100\n",
      "104/104 [==============================] - 1s 13ms/step - loss: 475094.2500 - mse: 475094.2500 - mae: 534.7303 - val_loss: 508270.0625 - val_mse: 508270.0625 - val_mae: 508.7660\n",
      "Epoch 51/100\n",
      "104/104 [==============================] - 1s 12ms/step - loss: 488237.8125 - mse: 488237.8125 - mae: 542.7692 - val_loss: 30168354.0000 - val_mse: 30168354.0000 - val_mae: 5341.5054\n",
      "Epoch 52/100\n",
      "104/104 [==============================] - 1s 12ms/step - loss: 490249.0625 - mse: 490249.0625 - mae: 540.8405 - val_loss: 597473.0000 - val_mse: 597473.0000 - val_mae: 675.4780\n",
      "Epoch 53/100\n",
      "104/104 [==============================] - 1s 10ms/step - loss: 484449.8438 - mse: 484449.8438 - mae: 537.6508 - val_loss: 1072848.5000 - val_mse: 1072848.5000 - val_mae: 837.4561\n",
      "Epoch 54/100\n",
      "104/104 [==============================] - 1s 10ms/step - loss: 496046.2500 - mse: 496046.2500 - mae: 545.9964 - val_loss: 2530558.2500 - val_mse: 2530558.2500 - val_mae: 1348.0355\n",
      "Mean Squared Error: 426230.65625\n",
      "Mean Absolute Error: 522.1102294921875\n"
     ]
    }
   ],
   "source": [
    "# Callbacks: Early stopping and ReduceLROnPlateau\n",
    "early_stopping = EarlyStopping(monitor='val_loss', patience=20, restore_best_weights=True)\n",
    "# Early stopping to prevent overfitting\n",
    "\n",
    "# Training\n",
    "history = complex_model.fit(x_train, y_train, epochs=100, batch_size=32, validation_split=0.2, callbacks=[early_stopping], verbose=1)\n",
    "\n",
    "# Evaluation\n",
    "loss, mse, mae = complex_model.evaluate(x_test, y_test, verbose=0)\n",
    "print('Mean Squared Error:', mse)\n",
    "print('Mean Absolute Error:', mae)"
   ]
  },
  {
   "cell_type": "markdown",
   "metadata": {},
   "source": [
    "The Training ended at epoch k < 100 due to early stopping callback. The model is performing similar to the simple model even after adding more layers and neurons."
   ]
  },
  {
   "cell_type": "markdown",
   "metadata": {},
   "source": [
    "## Save the Models"
   ]
  },
  {
   "cell_type": "code",
   "execution_count": 10,
   "metadata": {},
   "outputs": [],
   "source": [
    "import pickle\n",
    "\n",
    "# Save the simple model\n",
    "simple_model.save('DL_models/simple_model.keras')\n",
    "\n",
    "# Save the complex model\n",
    "complex_model.save('DL_models/complex_model.keras')"
   ]
  },
  {
   "cell_type": "markdown",
   "metadata": {},
   "source": [
    "## Comparing all Models\n",
    "We will compare the performance of the ML models and DL models to see which model is performing better."
   ]
  },
  {
   "cell_type": "code",
   "execution_count": 11,
   "metadata": {},
   "outputs": [
    {
     "name": "stdout",
     "output_type": "stream",
     "text": [
      "33/33 [==============================] - 0s 2ms/step\n",
      "33/33 [==============================] - 1s 3ms/step\n",
      "ML Model MSE: 5741.832206119163\n",
      "Simple DNN Model MSE: 444688.56\n",
      "Complex DNN Model MSE: 426230.66\n"
     ]
    }
   ],
   "source": [
    "import pickle\n",
    "\n",
    "# Load the ml model and dl models\n",
    "ml_best_min_model = pickle.load(open('ML_models/best_min_model.pkl', 'rb'))\n",
    "ml_best_max_model = pickle.load(open('ML_models/best_max_model.pkl', 'rb'))\n",
    "ml_best_modal_model = pickle.load(open('ML_models/best_modal_model.pkl', 'rb'))\n",
    "\n",
    "simple_model = keras.models.load_model('DL_models/simple_model.keras')\n",
    "complex_model = keras.models.load_model('DL_models/complex_model.keras')\n",
    "\n",
    "# Predictions\n",
    "def predict_ml(df):\n",
    "    min_price = ml_best_min_model.predict(df)\n",
    "    max_price = ml_best_max_model.predict(df)\n",
    "    modal_price = ml_best_modal_model.predict(df)\n",
    "    \n",
    "    return pd.DataFrame({'Min': min_price, 'Max': max_price, 'Modal': modal_price})\n",
    "\n",
    "# Comparision of ML and DL models\n",
    "def compare_models(x, y):\n",
    "    ml_predictions = predict_ml(x)\n",
    "    simple_predictions = simple_model.predict(x)\n",
    "    complex_predictions = complex_model.predict(x)\n",
    "    \n",
    "    ml_mse = np.mean(mean_squared_error(y, ml_predictions))\n",
    "    simple_mse = np.mean(mean_squared_error(y, simple_predictions))\n",
    "    complex_mse = np.mean(mean_squared_error(y, complex_predictions))\n",
    "    \n",
    "    return ml_mse, simple_mse, complex_mse\n",
    "\n",
    "# we will use x_test and y_test for comparison\n",
    "ml_mse, simple_mse, complex_mse = compare_models(x_test, y_test)\n",
    "\n",
    "# Displaying the results\n",
    "print('ML Model MSE:', ml_mse)\n",
    "print('Simple DNN Model MSE:', simple_mse)\n",
    "print('Complex DNN Model MSE:', complex_mse)\n"
   ]
  },
  {
   "cell_type": "code",
   "execution_count": 12,
   "metadata": {},
   "outputs": [
    {
     "name": "stdout",
     "output_type": "stream",
     "text": [
      "33/33 [==============================] - 0s 3ms/step\n",
      "33/33 [==============================] - 0s 3ms/step\n"
     ]
    }
   ],
   "source": [
    "# Plotting the results\n",
    "\n",
    "results = {\n",
    "    'y_test': y_test.to_numpy(),\n",
    "    'ML Predictions': predict_ml(x_test).to_numpy(),\n",
    "    'Simple DNN Predictions': simple_model.predict(x_test),\n",
    "    'Complex DNN Predictions': complex_model.predict(x_test)\n",
    "}\n",
    "\n",
    "def find_abs_errors(y_true, y_pred):\n",
    "    return np.abs(y_true - y_pred)\n",
    "\n",
    "def find_squared_errors(y_true, y_pred):\n",
    "    return np.square(y_true - y_pred)\n",
    "\n",
    "def plot_error_distribution(array1, array2, model=None):\n",
    "    abs_errors = find_abs_errors(array1, array2)\n",
    "    abs_errors_clean = abs_errors[~np.isnan(abs_errors) & ~np.isinf(abs_errors)]\n",
    "    \n",
    "    labels = ['Min', 'Max', 'Modal']\n",
    "    sns.histplot(abs_errors_clean, bins=50, kde=True, log_scale=True)\n",
    "    plt.title('Absolute Errors Distribution for {model} Model'.format(model=model))\n",
    "    plt.xlabel('Absolute Errors')\n",
    "    plt.ylabel('Frequency')\n",
    "    plt.legend(labels)\n",
    "    plt.show()\n",
    "\n"
   ]
  },
  {
   "cell_type": "markdown",
   "metadata": {},
   "source": [
    "## Error Distribution in Log Scale"
   ]
  },
  {
   "cell_type": "code",
   "execution_count": 13,
   "metadata": {},
   "outputs": [
    {
     "name": "stderr",
     "output_type": "stream",
     "text": [
      "c:\\Users\\Thej Venkat\\AppData\\Local\\Programs\\Python\\Python311\\Lib\\site-packages\\pandas\\core\\nanops.py:1010: RuntimeWarning: invalid value encountered in subtract\n",
      "  sqr = _ensure_numeric((avg - values) ** 2)\n"
     ]
    },
    {
     "data": {
      "image/png": "[encoded data removed]",
      "text/plain": [
       "<Figure size 640x480 with 1 Axes>"
      ]
     },
     "metadata": {},
     "output_type": "display_data"
    },
    {
     "data": {
      "image/png": "[encoded data removed]",
      "text/plain": [
       "<Figure size 640x480 with 1 Axes>"
      ]
     },
     "metadata": {},
     "output_type": "display_data"
    },
    {
     "data": {
      "image/png": "[encoded data removed]",
      "text/plain": [
       "<Figure size 640x480 with 1 Axes>"
      ]
     },
     "metadata": {},
     "output_type": "display_data"
    }
   ],
   "source": [
    "# Plotting the error distribution\n",
    "plot_error_distribution(results['y_test'], results['ML Predictions'], model='ML')\n",
    "plot_error_distribution(results['y_test'], results['Simple DNN Predictions'], model='Simple DNN')\n",
    "plot_error_distribution(results['y_test'], results['Complex DNN Predictions'], model='Complex DNN')"
   ]
  },
  {
   "cell_type": "markdown",
   "metadata": {},
   "source": [
    "## Overall MAE and RMSE for each Model"
   ]
  },
  {
   "cell_type": "code",
   "execution_count": 14,
   "metadata": {},
   "outputs": [
    {
     "name": "stderr",
     "output_type": "stream",
     "text": [
      "C:\\Users\\Thej Venkat\\AppData\\Local\\Temp\\ipykernel_10664\\37664693.py:19: FutureWarning: \n",
      "\n",
      "Passing `palette` without assigning `hue` is deprecated and will be removed in v0.14.0. Assign the `x` variable to `hue` and set `legend=False` for the same effect.\n",
      "\n",
      "  sns.barplot(x=results_df.columns, y=results_df.loc['MAE'], palette=['red', 'blue', 'green'])\n"
     ]
    },
    {
     "data": {
      "image/png": "[encoded data removed]",
      "text/plain": [
       "<Figure size 640x480 with 1 Axes>"
      ]
     },
     "metadata": {},
     "output_type": "display_data"
    },
    {
     "name": "stderr",
     "output_type": "stream",
     "text": [
      "C:\\Users\\Thej Venkat\\AppData\\Local\\Temp\\ipykernel_10664\\37664693.py:24: FutureWarning: \n",
      "\n",
      "Passing `palette` without assigning `hue` is deprecated and will be removed in v0.14.0. Assign the `x` variable to `hue` and set `legend=False` for the same effect.\n",
      "\n",
      "  sns.barplot(x=results_df.columns, y=results_df.loc['RMSE'], palette=['red', 'blue', 'green'])\n"
     ]
    },
    {
     "data": {
      "image/png": "[encoded data removed]",
      "text/plain": [
       "<Figure size 640x480 with 1 Axes>"
      ]
     },
     "metadata": {},
     "output_type": "display_data"
    }
   ],
   "source": [
    "# MAE and RMSE for ML and DL models\n",
    "metric_results = {}\n",
    "\n",
    "def find_mae_rmse(y_true, y_pred, model):\n",
    "    mae = np.mean(find_abs_errors(y_true, y_pred))\n",
    "    rmse = np.sqrt(np.mean(find_squared_errors(y_true, y_pred)))\n",
    "    \n",
    "    metric_results[model] = {\n",
    "        'MAE': mae,\n",
    "        'RMSE': rmse\n",
    "    }\n",
    "\n",
    "find_mae_rmse(results['y_test'], results['ML Predictions'], 'ML')\n",
    "find_mae_rmse(results['y_test'], results['Simple DNN Predictions'], 'Simple DNN')\n",
    "find_mae_rmse(results['y_test'], results['Complex DNN Predictions'], 'Complex DNN')\n",
    "\n",
    "results_df = pd.DataFrame(metric_results)\n",
    "\n",
    "sns.barplot(x=results_df.columns, y=results_df.loc['MAE'], palette=['red', 'blue', 'green'])\n",
    "plt.title('Mean Absolute Error Comparison')\n",
    "plt.ylabel('Mean Absolute Error')\n",
    "plt.show()\n",
    "\n",
    "sns.barplot(x=results_df.columns, y=results_df.loc['RMSE'], palette=['red', 'blue', 'green'])\n",
    "plt.title('Root Mean Squared Error Comparison')\n",
    "plt.ylabel('Root Mean Squared Error')\n",
    "plt.show()\n",
    "    "
   ]
  },
  {
   "cell_type": "markdown",
   "metadata": {},
   "source": [
    "## Conclusion\n",
    "We can see that despite the complexity of the Deep Learning models, they are performing worse than the Machine Learning model. This could be due to the small dataset and the simple structure of the data with few features. We can try to improve the performance of the models by adding more features and increasing the dataset size.\n",
    "\n",
    "Currently, the Machine Learning model is performing better than the Deep Learning models, so we can use the Machine Learning model for predicting the future prices of Agricultural Commodity."
   ]
  },
  {
   "cell_type": "markdown",
   "metadata": {},
   "source": [
    "## Training the DL Models on the complete dataset for all markets for further use"
   ]
  },
  {
   "cell_type": "code",
   "execution_count": 16,
   "metadata": {},
   "outputs": [
    {
     "name": "stdout",
     "output_type": "stream",
     "text": [
      "Training models for bengaluru market\n",
      "\n",
      "Training Simple Model\n",
      "Simple Model Training Time: 50.292906761169434 seconds\n",
      "MSE: 433128.6875, MAE: 512.0316772460938\n",
      "\n",
      "Training Complex Model\n",
      "Complex Model Training Time: 60.9610550403595 seconds\n",
      "MSE: 523302.34375, MAE: 591.9183959960938\n",
      "\n",
      "Training models for doddaballapur market\n",
      "\n",
      "Training Simple Model\n",
      "Simple Model Training Time: 16.190749645233154 seconds\n",
      "MSE: 279940.3125, MAE: 417.4197998046875\n",
      "\n",
      "Training Complex Model\n",
      "Complex Model Training Time: 38.0041880607605 seconds\n",
      "MSE: 280958.875, MAE: 409.6748352050781\n",
      "\n",
      "Training models for hubballi market\n",
      "\n",
      "Training Simple Model\n",
      "Simple Model Training Time: 42.221495389938354 seconds\n",
      "MSE: 401734.875, MAE: 444.78253173828125\n",
      "\n",
      "Training Complex Model\n",
      "Complex Model Training Time: 89.86281037330627 seconds\n",
      "MSE: 415361.53125, MAE: 447.55615234375\n",
      "\n",
      "Training models for mysuru market\n",
      "\n",
      "Training Simple Model\n",
      "Simple Model Training Time: 15.982365369796753 seconds\n",
      "MSE: 432154.34375, MAE: 535.3382568359375\n",
      "\n",
      "Training Complex Model\n",
      "Complex Model Training Time: 48.63047480583191 seconds\n",
      "MSE: 428252.1875, MAE: 533.5040283203125\n",
      "\n"
     ]
    }
   ],
   "source": [
    "from time import time\n",
    "# Training models for all markets on complete dataset\n",
    "markets = ['bengaluru', 'doddaballapur', 'hubballi', 'mysuru']\n",
    "for i, df in enumerate(all_df):\n",
    "    print(f'Training models for {markets[i]} market')\n",
    "    print()\n",
    "    \n",
    "    X = df.drop(columns=['Min', 'Max', 'Modal'])\n",
    "    Y = df[['Min', 'Max', 'Modal']]\n",
    "    \n",
    "    # Simple model\n",
    "    print('Training Simple Model')\n",
    "    time_start = time()\n",
    "    simple_model = build_simple_dnn_model((X.shape[1],))\n",
    "    history = simple_model.fit(X, Y, epochs=100, batch_size=32, verbose=0)\n",
    "    simple_model.save(f'DL_models/{markets[i]}/simple_model.keras')\n",
    "    loss, mse, mae = simple_model.evaluate(X, Y, verbose=0)\n",
    "    time_end = time()\n",
    "    print(f'Simple Model Training Time: {time_end - time_start} seconds')\n",
    "    print(f'MSE: {mse}, MAE: {mae}')\n",
    "    print()\n",
    "    \n",
    "    # Complex model\n",
    "    print('Training Complex Model')\n",
    "    time_start = time()\n",
    "    complex_model = build_advanced_dnn((X.shape[1],))\n",
    "    early_stopping = EarlyStopping(monitor='val_loss', patience=20, restore_best_weights=True)\n",
    "    # Randomize the data\n",
    "    X, Y = shuffle(X, Y, random_state=50)\n",
    "    history = complex_model.fit(X, Y, epochs=100, batch_size=32, validation_split=0.15, callbacks=[early_stopping], verbose=0)\n",
    "    complex_model.save(f'DL_models/{markets[i]}/complex_model.keras')\n",
    "    loss, mse, mae = complex_model.evaluate(X, Y, verbose=0)\n",
    "    time_end = time()\n",
    "    print(f'Complex Model Training Time: {time_end - time_start} seconds')\n",
    "    print(f'MSE: {mse}, MAE: {mae}')\n",
    "    print()"
   ]
  },
  {
   "cell_type": "markdown",
   "metadata": {},
   "source": [
    "We can see that for larger datasets, the complex model is performing a bit worse than the simple models. This is due to the fact that we are shuffling the data before splitting into validation and training sets. This is causing the model to learn the data in a different order than the data is present in the dataset."
   ]
  }
 ],
 "metadata": {
  "kernelspec": {
   "display_name": "Python 3",
   "language": "python",
   "name": "python3"
  },
  "language_info": {
   "codemirror_mode": {
    "name": "ipython",
    "version": 3
   },
   "file_extension": ".py",
   "mimetype": "text/x-python",
   "name": "python",
   "nbconvert_exporter": "python",
   "pygments_lexer": "ipython3",
   "version": "3.12.6"
  }
 },
 "nbformat": 4,
 "nbformat_minor": 2
}
